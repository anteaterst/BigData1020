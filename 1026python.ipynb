{
  "nbformat": 4,
  "nbformat_minor": 0,
  "metadata": {
    "colab": {
      "name": "1026python.ipynb",
      "provenance": [],
      "authorship_tag": "ABX9TyMm5RucFNCaYjMujSz+KrJ6",
      "include_colab_link": true
    },
    "kernelspec": {
      "name": "python3",
      "display_name": "Python 3"
    }
  },
  "cells": [
    {
      "cell_type": "markdown",
      "metadata": {
        "id": "view-in-github",
        "colab_type": "text"
      },
      "source": [
        "<a href=\"https://colab.research.google.com/github/anteaterst/BigDataStudy_All/blob/main/1026python.ipynb\" target=\"_parent\"><img src=\"https://colab.research.google.com/assets/colab-badge.svg\" alt=\"Open In Colab\"/></a>"
      ]
    },
    {
      "cell_type": "code",
      "metadata": {
        "id": "FGRht-eNbkNH",
        "outputId": "f51ae646-e7dd-44d7-bb17-3983c8930521",
        "colab": {
          "base_uri": "https://localhost:8080/",
          "height": 244
        }
      },
      "source": [
        "from datetime import datetime\n",
        "import pandas as pd\n",
        "now = datetime.now()\n",
        "\n",
        "now\n",
        "\n",
        "datetime.datetime(2017,9,25,14,5,52,72973)\n",
        "\n",
        "now.year, now.month, now.day "
      ],
      "execution_count": 49,
      "outputs": [
        {
          "output_type": "error",
          "ename": "AttributeError",
          "evalue": "ignored",
          "traceback": [
            "\u001b[0;31m---------------------------------------------------------------------------\u001b[0m",
            "\u001b[0;31mAttributeError\u001b[0m                            Traceback (most recent call last)",
            "\u001b[0;32m<ipython-input-49-6a138475fb00>\u001b[0m in \u001b[0;36m<module>\u001b[0;34m()\u001b[0m\n\u001b[1;32m      5\u001b[0m \u001b[0mnow\u001b[0m\u001b[0;34m\u001b[0m\u001b[0;34m\u001b[0m\u001b[0m\n\u001b[1;32m      6\u001b[0m \u001b[0;34m\u001b[0m\u001b[0m\n\u001b[0;32m----> 7\u001b[0;31m \u001b[0mdatetime\u001b[0m\u001b[0;34m.\u001b[0m\u001b[0mdatetime\u001b[0m\u001b[0;34m(\u001b[0m\u001b[0;36m2017\u001b[0m\u001b[0;34m,\u001b[0m\u001b[0;36m9\u001b[0m\u001b[0;34m,\u001b[0m\u001b[0;36m25\u001b[0m\u001b[0;34m,\u001b[0m\u001b[0;36m14\u001b[0m\u001b[0;34m,\u001b[0m\u001b[0;36m5\u001b[0m\u001b[0;34m,\u001b[0m\u001b[0;36m52\u001b[0m\u001b[0;34m,\u001b[0m\u001b[0;36m72973\u001b[0m\u001b[0;34m)\u001b[0m\u001b[0;34m\u001b[0m\u001b[0;34m\u001b[0m\u001b[0m\n\u001b[0m\u001b[1;32m      8\u001b[0m \u001b[0;34m\u001b[0m\u001b[0m\n\u001b[1;32m      9\u001b[0m \u001b[0mnow\u001b[0m\u001b[0;34m.\u001b[0m\u001b[0myear\u001b[0m\u001b[0;34m,\u001b[0m \u001b[0mnow\u001b[0m\u001b[0;34m.\u001b[0m\u001b[0mmonth\u001b[0m\u001b[0;34m,\u001b[0m \u001b[0mnow\u001b[0m\u001b[0;34m.\u001b[0m\u001b[0mday\u001b[0m\u001b[0;34m\u001b[0m\u001b[0;34m\u001b[0m\u001b[0m\n",
            "\u001b[0;31mAttributeError\u001b[0m: type object 'datetime.datetime' has no attribute 'datetime'"
          ]
        }
      ]
    },
    {
      "cell_type": "code",
      "metadata": {
        "id": "A3_34GC4eiDI",
        "outputId": "b98ed577-b43d-46d8-8983-db991b1f90fb",
        "colab": {
          "base_uri": "https://localhost:8080/",
          "height": 35
        }
      },
      "source": [
        "delta = datetime(2001,1,7)-datetime(2008,6,24,6,15)\n",
        "delta\n",
        "\n",
        "\n",
        "#datetime은 날짜와 시간을 모두 저장하여 마이너스초까지 지원한다\n",
        "#timedelta를 더하거나 빼면 그만큼의 시각이 datetime 개체에 적용되어 새로운 객체를 만들 수 있다.\n"
      ],
      "execution_count": 38,
      "outputs": [
        {
          "output_type": "execute_result",
          "data": {
            "text/plain": [
              "datetime.timedelta(-2726, 63900)"
            ]
          },
          "metadata": {
            "tags": []
          },
          "execution_count": 38
        }
      ]
    },
    {
      "cell_type": "code",
      "metadata": {
        "id": "lI8_lGNbewSA",
        "outputId": "3d7fec18-ef10-4a0b-d19c-77d4cf5ca652",
        "colab": {
          "base_uri": "https://localhost:8080/",
          "height": 35
        }
      },
      "source": [
        "delta.days"
      ],
      "execution_count": 39,
      "outputs": [
        {
          "output_type": "execute_result",
          "data": {
            "text/plain": [
              "-2726"
            ]
          },
          "metadata": {
            "tags": []
          },
          "execution_count": 39
        }
      ]
    },
    {
      "cell_type": "code",
      "metadata": {
        "id": "-A94SeKtfhqh",
        "outputId": "d7210562-f12b-4071-b034-aeebf99344da",
        "colab": {
          "base_uri": "https://localhost:8080/",
          "height": 35
        }
      },
      "source": [
        "delta.seconds"
      ],
      "execution_count": 40,
      "outputs": [
        {
          "output_type": "execute_result",
          "data": {
            "text/plain": [
              "63900"
            ]
          },
          "metadata": {
            "tags": []
          },
          "execution_count": 40
        }
      ]
    },
    {
      "cell_type": "code",
      "metadata": {
        "id": "wZTUQfjzfiSQ"
      },
      "source": [
        "from datetime import timedelta"
      ],
      "execution_count": 41,
      "outputs": []
    },
    {
      "cell_type": "code",
      "metadata": {
        "id": "Imqzg1PLgKOf"
      },
      "source": [
        "start = datetime(2011,1,7)\n"
      ],
      "execution_count": 42,
      "outputs": []
    },
    {
      "cell_type": "code",
      "metadata": {
        "id": "7ZVFweVygNpn",
        "outputId": "2f925244-8070-473e-b2f1-924218d841a0",
        "colab": {
          "base_uri": "https://localhost:8080/",
          "height": 35
        }
      },
      "source": [
        "start + timedelta(12)"
      ],
      "execution_count": 43,
      "outputs": [
        {
          "output_type": "execute_result",
          "data": {
            "text/plain": [
              "datetime.datetime(2011, 1, 19, 0, 0)"
            ]
          },
          "metadata": {
            "tags": []
          },
          "execution_count": 43
        }
      ]
    },
    {
      "cell_type": "code",
      "metadata": {
        "id": "g6TgSfxvgPIP",
        "outputId": "42b680f9-1b44-4006-ff3f-7138d748eac7",
        "colab": {
          "base_uri": "https://localhost:8080/",
          "height": 35
        }
      },
      "source": [
        "start -2 * timedelta(12)"
      ],
      "execution_count": 23,
      "outputs": [
        {
          "output_type": "execute_result",
          "data": {
            "text/plain": [
              "datetime.datetime(2010, 12, 14, 0, 0)"
            ]
          },
          "metadata": {
            "tags": []
          },
          "execution_count": 23
        }
      ]
    },
    {
      "cell_type": "code",
      "metadata": {
        "id": "0Qk3RVvdgQoH"
      },
      "source": [
        "# 실제 파이썬을 사용하면서 다양한곳에서 datetime 기반의 자료를 마주치게 될 것이다.\n",
        " "
      ],
      "execution_count": 24,
      "outputs": []
    },
    {
      "cell_type": "code",
      "metadata": {
        "id": "XRgWtTnJgtVQ"
      },
      "source": [
        "stamp = datetime(2001,1,3)"
      ],
      "execution_count": 25,
      "outputs": []
    },
    {
      "cell_type": "code",
      "metadata": {
        "id": "9bUkWE0GgvJv",
        "outputId": "9e0b6035-12f2-4bf2-ce3f-2bdc1dc4ce4c",
        "colab": {
          "base_uri": "https://localhost:8080/",
          "height": 35
        }
      },
      "source": [
        "str(stamp)"
      ],
      "execution_count": 26,
      "outputs": [
        {
          "output_type": "execute_result",
          "data": {
            "application/vnd.google.colaboratory.intrinsic+json": {
              "type": "string"
            },
            "text/plain": [
              "'2001-01-03 00:00:00'"
            ]
          },
          "metadata": {
            "tags": []
          },
          "execution_count": 26
        }
      ]
    },
    {
      "cell_type": "code",
      "metadata": {
        "id": "4xHQRhefgvt4",
        "outputId": "c587b889-aa61-47eb-d703-e4bfe2679188",
        "colab": {
          "base_uri": "https://localhost:8080/",
          "height": 35
        }
      },
      "source": [
        "stamp.strftime('%Y-%m-%d')"
      ],
      "execution_count": 27,
      "outputs": [
        {
          "output_type": "execute_result",
          "data": {
            "application/vnd.google.colaboratory.intrinsic+json": {
              "type": "string"
            },
            "text/plain": [
              "'2001-01-03'"
            ]
          },
          "metadata": {
            "tags": []
          },
          "execution_count": 27
        }
      ]
    },
    {
      "cell_type": "code",
      "metadata": {
        "id": "EOYKyFuRgyyo"
      },
      "source": [
        "from dateutil.parser import parse"
      ],
      "execution_count": 35,
      "outputs": []
    },
    {
      "cell_type": "code",
      "metadata": {
        "id": "E81hKBY_iLLY",
        "outputId": "95f17aab-08c0-439a-db15-87e3de4d5f8d",
        "colab": {
          "base_uri": "https://localhost:8080/",
          "height": 35
        }
      },
      "source": [
        "parse('2011-01-03')"
      ],
      "execution_count": 44,
      "outputs": [
        {
          "output_type": "execute_result",
          "data": {
            "text/plain": [
              "datetime.datetime(2011, 1, 3, 0, 0)"
            ]
          },
          "metadata": {
            "tags": []
          },
          "execution_count": 44
        }
      ]
    },
    {
      "cell_type": "code",
      "metadata": {
        "id": "XWB6FxX_iVL_",
        "outputId": "22ad6f41-2a15-4888-b718-2bcf8388684f",
        "colab": {
          "base_uri": "https://localhost:8080/",
          "height": 35
        }
      },
      "source": [
        "#dateutil은 거의 대부분의 사람이 인지하는 날짜 표현방식을 짜를 수 있다.\n",
        "parse('Jan 31, 1997 10:45 PM')"
      ],
      "execution_count": 46,
      "outputs": [
        {
          "output_type": "execute_result",
          "data": {
            "text/plain": [
              "datetime.datetime(1997, 1, 31, 22, 45)"
            ]
          },
          "metadata": {
            "tags": []
          },
          "execution_count": 46
        }
      ]
    },
    {
      "cell_type": "code",
      "metadata": {
        "id": "0sYC8_ftjexW",
        "outputId": "8f6aa73a-db7e-4ddc-fdd0-3ba37c9a7f40",
        "colab": {
          "base_uri": "https://localhost:8080/",
          "height": 35
        }
      },
      "source": [
        "parse('6/12/2011', dayfirst=True)"
      ],
      "execution_count": 47,
      "outputs": [
        {
          "output_type": "execute_result",
          "data": {
            "text/plain": [
              "datetime.datetime(2011, 12, 6, 0, 0)"
            ]
          },
          "metadata": {
            "tags": []
          },
          "execution_count": 47
        }
      ]
    },
    {
      "cell_type": "code",
      "metadata": {
        "id": "nx1UJTNojjlY"
      },
      "source": [
        "datestrs = ['2011-07-06 12:00:00','2011-08-06 00:00;00']\n"
      ],
      "execution_count": 51,
      "outputs": []
    },
    {
      "cell_type": "code",
      "metadata": {
        "id": "lklYX_nSjrVY"
      },
      "source": [
        "# 판다스는 일반적으로 DataFrame의 컬럼이나 출 색인으로 날짜가 감딘 베이스를 사용한다"
      ],
      "execution_count": 52,
      "outputs": []
    },
    {
      "cell_type": "code",
      "metadata": {
        "id": "OMP1XCyRjyNi"
      },
      "source": [
        "\n",
        "#누락된값으로 간주되어야 할 값도 처리해준다\n"
      ],
      "execution_count": 56,
      "outputs": []
    },
    {
      "cell_type": "code",
      "metadata": {
        "id": "L-JTDfyEnKTA"
      },
      "source": [
        "#시계열 기초\n",
        "\n",
        "from datetime import datetime\n",
        "import pandas as pd\n",
        "import numpy as np\n",
        "dates = [datetime(2011,1,2), datetime(2011,1,5),\n",
        "         datetime(2011,1,7), datetime(2011,1,8),\n",
        "         datetime(2011,1,10), datetime(2011,1,12)]\n"
      ],
      "execution_count": 63,
      "outputs": []
    },
    {
      "cell_type": "code",
      "metadata": {
        "id": "L981ozF9oer2"
      },
      "source": [
        "ts = pd.Series(np.random.randn(6), index=dates)"
      ],
      "execution_count": 64,
      "outputs": []
    },
    {
      "cell_type": "code",
      "metadata": {
        "id": "4sCd1KGToj73",
        "outputId": "2a38feab-391b-49f7-9f33-734c83aeb4f7",
        "colab": {
          "base_uri": "https://localhost:8080/",
          "height": 143
        }
      },
      "source": [
        "ts"
      ],
      "execution_count": 65,
      "outputs": [
        {
          "output_type": "execute_result",
          "data": {
            "text/plain": [
              "2011-01-02    1.204863\n",
              "2011-01-05    0.194440\n",
              "2011-01-07    0.662580\n",
              "2011-01-08    0.524608\n",
              "2011-01-10   -0.205891\n",
              "2011-01-12    1.924528\n",
              "dtype: float64"
            ]
          },
          "metadata": {
            "tags": []
          },
          "execution_count": 65
        }
      ]
    },
    {
      "cell_type": "code",
      "metadata": {
        "id": "-DdAJgyFokQo",
        "outputId": "07a4a5a1-3d95-48b3-e0b8-89438f65a6dd",
        "colab": {
          "base_uri": "https://localhost:8080/",
          "height": 71
        }
      },
      "source": [
        "ts.index"
      ],
      "execution_count": 66,
      "outputs": [
        {
          "output_type": "execute_result",
          "data": {
            "text/plain": [
              "DatetimeIndex(['2011-01-02', '2011-01-05', '2011-01-07', '2011-01-08',\n",
              "               '2011-01-10', '2011-01-12'],\n",
              "              dtype='datetime64[ns]', freq=None)"
            ]
          },
          "metadata": {
            "tags": []
          },
          "execution_count": 66
        }
      ]
    },
    {
      "cell_type": "code",
      "metadata": {
        "id": "nMiVoiq1ot__",
        "outputId": "f09e9c1a-fcd2-4c44-a48b-5e8b15b98f87",
        "colab": {
          "base_uri": "https://localhost:8080/",
          "height": 143
        }
      },
      "source": [
        "ts + ts[::2]"
      ],
      "execution_count": 67,
      "outputs": [
        {
          "output_type": "execute_result",
          "data": {
            "text/plain": [
              "2011-01-02    2.409725\n",
              "2011-01-05         NaN\n",
              "2011-01-07    1.325161\n",
              "2011-01-08         NaN\n",
              "2011-01-10   -0.411781\n",
              "2011-01-12         NaN\n",
              "dtype: float64"
            ]
          },
          "metadata": {
            "tags": []
          },
          "execution_count": 67
        }
      ]
    },
    {
      "cell_type": "code",
      "metadata": {
        "id": "9zoggoxSovKg",
        "outputId": "29e12780-39d6-4148-e4ae-aed88951721b",
        "colab": {
          "base_uri": "https://localhost:8080/",
          "height": 35
        }
      },
      "source": [
        "ts.index.dtype"
      ],
      "execution_count": 68,
      "outputs": [
        {
          "output_type": "execute_result",
          "data": {
            "text/plain": [
              "dtype('<M8[ns]')"
            ]
          },
          "metadata": {
            "tags": []
          },
          "execution_count": 68
        }
      ]
    },
    {
      "cell_type": "code",
      "metadata": {
        "id": "N_p0bx4qpTCf",
        "outputId": "6d1420f8-ee28-420a-a5ce-5d6f216575ee",
        "colab": {
          "base_uri": "https://localhost:8080/",
          "height": 35
        }
      },
      "source": [
        "stamp = ts.index[0]\n",
        "stamp"
      ],
      "execution_count": 69,
      "outputs": [
        {
          "output_type": "execute_result",
          "data": {
            "text/plain": [
              "Timestamp('2011-01-02 00:00:00')"
            ]
          },
          "metadata": {
            "tags": []
          },
          "execution_count": 69
        }
      ]
    },
    {
      "cell_type": "code",
      "metadata": {
        "id": "MSLHmr-zpU8_",
        "outputId": "705d431e-ca66-41b0-e401-72135b340815",
        "colab": {
          "base_uri": "https://localhost:8080/",
          "height": 35
        }
      },
      "source": [
        "stamp = ts.index[2]\n",
        "ts[stamp]"
      ],
      "execution_count": 70,
      "outputs": [
        {
          "output_type": "execute_result",
          "data": {
            "text/plain": [
              "0.6625802807548393"
            ]
          },
          "metadata": {
            "tags": []
          },
          "execution_count": 70
        }
      ]
    },
    {
      "cell_type": "code",
      "metadata": {
        "id": "_gjsRqx6pZxQ",
        "outputId": "a51285c8-a571-43e8-dfc7-7fb60b488dbc",
        "colab": {
          "base_uri": "https://localhost:8080/",
          "height": 35
        }
      },
      "source": [
        "ts['1/10/2011']"
      ],
      "execution_count": 71,
      "outputs": [
        {
          "output_type": "execute_result",
          "data": {
            "text/plain": [
              "-0.20589068306950933"
            ]
          },
          "metadata": {
            "tags": []
          },
          "execution_count": 71
        }
      ]
    },
    {
      "cell_type": "code",
      "metadata": {
        "id": "Zw3aLSfvpbEP",
        "outputId": "3a892f3b-254e-4d2f-97a0-c0368ac8681f",
        "colab": {
          "base_uri": "https://localhost:8080/",
          "height": 35
        }
      },
      "source": [
        "ts['20110110']"
      ],
      "execution_count": 72,
      "outputs": [
        {
          "output_type": "execute_result",
          "data": {
            "text/plain": [
              "-0.20589068306950933"
            ]
          },
          "metadata": {
            "tags": []
          },
          "execution_count": 72
        }
      ]
    },
    {
      "cell_type": "code",
      "metadata": {
        "id": "Nn2MtMf1pcBY"
      },
      "source": [
        "longer_ts = pd.Series(np.random.randn(1000),\n",
        "                      index=pd.date_range('1/1/2000',periods=1000))"
      ],
      "execution_count": 73,
      "outputs": []
    },
    {
      "cell_type": "code",
      "metadata": {
        "id": "RefhBeMepiTw",
        "outputId": "c7822bbd-8866-4f27-ef4a-326abfdc2464",
        "colab": {
          "base_uri": "https://localhost:8080/",
          "height": 233
        }
      },
      "source": [
        "longer_ts"
      ],
      "execution_count": 75,
      "outputs": [
        {
          "output_type": "execute_result",
          "data": {
            "text/plain": [
              "2000-01-01   -2.180111\n",
              "2000-01-02    1.430968\n",
              "2000-01-03    0.127794\n",
              "2000-01-04   -1.036016\n",
              "2000-01-05   -1.079127\n",
              "                ...   \n",
              "2002-09-22   -1.145229\n",
              "2002-09-23    0.689471\n",
              "2002-09-24    0.296830\n",
              "2002-09-25   -0.109317\n",
              "2002-09-26    0.212273\n",
              "Freq: D, Length: 1000, dtype: float64"
            ]
          },
          "metadata": {
            "tags": []
          },
          "execution_count": 75
        }
      ]
    },
    {
      "cell_type": "code",
      "metadata": {
        "id": "111U4HzKpi4o",
        "outputId": "4637f37b-028d-4c27-b0c1-5c34fd63d859",
        "colab": {
          "base_uri": "https://localhost:8080/",
          "height": 233
        }
      },
      "source": [
        "#Timestamps 는 datetime 객체를 사용하는 어떤 곳에서도 대체사용이 가능하다 \n",
        "#게다가 가능하다면 빈도에 관한 정보도 저장하며 시간대 반환을 하는 방법과 다른종류의 조작을 하는 방법도 포함되어 있다.\n",
        "\n",
        "\n",
        "\n",
        "#색인, 선택, 부분선택\n",
        "\n",
        "# 시계열은 라벨에 기반해서 데이터를 선택하고 인덱싱 할때 pandas에 Serise와 동일하게 동작한다.\n",
        "\n",
        "longer_ts['2001']"
      ],
      "execution_count": 80,
      "outputs": [
        {
          "output_type": "execute_result",
          "data": {
            "text/plain": [
              "2001-01-01    0.320993\n",
              "2001-01-02   -0.625744\n",
              "2001-01-03   -1.389948\n",
              "2001-01-04    0.683681\n",
              "2001-01-05   -0.655271\n",
              "                ...   \n",
              "2001-12-27   -0.467350\n",
              "2001-12-28    1.493268\n",
              "2001-12-29    0.265807\n",
              "2001-12-30    2.605430\n",
              "2001-12-31   -0.055346\n",
              "Freq: D, Length: 365, dtype: float64"
            ]
          },
          "metadata": {
            "tags": []
          },
          "execution_count": 80
        }
      ]
    },
    {
      "cell_type": "code",
      "metadata": {
        "id": "wYBUmzBNrwi9",
        "outputId": "b010948a-bf3f-4b19-b924-e821b6df5069",
        "colab": {
          "base_uri": "https://localhost:8080/",
          "height": 593
        }
      },
      "source": [
        "longer_ts['2001-05']"
      ],
      "execution_count": 81,
      "outputs": [
        {
          "output_type": "execute_result",
          "data": {
            "text/plain": [
              "2001-05-01   -1.524175\n",
              "2001-05-02   -0.915473\n",
              "2001-05-03    0.181435\n",
              "2001-05-04   -0.850959\n",
              "2001-05-05   -0.780429\n",
              "2001-05-06    0.607879\n",
              "2001-05-07    0.493054\n",
              "2001-05-08    3.286240\n",
              "2001-05-09   -0.297184\n",
              "2001-05-10   -0.261210\n",
              "2001-05-11    0.679015\n",
              "2001-05-12   -1.633531\n",
              "2001-05-13    1.140410\n",
              "2001-05-14    0.605803\n",
              "2001-05-15    1.723424\n",
              "2001-05-16    0.135647\n",
              "2001-05-17   -1.037198\n",
              "2001-05-18    0.338245\n",
              "2001-05-19    0.238049\n",
              "2001-05-20    1.172568\n",
              "2001-05-21    0.473090\n",
              "2001-05-22   -1.619204\n",
              "2001-05-23    0.063113\n",
              "2001-05-24    0.017085\n",
              "2001-05-25    1.538761\n",
              "2001-05-26   -0.098797\n",
              "2001-05-27   -0.691097\n",
              "2001-05-28    0.934747\n",
              "2001-05-29   -3.113619\n",
              "2001-05-30   -1.707967\n",
              "2001-05-31   -0.346646\n",
              "Freq: D, dtype: float64"
            ]
          },
          "metadata": {
            "tags": []
          },
          "execution_count": 81
        }
      ]
    },
    {
      "cell_type": "code",
      "metadata": {
        "id": "GrDViyCGryJk",
        "outputId": "136f1472-7ebb-4e27-ed02-b2a462db3b19",
        "colab": {
          "base_uri": "https://localhost:8080/",
          "height": 107
        }
      },
      "source": [
        "ts[datetime(2011,1,7):]"
      ],
      "execution_count": 82,
      "outputs": [
        {
          "output_type": "execute_result",
          "data": {
            "text/plain": [
              "2011-01-07    0.662580\n",
              "2011-01-08    0.524608\n",
              "2011-01-10   -0.205891\n",
              "2011-01-12    1.924528\n",
              "dtype: float64"
            ]
          },
          "metadata": {
            "tags": []
          },
          "execution_count": 82
        }
      ]
    },
    {
      "cell_type": "code",
      "metadata": {
        "id": "9Vk9MdYkr1r8",
        "outputId": "01f01c78-8b59-428b-ed34-46a3ab09c328",
        "colab": {
          "base_uri": "https://localhost:8080/",
          "height": 143
        }
      },
      "source": [
        "ts \n",
        "\n",
        "## 대부분의 시계열 데이터는 연대순으로 정렬되기 때문에 범위를 지정하기 위해서 \n",
        "##시계열에 포함하지 않고 타임스탬스를 이용해서 Seriese를 나눌 수 있다 \n",
        "\n",
        "\n",
        "##앞에서와 같이 날짜 문자열이나 datetime혹은 타임스탬프를 넘길 수 있다. 이런 방식으로 데이터를 나누게 되면 Numpy 배열을 나누는 것처럼 \n",
        "##원본 시계열에 대한 객체를 생성한다는 사실을 기억하자 즉 데이터 복사가 발생하지않고 슬라이스 에 대한 변경이 원본데이터에 반영된다."
      ],
      "execution_count": 83,
      "outputs": [
        {
          "output_type": "execute_result",
          "data": {
            "text/plain": [
              "2011-01-02    1.204863\n",
              "2011-01-05    0.194440\n",
              "2011-01-07    0.662580\n",
              "2011-01-08    0.524608\n",
              "2011-01-10   -0.205891\n",
              "2011-01-12    1.924528\n",
              "dtype: float64"
            ]
          },
          "metadata": {
            "tags": []
          },
          "execution_count": 83
        }
      ]
    },
    {
      "cell_type": "code",
      "metadata": {
        "id": "RF9AAT4yr2IT",
        "outputId": "69b2076b-e19f-4191-9ffd-5548233e1153",
        "colab": {
          "base_uri": "https://localhost:8080/",
          "height": 89
        }
      },
      "source": [
        "\n",
        "ts['1/6/2011' : '1/11/2011']"
      ],
      "execution_count": 84,
      "outputs": [
        {
          "output_type": "execute_result",
          "data": {
            "text/plain": [
              "2011-01-07    0.662580\n",
              "2011-01-08    0.524608\n",
              "2011-01-10   -0.205891\n",
              "dtype: float64"
            ]
          },
          "metadata": {
            "tags": []
          },
          "execution_count": 84
        }
      ]
    },
    {
      "cell_type": "code",
      "metadata": {
        "id": "eLq6-yU6r5W8"
      },
      "source": [
        "## 중복된 색인을 갖는 시계열\n",
        "#어떤 애플리케이션에는 ㅇ러 데이터가 특정 타임스탬스에 몰려있는 것을 볼 수 있다\n",
        "#is_unique 속성을 통해 확인해보면 색인이 유일하지 않음을 알 수 있다.\n",
        "\n",
        "# 유일하지 않은 타임스탬스를 가지는 데이터를 집계한다고 가정해보자 한가지 방법은 groupby에\n",
        "# level=0단일 단계 인덱싱을 넘기는 것이다.\n",
        "\n"
      ],
      "execution_count": 85,
      "outputs": []
    },
    {
      "cell_type": "code",
      "metadata": {
        "id": "SJ31_DhwvUpa",
        "outputId": "ba1e12e9-d9ee-4d11-866a-4b8c8c5fd038",
        "colab": {
          "base_uri": "https://localhost:8080/",
          "height": 89
        }
      },
      "source": [
        "dates = pd.DatetimeIndex(['1/1/2000','1/2/2000','/1/2/2000','1/2/2000','1/3/2000'])\n",
        "\n",
        "\n",
        "dup_ts = pd.Series(np.arange(5), index=dates)\n",
        "\n",
        "dup_ts\n",
        "\n",
        "dup_ts.index.is_unique\n",
        "dup_ts['1/3/2000']\n",
        "dup_ts['1/2/2000']\n"
      ],
      "execution_count": 89,
      "outputs": [
        {
          "output_type": "execute_result",
          "data": {
            "text/plain": [
              "2000-01-02    1\n",
              "2000-01-02    2\n",
              "2000-01-02    3\n",
              "dtype: int64"
            ]
          },
          "metadata": {
            "tags": []
          },
          "execution_count": 89
        }
      ]
    },
    {
      "cell_type": "code",
      "metadata": {
        "id": "nvR0k4H1vX6Y",
        "outputId": "feed7b08-5024-4b10-ba1a-21e78209412e",
        "colab": {
          "base_uri": "https://localhost:8080/",
          "height": 89
        }
      },
      "source": [
        "\n",
        "grouped = dup_ts.groupby(level=0)\n",
        "grouped.mean()"
      ],
      "execution_count": 88,
      "outputs": [
        {
          "output_type": "execute_result",
          "data": {
            "text/plain": [
              "2000-01-01    0\n",
              "2000-01-02    2\n",
              "2000-01-03    4\n",
              "dtype: int64"
            ]
          },
          "metadata": {
            "tags": []
          },
          "execution_count": 88
        }
      ]
    },
    {
      "cell_type": "code",
      "metadata": {
        "id": "X9m3Yxa_vu5h",
        "outputId": "916e943b-e479-4d50-9306-f7f0ad9d75d0",
        "colab": {
          "base_uri": "https://localhost:8080/",
          "height": 89
        }
      },
      "source": [
        "grouped.count()"
      ],
      "execution_count": 90,
      "outputs": [
        {
          "output_type": "execute_result",
          "data": {
            "text/plain": [
              "2000-01-01    1\n",
              "2000-01-02    3\n",
              "2000-01-03    1\n",
              "dtype: int64"
            ]
          },
          "metadata": {
            "tags": []
          },
          "execution_count": 90
        }
      ]
    },
    {
      "cell_type": "code",
      "metadata": {
        "id": "VbutARfQvyK4",
        "outputId": "fd01770a-442c-4648-8b2b-8941d376898b",
        "colab": {
          "base_uri": "https://localhost:8080/",
          "height": 143
        }
      },
      "source": [
        "#판다스에서 일반적인 시계열은 불규칙적인 것으로 간주한다. 즉, 그것은 고정된 빈도를 갖지 않는다.\n",
        "ts"
      ],
      "execution_count": 91,
      "outputs": [
        {
          "output_type": "execute_result",
          "data": {
            "text/plain": [
              "2011-01-02    1.204863\n",
              "2011-01-05    0.194440\n",
              "2011-01-07    0.662580\n",
              "2011-01-08    0.524608\n",
              "2011-01-10   -0.205891\n",
              "2011-01-12    1.924528\n",
              "dtype: float64"
            ]
          },
          "metadata": {
            "tags": []
          },
          "execution_count": 91
        }
      ]
    },
    {
      "cell_type": "code",
      "metadata": {
        "id": "drvyjCuxv4Jm"
      },
      "source": [
        "# 날짜 범위, 빈도, 이동\n",
        "\n",
        "\n",
        "## 판다스에서 일반적인 시계열은 불규칙적인 것으로 고정된 빈도를 갖지 않는다 대부분의 애플레이션에서 이것은 충분하다. 하지만 시계열 안에서\n",
        "# 누락된 값이 발생할지라도 일별 월별 혹은 매 15분과 같은 상대적인 고정빈도에서의 자업이 요구되는 경우가 종종있다.\n",
        "#다행하게도 pandas에는 리샘플링,표준 시계열빈도모음, 빈도추론 그리고 고정된 빈도의 날짜범위를 위한 도구가 있다. \n",
        "##빈도간의 변환이나 리샘플링은 큰 주제이므로 다음에 미루자"
      ],
      "execution_count": 92,
      "outputs": []
    },
    {
      "cell_type": "code",
      "metadata": {
        "id": "TBdnSsTX1eLH"
      },
      "source": [
        "#날짜 범위 생성하기 \n",
        "\n",
        "#앞에서는 설명없이 그냥 사용했는데 pandas.date_range를 사용하면 특정빈도에따라 ..\n",
        "\n",
        "\n",
        "\n",
        "#기분적으로 date_range는 일별 타임스탬프를 생성한다. 만약 시작날짜나 종료 날짜만 넘긴다면 생성할 기간의 숫자를 함께 전달해야만 한다.\n",
        "\n",
        "\n",
        "\n",
        "#시작과 종료 날짜는 생성된 날짜 생인에 대해 엄격한 경계를 정의한다 예를 들면 날짜\n",
        "# 색인이 각월의 마지막 영업일을 포함하도록 하고싶다면 빈도값으로 BM을 전달할 것이다. \n",
        "#그러면 이 기간안에 들어오는 날짜들만 포함된다.\n"
      ],
      "execution_count": 93,
      "outputs": []
    },
    {
      "cell_type": "code",
      "metadata": {
        "id": "k2y8dktX1n8f",
        "outputId": "4cfa08f5-de94-4893-fbbd-635b03ac59cd",
        "colab": {
          "base_uri": "https://localhost:8080/",
          "height": 323
        }
      },
      "source": [
        "index = pd.date_range('2012-04-01','2012-06-01')\n",
        "index"
      ],
      "execution_count": 94,
      "outputs": [
        {
          "output_type": "execute_result",
          "data": {
            "text/plain": [
              "DatetimeIndex(['2012-04-01', '2012-04-02', '2012-04-03', '2012-04-04',\n",
              "               '2012-04-05', '2012-04-06', '2012-04-07', '2012-04-08',\n",
              "               '2012-04-09', '2012-04-10', '2012-04-11', '2012-04-12',\n",
              "               '2012-04-13', '2012-04-14', '2012-04-15', '2012-04-16',\n",
              "               '2012-04-17', '2012-04-18', '2012-04-19', '2012-04-20',\n",
              "               '2012-04-21', '2012-04-22', '2012-04-23', '2012-04-24',\n",
              "               '2012-04-25', '2012-04-26', '2012-04-27', '2012-04-28',\n",
              "               '2012-04-29', '2012-04-30', '2012-05-01', '2012-05-02',\n",
              "               '2012-05-03', '2012-05-04', '2012-05-05', '2012-05-06',\n",
              "               '2012-05-07', '2012-05-08', '2012-05-09', '2012-05-10',\n",
              "               '2012-05-11', '2012-05-12', '2012-05-13', '2012-05-14',\n",
              "               '2012-05-15', '2012-05-16', '2012-05-17', '2012-05-18',\n",
              "               '2012-05-19', '2012-05-20', '2012-05-21', '2012-05-22',\n",
              "               '2012-05-23', '2012-05-24', '2012-05-25', '2012-05-26',\n",
              "               '2012-05-27', '2012-05-28', '2012-05-29', '2012-05-30',\n",
              "               '2012-05-31', '2012-06-01'],\n",
              "              dtype='datetime64[ns]', freq='D')"
            ]
          },
          "metadata": {
            "tags": []
          },
          "execution_count": 94
        }
      ]
    },
    {
      "cell_type": "code",
      "metadata": {
        "id": "H7U3253A1rGf",
        "outputId": "c249216d-6d2f-4bcb-a42d-b714d85dda69",
        "colab": {
          "base_uri": "https://localhost:8080/",
          "height": 125
        }
      },
      "source": [
        "pd.date_range(start='2012-04-01', periods=20)\n"
      ],
      "execution_count": 95,
      "outputs": [
        {
          "output_type": "execute_result",
          "data": {
            "text/plain": [
              "DatetimeIndex(['2012-04-01', '2012-04-02', '2012-04-03', '2012-04-04',\n",
              "               '2012-04-05', '2012-04-06', '2012-04-07', '2012-04-08',\n",
              "               '2012-04-09', '2012-04-10', '2012-04-11', '2012-04-12',\n",
              "               '2012-04-13', '2012-04-14', '2012-04-15', '2012-04-16',\n",
              "               '2012-04-17', '2012-04-18', '2012-04-19', '2012-04-20'],\n",
              "              dtype='datetime64[ns]', freq='D')"
            ]
          },
          "metadata": {
            "tags": []
          },
          "execution_count": 95
        }
      ]
    },
    {
      "cell_type": "code",
      "metadata": {
        "id": "_k3XMRdt1uU_",
        "outputId": "1d553d1d-29df-4a97-cd73-acc631460de8",
        "colab": {
          "base_uri": "https://localhost:8080/",
          "height": 89
        }
      },
      "source": [
        "pd.date_range(end='2012-06-01', periods=20)\n",
        "pd.date_range('2000-01-01','2000-12-01', freq='BM')\n",
        "\n",
        "\n",
        "#가끔은 시간정보를 포함해서 시작날짜와종료 날짜를 갖고있는데 관례에 따라 자정에 맞추어 타임스탬프를 정규화하고싶다\n"
      ],
      "execution_count": 100,
      "outputs": [
        {
          "output_type": "execute_result",
          "data": {
            "text/plain": [
              "DatetimeIndex(['2000-01-31', '2000-02-29', '2000-03-31', '2000-04-28',\n",
              "               '2000-05-31', '2000-06-30', '2000-07-31', '2000-08-31',\n",
              "               '2000-09-29', '2000-10-31', '2000-11-30'],\n",
              "              dtype='datetime64[ns]', freq='BM')"
            ]
          },
          "metadata": {
            "tags": []
          },
          "execution_count": 100
        }
      ]
    },
    {
      "cell_type": "code",
      "metadata": {
        "id": "8ihpoMUn15D_",
        "outputId": "e0ca70d6-0474-4d1d-863c-1d33850ed1f8",
        "colab": {
          "base_uri": "https://localhost:8080/",
          "height": 89
        }
      },
      "source": [
        "pd.date_range('2012-05-02 12:56:31', periods=5)"
      ],
      "execution_count": 101,
      "outputs": [
        {
          "output_type": "execute_result",
          "data": {
            "text/plain": [
              "DatetimeIndex(['2012-05-02 12:56:31', '2012-05-03 12:56:31',\n",
              "               '2012-05-04 12:56:31', '2012-05-05 12:56:31',\n",
              "               '2012-05-06 12:56:31'],\n",
              "              dtype='datetime64[ns]', freq='D')"
            ]
          },
          "metadata": {
            "tags": []
          },
          "execution_count": 101
        }
      ]
    },
    {
      "cell_type": "code",
      "metadata": {
        "id": "F2viD_2p18Uv",
        "outputId": "7725d9eb-7661-4f0d-ff36-faaa31cb267c",
        "colab": {
          "base_uri": "https://localhost:8080/",
          "height": 71
        }
      },
      "source": [
        "pd.date_range('2012-05-02 12:56:31', periods=5, normalize=True)"
      ],
      "execution_count": 102,
      "outputs": [
        {
          "output_type": "execute_result",
          "data": {
            "text/plain": [
              "DatetimeIndex(['2012-05-02', '2012-05-03', '2012-05-04', '2012-05-05',\n",
              "               '2012-05-06'],\n",
              "              dtype='datetime64[ns]', freq='D')"
            ]
          },
          "metadata": {
            "tags": []
          },
          "execution_count": 102
        }
      ]
    },
    {
      "cell_type": "code",
      "metadata": {
        "id": "7NNkFzkb3Pge",
        "outputId": "0800b73c-46b1-4293-9e8d-dc92807bd254",
        "colab": {
          "base_uri": "https://localhost:8080/",
          "height": 35
        }
      },
      "source": [
        "# 빈도와 날짜 옵셋\n",
        "\n",
        "from pandas.tseries.offsets import Hour, Minute\n",
        "hour = Hour()\n",
        "\n",
        "hour"
      ],
      "execution_count": 103,
      "outputs": [
        {
          "output_type": "execute_result",
          "data": {
            "text/plain": [
              "<Hour>"
            ]
          },
          "metadata": {
            "tags": []
          },
          "execution_count": 103
        }
      ]
    },
    {
      "cell_type": "code",
      "metadata": {
        "id": "Dd5ZIuXt3Unf",
        "outputId": "988e7f67-eee2-450d-e845-cb3c83eada35",
        "colab": {
          "base_uri": "https://localhost:8080/",
          "height": 35
        }
      },
      "source": [
        "four_hours = Hour(4)\n",
        "four_hours"
      ],
      "execution_count": 104,
      "outputs": [
        {
          "output_type": "execute_result",
          "data": {
            "text/plain": [
              "<4 * Hours>"
            ]
          },
          "metadata": {
            "tags": []
          },
          "execution_count": 104
        }
      ]
    },
    {
      "cell_type": "code",
      "metadata": {
        "id": "enCf5vzy4RAX",
        "outputId": "bf406165-c431-4e14-ca08-ffe19727b9aa",
        "colab": {
          "base_uri": "https://localhost:8080/",
          "height": 197
        }
      },
      "source": [
        "pd.date_range('2000-01-01', '2000-01-03 23:59', freq='4h')"
      ],
      "execution_count": 105,
      "outputs": [
        {
          "output_type": "execute_result",
          "data": {
            "text/plain": [
              "DatetimeIndex(['2000-01-01 00:00:00', '2000-01-01 04:00:00',\n",
              "               '2000-01-01 08:00:00', '2000-01-01 12:00:00',\n",
              "               '2000-01-01 16:00:00', '2000-01-01 20:00:00',\n",
              "               '2000-01-02 00:00:00', '2000-01-02 04:00:00',\n",
              "               '2000-01-02 08:00:00', '2000-01-02 12:00:00',\n",
              "               '2000-01-02 16:00:00', '2000-01-02 20:00:00',\n",
              "               '2000-01-03 00:00:00', '2000-01-03 04:00:00',\n",
              "               '2000-01-03 08:00:00', '2000-01-03 12:00:00',\n",
              "               '2000-01-03 16:00:00', '2000-01-03 20:00:00'],\n",
              "              dtype='datetime64[ns]', freq='4H')"
            ]
          },
          "metadata": {
            "tags": []
          },
          "execution_count": 105
        }
      ]
    },
    {
      "cell_type": "code",
      "metadata": {
        "id": "nwLhuDVz4uDf",
        "outputId": "94b3245f-f151-40f0-b95e-e5ec999a9a96",
        "colab": {
          "base_uri": "https://localhost:8080/",
          "height": 35
        }
      },
      "source": [
        "Hour(2) + Minute(30)"
      ],
      "execution_count": 106,
      "outputs": [
        {
          "output_type": "execute_result",
          "data": {
            "text/plain": [
              "<150 * Minutes>"
            ]
          },
          "metadata": {
            "tags": []
          },
          "execution_count": 106
        }
      ]
    },
    {
      "cell_type": "code",
      "metadata": {
        "id": "tBepexNV4wef",
        "outputId": "d70af63e-2633-497b-f3c8-d6e87316b220",
        "colab": {
          "base_uri": "https://localhost:8080/",
          "height": 125
        }
      },
      "source": [
        "pd.date_range('2000-01-01', periods=10, freq='1h30min')"
      ],
      "execution_count": 107,
      "outputs": [
        {
          "output_type": "execute_result",
          "data": {
            "text/plain": [
              "DatetimeIndex(['2000-01-01 00:00:00', '2000-01-01 01:30:00',\n",
              "               '2000-01-01 03:00:00', '2000-01-01 04:30:00',\n",
              "               '2000-01-01 06:00:00', '2000-01-01 07:30:00',\n",
              "               '2000-01-01 09:00:00', '2000-01-01 10:30:00',\n",
              "               '2000-01-01 12:00:00', '2000-01-01 13:30:00'],\n",
              "              dtype='datetime64[ns]', freq='90T')"
            ]
          },
          "metadata": {
            "tags": []
          },
          "execution_count": 107
        }
      ]
    },
    {
      "cell_type": "code",
      "metadata": {
        "id": "KTNrIWKg40cv",
        "outputId": "504a32f9-c606-40bc-cede-dfc01abfa673",
        "colab": {
          "base_uri": "https://localhost:8080/",
          "height": 161
        }
      },
      "source": [
        "rng = pd.date_range('2012-01-01','2012-09-01', freq='WOM-3FRI')\n",
        "list(rng)"
      ],
      "execution_count": 108,
      "outputs": [
        {
          "output_type": "execute_result",
          "data": {
            "text/plain": [
              "[Timestamp('2012-01-20 00:00:00', freq='WOM-3FRI'),\n",
              " Timestamp('2012-02-17 00:00:00', freq='WOM-3FRI'),\n",
              " Timestamp('2012-03-16 00:00:00', freq='WOM-3FRI'),\n",
              " Timestamp('2012-04-20 00:00:00', freq='WOM-3FRI'),\n",
              " Timestamp('2012-05-18 00:00:00', freq='WOM-3FRI'),\n",
              " Timestamp('2012-06-15 00:00:00', freq='WOM-3FRI'),\n",
              " Timestamp('2012-07-20 00:00:00', freq='WOM-3FRI'),\n",
              " Timestamp('2012-08-17 00:00:00', freq='WOM-3FRI')]"
            ]
          },
          "metadata": {
            "tags": []
          },
          "execution_count": 108
        }
      ]
    },
    {
      "cell_type": "code",
      "metadata": {
        "id": "pbZLg4c646hX"
      },
      "source": [
        "# 대부분의 애플리케이션에서는 이런 객체들을 직접만들어야 할 경우는 절대 없다. 대신 H또는 4H처럼 문자열로 표현하게 된다\n",
        "\n",
        "\n"
      ],
      "execution_count": 109,
      "outputs": []
    },
    {
      "cell_type": "code",
      "metadata": {
        "id": "Xchk6QEX6uqX",
        "outputId": "4f86cf49-d853-462b-ec19-ee34b0829c83",
        "colab": {
          "base_uri": "https://localhost:8080/",
          "height": 107
        }
      },
      "source": [
        "#데이터 시프트 \n",
        "\n",
        "\n",
        "#시프트는 데이터를 시간축에서 앞이나 뒤로 이동하는 것을 \n",
        "#의미한다. Series와 DaraGrame는 색인은 변경하지 않고 데이터를 앞이나 뒤로 느슨한 시프트를 수행하는 shift 매서드를 가지고있다. \n",
        "\n",
        "ts = pd.Series(np.random.randn(4),\n",
        "              index=pd.date_range('1/1/2000',periods=4,freq='M'))\n",
        "ts"
      ],
      "execution_count": 111,
      "outputs": [
        {
          "output_type": "execute_result",
          "data": {
            "text/plain": [
              "2000-01-31    0.730779\n",
              "2000-02-29   -0.019384\n",
              "2000-03-31   -1.199285\n",
              "2000-04-30   -0.293651\n",
              "Freq: M, dtype: float64"
            ]
          },
          "metadata": {
            "tags": []
          },
          "execution_count": 111
        }
      ]
    },
    {
      "cell_type": "code",
      "metadata": {
        "id": "auuZzeIj6-yQ",
        "outputId": "46dd77b2-6e0c-4d55-cf76-1600b6a72e06",
        "colab": {
          "base_uri": "https://localhost:8080/",
          "height": 107
        }
      },
      "source": [
        "ts.shift(2)"
      ],
      "execution_count": 112,
      "outputs": [
        {
          "output_type": "execute_result",
          "data": {
            "text/plain": [
              "2000-01-31         NaN\n",
              "2000-02-29         NaN\n",
              "2000-03-31    0.730779\n",
              "2000-04-30   -0.019384\n",
              "Freq: M, dtype: float64"
            ]
          },
          "metadata": {
            "tags": []
          },
          "execution_count": 112
        }
      ]
    },
    {
      "cell_type": "code",
      "metadata": {
        "id": "xZi3fYaL7CdH",
        "outputId": "49302c4a-44ad-4a18-98e1-e047d886b0c8",
        "colab": {
          "base_uri": "https://localhost:8080/",
          "height": 107
        }
      },
      "source": [
        "ts.shift(-2)"
      ],
      "execution_count": 113,
      "outputs": [
        {
          "output_type": "execute_result",
          "data": {
            "text/plain": [
              "2000-01-31   -1.199285\n",
              "2000-02-29   -0.293651\n",
              "2000-03-31         NaN\n",
              "2000-04-30         NaN\n",
              "Freq: M, dtype: float64"
            ]
          },
          "metadata": {
            "tags": []
          },
          "execution_count": 113
        }
      ]
    },
    {
      "cell_type": "code",
      "metadata": {
        "id": "7_5DPUgC7DVH",
        "outputId": "425d8c64-b0df-4fce-d949-d6b20e276972",
        "colab": {
          "base_uri": "https://localhost:8080/",
          "height": 107
        }
      },
      "source": [
        "ts / ts.shift(1) - 1"
      ],
      "execution_count": 114,
      "outputs": [
        {
          "output_type": "execute_result",
          "data": {
            "text/plain": [
              "2000-01-31          NaN\n",
              "2000-02-29    -1.026525\n",
              "2000-03-31    60.869867\n",
              "2000-04-30    -0.755145\n",
              "Freq: M, dtype: float64"
            ]
          },
          "metadata": {
            "tags": []
          },
          "execution_count": 114
        }
      ]
    },
    {
      "cell_type": "code",
      "metadata": {
        "id": "bfDUzesA7F1u",
        "outputId": "19903575-739b-453a-a158-eeaa5c47d33d",
        "colab": {
          "base_uri": "https://localhost:8080/",
          "height": 107
        }
      },
      "source": [
        "ts.shift(2, freq='M')"
      ],
      "execution_count": 115,
      "outputs": [
        {
          "output_type": "execute_result",
          "data": {
            "text/plain": [
              "2000-03-31    0.730779\n",
              "2000-04-30   -0.019384\n",
              "2000-05-31   -1.199285\n",
              "2000-06-30   -0.293651\n",
              "Freq: M, dtype: float64"
            ]
          },
          "metadata": {
            "tags": []
          },
          "execution_count": 115
        }
      ]
    },
    {
      "cell_type": "code",
      "metadata": {
        "id": "-7PaCOoC7HWP",
        "outputId": "d18bf99e-1a3e-429b-babd-0a0689265d81",
        "colab": {
          "base_uri": "https://localhost:8080/",
          "height": 107
        }
      },
      "source": [
        "#느슨한 시프트는 색인을 바꾸지 않기 때문에 어떤 데이터는 버려지기도 한다. \n",
        "#그래서 만약 빈도를 알고 있다면 shift에 빈도를 넘겨서 타임스탬프가 확장되도록 할 수 있다.\n",
        "#다른 빈도를 넘겨도 되는데 이를 통해 아주 유연하게 테이블을 밀거나 당기는 작업을 할 수 있다 .\n",
        "\n",
        "\n",
        "\n",
        "ts.shift(3, freq='D')\n",
        "ts.shift(1, freq='90T')\n",
        "\n"
      ],
      "execution_count": 116,
      "outputs": [
        {
          "output_type": "execute_result",
          "data": {
            "text/plain": [
              "2000-01-31 01:30:00    0.730779\n",
              "2000-02-29 01:30:00   -0.019384\n",
              "2000-03-31 01:30:00   -1.199285\n",
              "2000-04-30 01:30:00   -0.293651\n",
              "dtype: float64"
            ]
          },
          "metadata": {
            "tags": []
          },
          "execution_count": 116
        }
      ]
    },
    {
      "cell_type": "code",
      "metadata": {
        "id": "Goms01iB7Lu3"
      },
      "source": [
        "# 오프셋 만큼 날짜 시프트하기 \n",
        "\n",
        "#판다스의 날짜 옵셋은 datetime이나 timestamp 객체에서도 사용할 수 있다.\n",
        "# 만약에 MonthEnd같은 앵커드 오프셋을 추가한다면 빈도 규칙의 다음날짜로 rollforward 된다 .\n",
        "\n",
        "from pandas.tseries.offsets import Day, MonthEnd\n",
        "now =datetime(2011,11 ,17)"
      ],
      "execution_count": 117,
      "outputs": []
    },
    {
      "cell_type": "code",
      "metadata": {
        "id": "WHGavoR-77J3",
        "outputId": "14bc6086-a17d-4c9d-c8d7-6da78b6de56b",
        "colab": {
          "base_uri": "https://localhost:8080/",
          "height": 35
        }
      },
      "source": [
        "now + 3 * Day()"
      ],
      "execution_count": 118,
      "outputs": [
        {
          "output_type": "execute_result",
          "data": {
            "text/plain": [
              "Timestamp('2011-11-20 00:00:00')"
            ]
          },
          "metadata": {
            "tags": []
          },
          "execution_count": 118
        }
      ]
    },
    {
      "cell_type": "code",
      "metadata": {
        "id": "z_U8WE2i9UHg",
        "outputId": "3504684d-da5e-481e-dcf4-e7431d19d6de",
        "colab": {
          "base_uri": "https://localhost:8080/",
          "height": 35
        }
      },
      "source": [
        "now + MonthEnd()"
      ],
      "execution_count": 119,
      "outputs": [
        {
          "output_type": "execute_result",
          "data": {
            "text/plain": [
              "Timestamp('2011-11-30 00:00:00')"
            ]
          },
          "metadata": {
            "tags": []
          },
          "execution_count": 119
        }
      ]
    },
    {
      "cell_type": "code",
      "metadata": {
        "id": "06iBHABr9VI3",
        "outputId": "8cbab467-b939-431f-8ac4-91e2823a1852",
        "colab": {
          "base_uri": "https://localhost:8080/",
          "height": 35
        }
      },
      "source": [
        "now + MonthEnd(2)"
      ],
      "execution_count": 120,
      "outputs": [
        {
          "output_type": "execute_result",
          "data": {
            "text/plain": [
              "Timestamp('2011-12-31 00:00:00')"
            ]
          },
          "metadata": {
            "tags": []
          },
          "execution_count": 120
        }
      ]
    },
    {
      "cell_type": "code",
      "metadata": {
        "id": "nbFNVy-_9WDX"
      },
      "source": [
        "offset = MonthEnd()"
      ],
      "execution_count": 121,
      "outputs": []
    },
    {
      "cell_type": "code",
      "metadata": {
        "id": "uGjODkqn9XWn",
        "outputId": "c687d6ae-a54c-4fa8-ea61-25e466e6c860",
        "colab": {
          "base_uri": "https://localhost:8080/",
          "height": 35
        }
      },
      "source": [
        "offset.rollforward(now)"
      ],
      "execution_count": 122,
      "outputs": [
        {
          "output_type": "execute_result",
          "data": {
            "text/plain": [
              "Timestamp('2011-11-30 00:00:00')"
            ]
          },
          "metadata": {
            "tags": []
          },
          "execution_count": 122
        }
      ]
    },
    {
      "cell_type": "code",
      "metadata": {
        "id": "fe5OTiqE9Yfn",
        "outputId": "5600f3a0-f087-4380-d28f-43dc510dfdd4",
        "colab": {
          "base_uri": "https://localhost:8080/",
          "height": 35
        }
      },
      "source": [
        "offset.rollback(now)"
      ],
      "execution_count": 124,
      "outputs": [
        {
          "output_type": "execute_result",
          "data": {
            "text/plain": [
              "Timestamp('2011-10-31 00:00:00')"
            ]
          },
          "metadata": {
            "tags": []
          },
          "execution_count": 124
        }
      ]
    },
    {
      "cell_type": "code",
      "metadata": {
        "id": "91nawbcu9Z5n",
        "outputId": "5268fa4e-d56d-4304-8f20-fb112235a731",
        "colab": {
          "base_uri": "https://localhost:8080/",
          "height": 395
        }
      },
      "source": [
        "ts = pd.Series(np.random.randn(20),\n",
        "               index=pd.date_range('1/15/2000',periods=20,freq='4d'))\n",
        "ts"
      ],
      "execution_count": 128,
      "outputs": [
        {
          "output_type": "execute_result",
          "data": {
            "text/plain": [
              "2000-01-15   -0.967100\n",
              "2000-01-19   -0.563481\n",
              "2000-01-23   -0.754163\n",
              "2000-01-27    0.712350\n",
              "2000-01-31    0.150552\n",
              "2000-02-04    2.168914\n",
              "2000-02-08    1.152074\n",
              "2000-02-12   -0.473599\n",
              "2000-02-16   -0.977794\n",
              "2000-02-20   -0.336409\n",
              "2000-02-24   -0.953707\n",
              "2000-02-28    0.433028\n",
              "2000-03-03    0.021680\n",
              "2000-03-07    0.901220\n",
              "2000-03-11   -0.847711\n",
              "2000-03-15    0.319158\n",
              "2000-03-19   -0.365434\n",
              "2000-03-23    0.710866\n",
              "2000-03-27   -0.978130\n",
              "2000-03-31    0.472384\n",
              "Freq: 4D, dtype: float64"
            ]
          },
          "metadata": {
            "tags": []
          },
          "execution_count": 128
        }
      ]
    },
    {
      "cell_type": "code",
      "metadata": {
        "id": "18c0r-qS9hku",
        "outputId": "4e321064-7c2a-4878-f490-d2005a6867c6",
        "colab": {
          "base_uri": "https://localhost:8080/",
          "height": 89
        }
      },
      "source": [
        "ts.groupby(offset.rollforward).mean()\n",
        "\n"
      ],
      "execution_count": 129,
      "outputs": [
        {
          "output_type": "execute_result",
          "data": {
            "text/plain": [
              "2000-01-31   -0.284368\n",
              "2000-02-29    0.144644\n",
              "2000-03-31    0.029254\n",
              "dtype: float64"
            ]
          },
          "metadata": {
            "tags": []
          },
          "execution_count": 129
        }
      ]
    },
    {
      "cell_type": "code",
      "metadata": {
        "id": "wWcD1jKQ-uMd",
        "outputId": "dd7104aa-2c80-4bcd-f064-debd535d7229",
        "colab": {
          "base_uri": "https://localhost:8080/",
          "height": 89
        }
      },
      "source": [
        "ts.resample('M').mean()"
      ],
      "execution_count": 130,
      "outputs": [
        {
          "output_type": "execute_result",
          "data": {
            "text/plain": [
              "2000-01-31   -0.284368\n",
              "2000-02-29    0.144644\n",
              "2000-03-31    0.029254\n",
              "Freq: M, dtype: float64"
            ]
          },
          "metadata": {
            "tags": []
          },
          "execution_count": 130
        }
      ]
    },
    {
      "cell_type": "code",
      "metadata": {
        "id": "abHBuiKv-vsX"
      },
      "source": [
        ""
      ],
      "execution_count": null,
      "outputs": []
    }
  ]
}