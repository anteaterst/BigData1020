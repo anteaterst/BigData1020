{
  "nbformat": 4,
  "nbformat_minor": 0,
  "metadata": {
    "colab": {
      "name": "1027Python.ipynb",
      "provenance": [],
      "authorship_tag": "ABX9TyOVMqODjTMUKp5wu8GVHZ8C",
      "include_colab_link": true
    },
    "kernelspec": {
      "name": "python3",
      "display_name": "Python 3"
    }
  },
  "cells": [
    {
      "cell_type": "markdown",
      "metadata": {
        "id": "view-in-github",
        "colab_type": "text"
      },
      "source": [
        "<a href=\"https://colab.research.google.com/github/anteaterst/BigDataStudy_All/blob/main/1027Python.ipynb\" target=\"_parent\"><img src=\"https://colab.research.google.com/assets/colab-badge.svg\" alt=\"Open In Colab\"/></a>"
      ]
    },
    {
      "cell_type": "code",
      "metadata": {
        "id": "DIxH0IG1kokf",
        "outputId": "ddc5154b-705b-4634-90bf-410197c7789f",
        "colab": {
          "base_uri": "https://localhost:8080/",
          "height": 35
        }
      },
      "source": [
        "#파이썬에서 시간대정보는 전세계의 시간대 정보를 모앙둔 올슨 데이터베이스를 담고있는 라이브러리가 pytz라이브러리다\n",
        "\n",
        "\n",
        "import pytz\n",
        "import pandas as pd\n",
        "import numpy as np\n",
        "\n",
        "pytz.common_timezones[-5:]"
      ],
      "execution_count": 17,
      "outputs": [
        {
          "output_type": "execute_result",
          "data": {
            "text/plain": [
              "['US/Eastern', 'US/Hawaii', 'US/Mountain', 'US/Pacific', 'UTC']"
            ]
          },
          "metadata": {
            "tags": []
          },
          "execution_count": 17
        }
      ]
    },
    {
      "cell_type": "code",
      "metadata": {
        "id": "Lh_fZWyqkxzV"
      },
      "source": [
        "tz = pytz.timezone('America/New_York')"
      ],
      "execution_count": 18,
      "outputs": []
    },
    {
      "cell_type": "code",
      "metadata": {
        "id": "LKKb5Dt_k3Ye",
        "outputId": "eb14285c-93ed-4d0b-8b59-268a7a97192e",
        "colab": {
          "base_uri": "https://localhost:8080/",
          "height": 35
        }
      },
      "source": [
        "tz"
      ],
      "execution_count": 19,
      "outputs": [
        {
          "output_type": "execute_result",
          "data": {
            "text/plain": [
              "<DstTzInfo 'America/New_York' LMT-1 day, 19:04:00 STD>"
            ]
          },
          "metadata": {
            "tags": []
          },
          "execution_count": 19
        }
      ]
    },
    {
      "cell_type": "code",
      "metadata": {
        "id": "SaPIsO_0k4sW"
      },
      "source": [
        "#판다스의 메서드에서는 시간대 이름이나 객체를 모두 사용할 수 있지만 \n",
        "#시간대 이름을 사용하길 권장한다 \n"
      ],
      "execution_count": 20,
      "outputs": []
    },
    {
      "cell_type": "code",
      "metadata": {
        "id": "NW81XIEUlk4m",
        "outputId": "4b7b3838-8c68-407f-ea25-fad83838eedd",
        "colab": {
          "base_uri": "https://localhost:8080/",
          "height": 143
        }
      },
      "source": [
        "rng = pd.date_range('3/9/2012 9:30', periods=6, freq='D')\n",
        "ts = pd.Series(np.random.randn(len(rng)), index=rng)\n",
        "\n",
        "ts"
      ],
      "execution_count": 21,
      "outputs": [
        {
          "output_type": "execute_result",
          "data": {
            "text/plain": [
              "2012-03-09 09:30:00   -1.229031\n",
              "2012-03-10 09:30:00    1.774981\n",
              "2012-03-11 09:30:00    2.114994\n",
              "2012-03-12 09:30:00   -1.577806\n",
              "2012-03-13 09:30:00    0.309325\n",
              "2012-03-14 09:30:00    0.717671\n",
              "Freq: D, dtype: float64"
            ]
          },
          "metadata": {
            "tags": []
          },
          "execution_count": 21
        }
      ]
    },
    {
      "cell_type": "code",
      "metadata": {
        "id": "JXzSkVWaltRG",
        "outputId": "7710f59d-25b7-48ad-d2c0-8e9eb53712b6",
        "colab": {
          "base_uri": "https://localhost:8080/",
          "height": 35
        }
      },
      "source": [
        "print(ts.index.tz)"
      ],
      "execution_count": 22,
      "outputs": [
        {
          "output_type": "stream",
          "text": [
            "None\n"
          ],
          "name": "stdout"
        }
      ]
    },
    {
      "cell_type": "code",
      "metadata": {
        "id": "i-5GAbLol0rm",
        "outputId": "3e291913-58b7-4632-ecd4-c14d9aa20531",
        "colab": {
          "base_uri": "https://localhost:8080/",
          "height": 143
        }
      },
      "source": [
        "ts"
      ],
      "execution_count": 24,
      "outputs": [
        {
          "output_type": "execute_result",
          "data": {
            "text/plain": [
              "2012-03-09 09:30:00   -1.229031\n",
              "2012-03-10 09:30:00    1.774981\n",
              "2012-03-11 09:30:00    2.114994\n",
              "2012-03-12 09:30:00   -1.577806\n",
              "2012-03-13 09:30:00    0.309325\n",
              "2012-03-14 09:30:00    0.717671\n",
              "Freq: D, dtype: float64"
            ]
          },
          "metadata": {
            "tags": []
          },
          "execution_count": 24
        }
      ]
    },
    {
      "cell_type": "code",
      "metadata": {
        "id": "jshLGQnInnGW"
      },
      "source": [
        "ts_utc = ts.tz_localize('UTC')"
      ],
      "execution_count": 27,
      "outputs": []
    },
    {
      "cell_type": "code",
      "metadata": {
        "id": "9P3wi4s0nvKm",
        "outputId": "08be4505-0c05-4487-c273-f449ff73883f",
        "colab": {
          "base_uri": "https://localhost:8080/",
          "height": 143
        }
      },
      "source": [
        "ts_utc"
      ],
      "execution_count": 28,
      "outputs": [
        {
          "output_type": "execute_result",
          "data": {
            "text/plain": [
              "2012-03-09 09:30:00+00:00   -1.229031\n",
              "2012-03-10 09:30:00+00:00    1.774981\n",
              "2012-03-11 09:30:00+00:00    2.114994\n",
              "2012-03-12 09:30:00+00:00   -1.577806\n",
              "2012-03-13 09:30:00+00:00    0.309325\n",
              "2012-03-14 09:30:00+00:00    0.717671\n",
              "Freq: D, dtype: float64"
            ]
          },
          "metadata": {
            "tags": []
          },
          "execution_count": 28
        }
      ]
    },
    {
      "cell_type": "code",
      "metadata": {
        "id": "9avH-GENnwIG",
        "outputId": "b3faf589-446f-4260-9fbd-3e42d8fec277",
        "colab": {
          "base_uri": "https://localhost:8080/",
          "height": 89
        }
      },
      "source": [
        "ts_utc.index"
      ],
      "execution_count": 29,
      "outputs": [
        {
          "output_type": "execute_result",
          "data": {
            "text/plain": [
              "DatetimeIndex(['2012-03-09 09:30:00+00:00', '2012-03-10 09:30:00+00:00',\n",
              "               '2012-03-11 09:30:00+00:00', '2012-03-12 09:30:00+00:00',\n",
              "               '2012-03-13 09:30:00+00:00', '2012-03-14 09:30:00+00:00'],\n",
              "              dtype='datetime64[ns, UTC]', freq='D')"
            ]
          },
          "metadata": {
            "tags": []
          },
          "execution_count": 29
        }
      ]
    },
    {
      "cell_type": "code",
      "metadata": {
        "id": "t0jE_e4Xnz4W",
        "outputId": "19d8b887-ea8e-4d85-a73c-48c15ca45690",
        "colab": {
          "base_uri": "https://localhost:8080/",
          "height": 143
        }
      },
      "source": [
        "ts_utc.tz_convert('America/New_York')\n",
        "\n",
        "# 위 식열의 경우 America/New_York 시간대에서 일광절약시간을 사용하고 있는데 \n",
        "# 동부 표준시로 맞춘다음 UTC혹은 베를릭 시간대로 변환할 수 있다 \n"
      ],
      "execution_count": 30,
      "outputs": [
        {
          "output_type": "execute_result",
          "data": {
            "text/plain": [
              "2012-03-09 04:30:00-05:00   -1.229031\n",
              "2012-03-10 04:30:00-05:00    1.774981\n",
              "2012-03-11 05:30:00-04:00    2.114994\n",
              "2012-03-12 05:30:00-04:00   -1.577806\n",
              "2012-03-13 05:30:00-04:00    0.309325\n",
              "2012-03-14 05:30:00-04:00    0.717671\n",
              "Freq: D, dtype: float64"
            ]
          },
          "metadata": {
            "tags": []
          },
          "execution_count": 30
        }
      ]
    },
    {
      "cell_type": "code",
      "metadata": {
        "id": "FXw7iO01n2xe"
      },
      "source": [
        "ts_eastern = ts.tz_localize('America/New_York')"
      ],
      "execution_count": 33,
      "outputs": []
    },
    {
      "cell_type": "code",
      "metadata": {
        "id": "9Y0QqeLkn5zm",
        "outputId": "15a625ef-9a55-4dad-c4fa-00e18aadb5b7",
        "colab": {
          "base_uri": "https://localhost:8080/",
          "height": 143
        }
      },
      "source": [
        "ts_eastern.tz_convert('UTC')"
      ],
      "execution_count": 34,
      "outputs": [
        {
          "output_type": "execute_result",
          "data": {
            "text/plain": [
              "2012-03-09 14:30:00+00:00   -1.229031\n",
              "2012-03-10 14:30:00+00:00    1.774981\n",
              "2012-03-11 13:30:00+00:00    2.114994\n",
              "2012-03-12 13:30:00+00:00   -1.577806\n",
              "2012-03-13 13:30:00+00:00    0.309325\n",
              "2012-03-14 13:30:00+00:00    0.717671\n",
              "dtype: float64"
            ]
          },
          "metadata": {
            "tags": []
          },
          "execution_count": 34
        }
      ]
    },
    {
      "cell_type": "code",
      "metadata": {
        "id": "cWFMaOXfn78e",
        "outputId": "76449dda-6fb2-478c-cb0b-78da96781876",
        "colab": {
          "base_uri": "https://localhost:8080/",
          "height": 35
        }
      },
      "source": [
        "p = pd.Period(2007, freq='A-DEC')\n",
        "p"
      ],
      "execution_count": 36,
      "outputs": [
        {
          "output_type": "execute_result",
          "data": {
            "text/plain": [
              "Period('2007', 'A-DEC')"
            ]
          },
          "metadata": {
            "tags": []
          },
          "execution_count": 36
        }
      ]
    },
    {
      "cell_type": "code",
      "metadata": {
        "id": "ri74T1IAox7e",
        "outputId": "1fcfc50d-f29c-479f-b4ed-f48158b7d779",
        "colab": {
          "base_uri": "https://localhost:8080/",
          "height": 35
        }
      },
      "source": [
        "# 만약 두 기간이 같은 빈도를 가진다면 두 기간의 차는 둘 사이의 간격이 된다\n",
        "#일반적인 기간 범위는 period_range 함수로 생성할 수 있다 .\n",
        "\n",
        "\n",
        "p + 5"
      ],
      "execution_count": 37,
      "outputs": [
        {
          "output_type": "execute_result",
          "data": {
            "text/plain": [
              "Period('2012', 'A-DEC')"
            ]
          },
          "metadata": {
            "tags": []
          },
          "execution_count": 37
        }
      ]
    },
    {
      "cell_type": "code",
      "metadata": {
        "id": "ok1LJvrtpr9P",
        "outputId": "e984cab8-2944-407a-a816-1a9a76430226",
        "colab": {
          "base_uri": "https://localhost:8080/",
          "height": 35
        }
      },
      "source": [
        "p - 2"
      ],
      "execution_count": 38,
      "outputs": [
        {
          "output_type": "execute_result",
          "data": {
            "text/plain": [
              "Period('2005', 'A-DEC')"
            ]
          },
          "metadata": {
            "tags": []
          },
          "execution_count": 38
        }
      ]
    },
    {
      "cell_type": "code",
      "metadata": {
        "id": "oBr66lKtptRH",
        "outputId": "8bce6d9e-3ba3-46a7-dcaf-a8a5284dd8e9",
        "colab": {
          "base_uri": "https://localhost:8080/",
          "height": 35
        }
      },
      "source": [
        "pd.Period('2014',freq='A-DEC') -p"
      ],
      "execution_count": 39,
      "outputs": [
        {
          "output_type": "execute_result",
          "data": {
            "text/plain": [
              "<7 * YearEnds: month=12>"
            ]
          },
          "metadata": {
            "tags": []
          },
          "execution_count": 39
        }
      ]
    },
    {
      "cell_type": "code",
      "metadata": {
        "id": "K0ik3LcDpvwv"
      },
      "source": [
        "rng = pd.period_range('2000-01-01', '2000-06-30',freq='M')"
      ],
      "execution_count": 42,
      "outputs": []
    },
    {
      "cell_type": "code",
      "metadata": {
        "id": "fkS4UcZ6p3on",
        "outputId": "dd26bcb9-2b09-4bd8-dcb7-f5cc27a4efd4",
        "colab": {
          "base_uri": "https://localhost:8080/",
          "height": 35
        }
      },
      "source": [
        "rng"
      ],
      "execution_count": 43,
      "outputs": [
        {
          "output_type": "execute_result",
          "data": {
            "text/plain": [
              "PeriodIndex(['2000-01', '2000-02', '2000-03', '2000-04', '2000-05', '2000-06'], dtype='period[M]', freq='M')"
            ]
          },
          "metadata": {
            "tags": []
          },
          "execution_count": 43
        }
      ]
    },
    {
      "cell_type": "code",
      "metadata": {
        "id": "gb8mx_ovp4E3",
        "outputId": "16b617fa-870d-4597-f238-9f98354de865",
        "colab": {
          "base_uri": "https://localhost:8080/",
          "height": 143
        }
      },
      "source": [
        "pd.Series(np.random.randn(6), index=rng)"
      ],
      "execution_count": 44,
      "outputs": [
        {
          "output_type": "execute_result",
          "data": {
            "text/plain": [
              "2000-01    0.538671\n",
              "2000-02   -1.235386\n",
              "2000-03   -0.195567\n",
              "2000-04    0.475336\n",
              "2000-05    1.594554\n",
              "2000-06    1.054819\n",
              "Freq: M, dtype: float64"
            ]
          },
          "metadata": {
            "tags": []
          },
          "execution_count": 44
        }
      ]
    },
    {
      "cell_type": "code",
      "metadata": {
        "id": "LpvyBFyBp9Zv",
        "outputId": "6a27b515-04f8-4ca4-9009-393f3a0c3114",
        "colab": {
          "base_uri": "https://localhost:8080/",
          "height": 35
        }
      },
      "source": [
        "values = ['2001Q3','2002Q2','2003Q1']\n",
        "index = pd.PeriodIndex(values, freq='Q-DEC')\n",
        "index\n",
        "\n",
        "\n",
        "#문자열 배열을 이용해서 Periodindex 클래스를 생성한다. "
      ],
      "execution_count": 46,
      "outputs": [
        {
          "output_type": "execute_result",
          "data": {
            "text/plain": [
              "PeriodIndex(['2001Q3', '2002Q2', '2003Q1'], dtype='period[Q-DEC]', freq='Q-DEC')"
            ]
          },
          "metadata": {
            "tags": []
          },
          "execution_count": 46
        }
      ]
    },
    {
      "cell_type": "code",
      "metadata": {
        "id": "2PYBv8lDqEsf"
      },
      "source": [
        "#타임 스탬프와 기간 변환하기\n",
        "#타임 스탬프로 색인된 Seires와 DataFrame 객체는 to_Period메서드를 사용해서 기간으로 변환 가능 \n",
        "\n",
        "\n",
        "#여기서 말하는 기간은 겹치지 않는 시간상의 간격을 뜻한다 \n"
      ],
      "execution_count": 47,
      "outputs": []
    },
    {
      "cell_type": "code",
      "metadata": {
        "id": "zS5-urqUwPuT"
      },
      "source": [
        "## 배열로 PeriodIndex 생성 \n",
        "\n",
        "#고정된 빈도를 갖는 데이터는 종종 여러컬럼에 걸쳐 기간에 대한 정보를 함께 저장하기도 한다.\n"
      ],
      "execution_count": 48,
      "outputs": []
    },
    {
      "cell_type": "code",
      "metadata": {
        "id": "g33DmtyDwXZf",
        "outputId": "bf090bb7-9257-4662-9f3e-ad5308a1be5c",
        "colab": {
          "base_uri": "https://localhost:8080/",
          "height": 224
        }
      },
      "source": [
        "data = pd.read_csv('macrodata.csv')\n",
        "\n",
        "data.head(5)\n"
      ],
      "execution_count": 49,
      "outputs": [
        {
          "output_type": "execute_result",
          "data": {
            "text/html": [
              "<div>\n",
              "<style scoped>\n",
              "    .dataframe tbody tr th:only-of-type {\n",
              "        vertical-align: middle;\n",
              "    }\n",
              "\n",
              "    .dataframe tbody tr th {\n",
              "        vertical-align: top;\n",
              "    }\n",
              "\n",
              "    .dataframe thead th {\n",
              "        text-align: right;\n",
              "    }\n",
              "</style>\n",
              "<table border=\"1\" class=\"dataframe\">\n",
              "  <thead>\n",
              "    <tr style=\"text-align: right;\">\n",
              "      <th></th>\n",
              "      <th>year</th>\n",
              "      <th>quarter</th>\n",
              "      <th>realgdp</th>\n",
              "      <th>realcons</th>\n",
              "      <th>realinv</th>\n",
              "      <th>realgovt</th>\n",
              "      <th>realdpi</th>\n",
              "      <th>cpi</th>\n",
              "      <th>m1</th>\n",
              "      <th>tbilrate</th>\n",
              "      <th>unemp</th>\n",
              "      <th>pop</th>\n",
              "      <th>infl</th>\n",
              "      <th>realint</th>\n",
              "    </tr>\n",
              "  </thead>\n",
              "  <tbody>\n",
              "    <tr>\n",
              "      <th>0</th>\n",
              "      <td>1959.0</td>\n",
              "      <td>1.0</td>\n",
              "      <td>2710.349</td>\n",
              "      <td>1707.4</td>\n",
              "      <td>286.898</td>\n",
              "      <td>470.045</td>\n",
              "      <td>1886.9</td>\n",
              "      <td>28.98</td>\n",
              "      <td>139.7</td>\n",
              "      <td>2.82</td>\n",
              "      <td>5.8</td>\n",
              "      <td>177.146</td>\n",
              "      <td>0.00</td>\n",
              "      <td>0.00</td>\n",
              "    </tr>\n",
              "    <tr>\n",
              "      <th>1</th>\n",
              "      <td>1959.0</td>\n",
              "      <td>2.0</td>\n",
              "      <td>2778.801</td>\n",
              "      <td>1733.7</td>\n",
              "      <td>310.859</td>\n",
              "      <td>481.301</td>\n",
              "      <td>1919.7</td>\n",
              "      <td>29.15</td>\n",
              "      <td>141.7</td>\n",
              "      <td>3.08</td>\n",
              "      <td>5.1</td>\n",
              "      <td>177.830</td>\n",
              "      <td>2.34</td>\n",
              "      <td>0.74</td>\n",
              "    </tr>\n",
              "    <tr>\n",
              "      <th>2</th>\n",
              "      <td>1959.0</td>\n",
              "      <td>3.0</td>\n",
              "      <td>2775.488</td>\n",
              "      <td>1751.8</td>\n",
              "      <td>289.226</td>\n",
              "      <td>491.260</td>\n",
              "      <td>1916.4</td>\n",
              "      <td>29.35</td>\n",
              "      <td>140.5</td>\n",
              "      <td>3.82</td>\n",
              "      <td>5.3</td>\n",
              "      <td>178.657</td>\n",
              "      <td>2.74</td>\n",
              "      <td>1.09</td>\n",
              "    </tr>\n",
              "    <tr>\n",
              "      <th>3</th>\n",
              "      <td>1959.0</td>\n",
              "      <td>4.0</td>\n",
              "      <td>2785.204</td>\n",
              "      <td>1753.7</td>\n",
              "      <td>299.356</td>\n",
              "      <td>484.052</td>\n",
              "      <td>1931.3</td>\n",
              "      <td>29.37</td>\n",
              "      <td>140.0</td>\n",
              "      <td>4.33</td>\n",
              "      <td>5.6</td>\n",
              "      <td>179.386</td>\n",
              "      <td>0.27</td>\n",
              "      <td>4.06</td>\n",
              "    </tr>\n",
              "    <tr>\n",
              "      <th>4</th>\n",
              "      <td>1960.0</td>\n",
              "      <td>1.0</td>\n",
              "      <td>2847.699</td>\n",
              "      <td>1770.5</td>\n",
              "      <td>331.722</td>\n",
              "      <td>462.199</td>\n",
              "      <td>1955.5</td>\n",
              "      <td>29.54</td>\n",
              "      <td>139.6</td>\n",
              "      <td>3.50</td>\n",
              "      <td>5.2</td>\n",
              "      <td>180.007</td>\n",
              "      <td>2.31</td>\n",
              "      <td>1.19</td>\n",
              "    </tr>\n",
              "  </tbody>\n",
              "</table>\n",
              "</div>"
            ],
            "text/plain": [
              "     year  quarter   realgdp  realcons  ...  unemp      pop  infl  realint\n",
              "0  1959.0      1.0  2710.349    1707.4  ...    5.8  177.146  0.00     0.00\n",
              "1  1959.0      2.0  2778.801    1733.7  ...    5.1  177.830  2.34     0.74\n",
              "2  1959.0      3.0  2775.488    1751.8  ...    5.3  178.657  2.74     1.09\n",
              "3  1959.0      4.0  2785.204    1753.7  ...    5.6  179.386  0.27     4.06\n",
              "4  1960.0      1.0  2847.699    1770.5  ...    5.2  180.007  2.31     1.19\n",
              "\n",
              "[5 rows x 14 columns]"
            ]
          },
          "metadata": {
            "tags": []
          },
          "execution_count": 49
        }
      ]
    },
    {
      "cell_type": "code",
      "metadata": {
        "id": "y5hVDhh9wjNf",
        "outputId": "a450db80-6ec3-447d-f204-a31fb3fcaf05",
        "colab": {
          "base_uri": "https://localhost:8080/",
          "height": 233
        }
      },
      "source": [
        "data.year"
      ],
      "execution_count": 50,
      "outputs": [
        {
          "output_type": "execute_result",
          "data": {
            "text/plain": [
              "0      1959.0\n",
              "1      1959.0\n",
              "2      1959.0\n",
              "3      1959.0\n",
              "4      1960.0\n",
              "        ...  \n",
              "198    2008.0\n",
              "199    2008.0\n",
              "200    2009.0\n",
              "201    2009.0\n",
              "202    2009.0\n",
              "Name: year, Length: 203, dtype: float64"
            ]
          },
          "metadata": {
            "tags": []
          },
          "execution_count": 50
        }
      ]
    },
    {
      "cell_type": "code",
      "metadata": {
        "id": "-h-v6Z36wke4",
        "outputId": "fe6854be-1f07-4876-d857-254540da487a",
        "colab": {
          "base_uri": "https://localhost:8080/",
          "height": 233
        }
      },
      "source": [
        "data.quarter"
      ],
      "execution_count": 51,
      "outputs": [
        {
          "output_type": "execute_result",
          "data": {
            "text/plain": [
              "0      1.0\n",
              "1      2.0\n",
              "2      3.0\n",
              "3      4.0\n",
              "4      1.0\n",
              "      ... \n",
              "198    3.0\n",
              "199    4.0\n",
              "200    1.0\n",
              "201    2.0\n",
              "202    3.0\n",
              "Name: quarter, Length: 203, dtype: float64"
            ]
          },
          "metadata": {
            "tags": []
          },
          "execution_count": 51
        }
      ]
    },
    {
      "cell_type": "code",
      "metadata": {
        "id": "zL2iFl5fwlPI"
      },
      "source": [
        "index = pd.PeriodIndex(year=data.year, quarter=data.quarter, freq='Q-DEC')"
      ],
      "execution_count": 54,
      "outputs": []
    },
    {
      "cell_type": "code",
      "metadata": {
        "id": "OkLnPRaJwr7_",
        "outputId": "272c0845-bbad-4e09-8e07-3577ff116373",
        "colab": {
          "base_uri": "https://localhost:8080/",
          "height": 125
        }
      },
      "source": [
        "index"
      ],
      "execution_count": 55,
      "outputs": [
        {
          "output_type": "execute_result",
          "data": {
            "text/plain": [
              "PeriodIndex(['1959Q1', '1959Q2', '1959Q3', '1959Q4', '1960Q1', '1960Q2',\n",
              "             '1960Q3', '1960Q4', '1961Q1', '1961Q2',\n",
              "             ...\n",
              "             '2007Q2', '2007Q3', '2007Q4', '2008Q1', '2008Q2', '2008Q3',\n",
              "             '2008Q4', '2009Q1', '2009Q2', '2009Q3'],\n",
              "            dtype='period[Q-DEC]', length=203, freq='Q-DEC')"
            ]
          },
          "metadata": {
            "tags": []
          },
          "execution_count": 55
        }
      ]
    },
    {
      "cell_type": "code",
      "metadata": {
        "id": "-A9bh9LZwsdo"
      },
      "source": [
        "data.index = index"
      ],
      "execution_count": 56,
      "outputs": []
    },
    {
      "cell_type": "code",
      "metadata": {
        "id": "nxNItUp3wwrv",
        "outputId": "c84e6cb1-5fe1-400f-daad-b191ffc586a8",
        "colab": {
          "base_uri": "https://localhost:8080/",
          "height": 233
        }
      },
      "source": [
        "data.infl"
      ],
      "execution_count": 57,
      "outputs": [
        {
          "output_type": "execute_result",
          "data": {
            "text/plain": [
              "1959Q1    0.00\n",
              "1959Q2    2.34\n",
              "1959Q3    2.74\n",
              "1959Q4    0.27\n",
              "1960Q1    2.31\n",
              "          ... \n",
              "2008Q3   -3.16\n",
              "2008Q4   -8.79\n",
              "2009Q1    0.94\n",
              "2009Q2    3.37\n",
              "2009Q3    3.56\n",
              "Freq: Q-DEC, Name: infl, Length: 203, dtype: float64"
            ]
          },
          "metadata": {
            "tags": []
          },
          "execution_count": 57
        }
      ]
    },
    {
      "cell_type": "code",
      "metadata": {
        "id": "0GCopqoKwzGX"
      },
      "source": [
        "# 리샘플링은 시계열의 빈도를 변환하는 과정 \n",
        "#다운 샘플링은 상위빈도의 데이터를 하위빈도로 집계\n",
        "#리샘플링과 빈도 변환 업 샘플링은 하위 빈도의 데이터를 상위빈도로 집계 \n",
        "\n"
      ],
      "execution_count": 58,
      "outputs": []
    },
    {
      "cell_type": "code",
      "metadata": {
        "id": "nCGr50eQyd6a"
      },
      "source": [
        "rng = pd.date_range('2000-01-01', periods=100, freq='D')\n"
      ],
      "execution_count": 59,
      "outputs": []
    },
    {
      "cell_type": "code",
      "metadata": {
        "id": "AgGpc3U-yhlY"
      },
      "source": [
        "ts= pd.Series(np.random.randn(len(rng)), index=rng)"
      ],
      "execution_count": 60,
      "outputs": []
    },
    {
      "cell_type": "code",
      "metadata": {
        "id": "JE2IXJstyk6g",
        "outputId": "74257e9e-6a80-4a89-d5cd-0079de99e603",
        "colab": {
          "base_uri": "https://localhost:8080/",
          "height": 233
        }
      },
      "source": [
        "ts"
      ],
      "execution_count": 61,
      "outputs": [
        {
          "output_type": "execute_result",
          "data": {
            "text/plain": [
              "2000-01-01   -0.121061\n",
              "2000-01-02   -0.184720\n",
              "2000-01-03   -0.725421\n",
              "2000-01-04    0.190600\n",
              "2000-01-05   -0.719148\n",
              "                ...   \n",
              "2000-04-05   -0.406277\n",
              "2000-04-06   -1.995619\n",
              "2000-04-07    0.093718\n",
              "2000-04-08    0.771976\n",
              "2000-04-09    1.700290\n",
              "Freq: D, Length: 100, dtype: float64"
            ]
          },
          "metadata": {
            "tags": []
          },
          "execution_count": 61
        }
      ]
    },
    {
      "cell_type": "code",
      "metadata": {
        "id": "s5xc5DgFylEY",
        "outputId": "c327d93c-9da5-4ff3-b573-fd9513e4443b",
        "colab": {
          "base_uri": "https://localhost:8080/",
          "height": 107
        }
      },
      "source": [
        "ts.resample('M').mean()"
      ],
      "execution_count": 62,
      "outputs": [
        {
          "output_type": "execute_result",
          "data": {
            "text/plain": [
              "2000-01-31    0.047746\n",
              "2000-02-29   -0.142058\n",
              "2000-03-31   -0.432977\n",
              "2000-04-30    0.005922\n",
              "Freq: M, dtype: float64"
            ]
          },
          "metadata": {
            "tags": []
          },
          "execution_count": 62
        }
      ]
    },
    {
      "cell_type": "code",
      "metadata": {
        "id": "WF9e3QwVym14",
        "outputId": "be40c477-b5dc-4829-98b7-1248494e986a",
        "colab": {
          "base_uri": "https://localhost:8080/",
          "height": 107
        }
      },
      "source": [
        "ts.resample('M', kind='period').mean()"
      ],
      "execution_count": 63,
      "outputs": [
        {
          "output_type": "execute_result",
          "data": {
            "text/plain": [
              "2000-01    0.047746\n",
              "2000-02   -0.142058\n",
              "2000-03   -0.432977\n",
              "2000-04    0.005922\n",
              "Freq: M, dtype: float64"
            ]
          },
          "metadata": {
            "tags": []
          },
          "execution_count": 63
        }
      ]
    },
    {
      "cell_type": "code",
      "metadata": {
        "id": "CjNi5Gywyp-o"
      },
      "source": [
        "# 다운 샘플링\n",
        "\n",
        "# 시계열 데이터를 규칙적인 하위 빈도로 집계하는 일은 특별한 일은 아닏 ㅏ집계한 데이터는 고정빈도를 가질 필요가 없다.\n",
        "\n"
      ],
      "execution_count": 64,
      "outputs": []
    },
    {
      "cell_type": "code",
      "metadata": {
        "id": "b18qZDXxzP2Q"
      },
      "source": [
        "rng = pd.date_range('2001-01-01', periods=12, freq='T')\n",
        "ts = pd.Series(np.arange(12), index=rng)"
      ],
      "execution_count": 65,
      "outputs": []
    },
    {
      "cell_type": "code",
      "metadata": {
        "id": "uGUul10Yz0Ro",
        "outputId": "e1250a3c-f340-400b-9780-71823b48a085",
        "colab": {
          "base_uri": "https://localhost:8080/",
          "height": 251
        }
      },
      "source": [
        "ts"
      ],
      "execution_count": 66,
      "outputs": [
        {
          "output_type": "execute_result",
          "data": {
            "text/plain": [
              "2001-01-01 00:00:00     0\n",
              "2001-01-01 00:01:00     1\n",
              "2001-01-01 00:02:00     2\n",
              "2001-01-01 00:03:00     3\n",
              "2001-01-01 00:04:00     4\n",
              "2001-01-01 00:05:00     5\n",
              "2001-01-01 00:06:00     6\n",
              "2001-01-01 00:07:00     7\n",
              "2001-01-01 00:08:00     8\n",
              "2001-01-01 00:09:00     9\n",
              "2001-01-01 00:10:00    10\n",
              "2001-01-01 00:11:00    11\n",
              "Freq: T, dtype: int64"
            ]
          },
          "metadata": {
            "tags": []
          },
          "execution_count": 66
        }
      ]
    },
    {
      "cell_type": "code",
      "metadata": {
        "id": "oVUFNRYPz01o",
        "outputId": "46c06b1b-e200-4de0-bc6b-7b268babd0cf",
        "colab": {
          "base_uri": "https://localhost:8080/",
          "height": 107
        }
      },
      "source": [
        "ts.resample('5min', closed='right').sum()"
      ],
      "execution_count": 67,
      "outputs": [
        {
          "output_type": "execute_result",
          "data": {
            "text/plain": [
              "2000-12-31 23:55:00     0\n",
              "2001-01-01 00:00:00    15\n",
              "2001-01-01 00:05:00    40\n",
              "2001-01-01 00:10:00    11\n",
              "Freq: 5T, dtype: int64"
            ]
          },
          "metadata": {
            "tags": []
          },
          "execution_count": 67
        }
      ]
    },
    {
      "cell_type": "code",
      "metadata": {
        "id": "1QACi13Kz4II",
        "outputId": "1ce84766-4ebd-4c6d-d41a-392c3671abab",
        "colab": {
          "base_uri": "https://localhost:8080/",
          "height": 107
        }
      },
      "source": [
        "ts.resample('5min', closed='right').sum()\n"
      ],
      "execution_count": 68,
      "outputs": [
        {
          "output_type": "execute_result",
          "data": {
            "text/plain": [
              "2000-12-31 23:55:00     0\n",
              "2001-01-01 00:00:00    15\n",
              "2001-01-01 00:05:00    40\n",
              "2001-01-01 00:10:00    11\n",
              "Freq: 5T, dtype: int64"
            ]
          },
          "metadata": {
            "tags": []
          },
          "execution_count": 68
        }
      ]
    },
    {
      "cell_type": "code",
      "metadata": {
        "id": "EiCG-d4Gz8Oo",
        "outputId": "5f304e2a-0dbf-4b67-ad29-2fd9273f59ec",
        "colab": {
          "base_uri": "https://localhost:8080/",
          "height": 107
        }
      },
      "source": [
        "ts.resample('5min', closed='right',label='right').sum()"
      ],
      "execution_count": 69,
      "outputs": [
        {
          "output_type": "execute_result",
          "data": {
            "text/plain": [
              "2001-01-01 00:00:00     0\n",
              "2001-01-01 00:05:00    15\n",
              "2001-01-01 00:10:00    40\n",
              "2001-01-01 00:15:00    11\n",
              "Freq: 5T, dtype: int64"
            ]
          },
          "metadata": {
            "tags": []
          },
          "execution_count": 69
        }
      ]
    },
    {
      "cell_type": "code",
      "metadata": {
        "id": "hYPxG9pg0Abn",
        "outputId": "56f44b12-d2fe-4a14-8bf4-a6d82ce39660",
        "colab": {
          "base_uri": "https://localhost:8080/",
          "height": 325
        }
      },
      "source": [
        "ts.resample('5min', closed='right', label='right', loffset='-1s').sum()"
      ],
      "execution_count": 70,
      "outputs": [
        {
          "output_type": "stream",
          "text": [
            "/usr/local/lib/python3.6/dist-packages/ipykernel_launcher.py:1: FutureWarning: 'loffset' in .resample() and in Grouper() is deprecated.\n",
            "\n",
            ">>> df.resample(freq=\"3s\", loffset=\"8H\")\n",
            "\n",
            "becomes:\n",
            "\n",
            ">>> from pandas.tseries.frequencies import to_offset\n",
            ">>> df = df.resample(freq=\"3s\").mean()\n",
            ">>> df.index = df.index.to_timestamp() + to_offset(\"8H\")\n",
            "\n",
            "  \"\"\"Entry point for launching an IPython kernel.\n"
          ],
          "name": "stderr"
        },
        {
          "output_type": "execute_result",
          "data": {
            "text/plain": [
              "2000-12-31 23:59:59     0\n",
              "2001-01-01 00:04:59    15\n",
              "2001-01-01 00:09:59    40\n",
              "2001-01-01 00:14:59    11\n",
              "Freq: 5T, dtype: int64"
            ]
          },
          "metadata": {
            "tags": []
          },
          "execution_count": 70
        }
      ]
    },
    {
      "cell_type": "code",
      "metadata": {
        "id": "58elg_jY0Hfw",
        "outputId": "f5bbbc67-f152-40e0-fd13-d62a94601f23",
        "colab": {
          "base_uri": "https://localhost:8080/",
          "height": 142
        }
      },
      "source": [
        "ts.resample('5min').ohlc()\n",
        "# 금융분야에서 시계열데이터를집계하는 흔한방식은 4가지 값을 계산하는 것이다. 시가 고가 종가\n"
      ],
      "execution_count": 72,
      "outputs": [
        {
          "output_type": "execute_result",
          "data": {
            "text/html": [
              "<div>\n",
              "<style scoped>\n",
              "    .dataframe tbody tr th:only-of-type {\n",
              "        vertical-align: middle;\n",
              "    }\n",
              "\n",
              "    .dataframe tbody tr th {\n",
              "        vertical-align: top;\n",
              "    }\n",
              "\n",
              "    .dataframe thead th {\n",
              "        text-align: right;\n",
              "    }\n",
              "</style>\n",
              "<table border=\"1\" class=\"dataframe\">\n",
              "  <thead>\n",
              "    <tr style=\"text-align: right;\">\n",
              "      <th></th>\n",
              "      <th>open</th>\n",
              "      <th>high</th>\n",
              "      <th>low</th>\n",
              "      <th>close</th>\n",
              "    </tr>\n",
              "  </thead>\n",
              "  <tbody>\n",
              "    <tr>\n",
              "      <th>2001-01-01 00:00:00</th>\n",
              "      <td>0</td>\n",
              "      <td>4</td>\n",
              "      <td>0</td>\n",
              "      <td>4</td>\n",
              "    </tr>\n",
              "    <tr>\n",
              "      <th>2001-01-01 00:05:00</th>\n",
              "      <td>5</td>\n",
              "      <td>9</td>\n",
              "      <td>5</td>\n",
              "      <td>9</td>\n",
              "    </tr>\n",
              "    <tr>\n",
              "      <th>2001-01-01 00:10:00</th>\n",
              "      <td>10</td>\n",
              "      <td>11</td>\n",
              "      <td>10</td>\n",
              "      <td>11</td>\n",
              "    </tr>\n",
              "  </tbody>\n",
              "</table>\n",
              "</div>"
            ],
            "text/plain": [
              "                     open  high  low  close\n",
              "2001-01-01 00:00:00     0     4    0      4\n",
              "2001-01-01 00:05:00     5     9    5      9\n",
              "2001-01-01 00:10:00    10    11   10     11"
            ]
          },
          "metadata": {
            "tags": []
          },
          "execution_count": 72
        }
      ]
    },
    {
      "cell_type": "code",
      "metadata": {
        "id": "so257RYv0Ken",
        "outputId": "7fc70d01-1c46-47c4-f0e1-493668a73fa4",
        "colab": {
          "base_uri": "https://localhost:8080/",
          "height": 111
        }
      },
      "source": [
        "frame = pd.DataFrame(np.random.randn(2, 4),\n",
        "                     index=pd.date_range('1/1/2000',periods=2,\n",
        "                                         freq='W-WED'),\n",
        "                     columns=['Colorado','Texas','New York','Ohio'])\n",
        "frame"
      ],
      "execution_count": 73,
      "outputs": [
        {
          "output_type": "execute_result",
          "data": {
            "text/html": [
              "<div>\n",
              "<style scoped>\n",
              "    .dataframe tbody tr th:only-of-type {\n",
              "        vertical-align: middle;\n",
              "    }\n",
              "\n",
              "    .dataframe tbody tr th {\n",
              "        vertical-align: top;\n",
              "    }\n",
              "\n",
              "    .dataframe thead th {\n",
              "        text-align: right;\n",
              "    }\n",
              "</style>\n",
              "<table border=\"1\" class=\"dataframe\">\n",
              "  <thead>\n",
              "    <tr style=\"text-align: right;\">\n",
              "      <th></th>\n",
              "      <th>Colorado</th>\n",
              "      <th>Texas</th>\n",
              "      <th>New York</th>\n",
              "      <th>Ohio</th>\n",
              "    </tr>\n",
              "  </thead>\n",
              "  <tbody>\n",
              "    <tr>\n",
              "      <th>2000-01-05</th>\n",
              "      <td>0.852492</td>\n",
              "      <td>1.578666</td>\n",
              "      <td>-0.544689</td>\n",
              "      <td>0.383622</td>\n",
              "    </tr>\n",
              "    <tr>\n",
              "      <th>2000-01-12</th>\n",
              "      <td>0.489803</td>\n",
              "      <td>-0.070719</td>\n",
              "      <td>0.497622</td>\n",
              "      <td>0.671612</td>\n",
              "    </tr>\n",
              "  </tbody>\n",
              "</table>\n",
              "</div>"
            ],
            "text/plain": [
              "            Colorado     Texas  New York      Ohio\n",
              "2000-01-05  0.852492  1.578666 -0.544689  0.383622\n",
              "2000-01-12  0.489803 -0.070719  0.497622  0.671612"
            ]
          },
          "metadata": {
            "tags": []
          },
          "execution_count": 73
        }
      ]
    },
    {
      "cell_type": "code",
      "metadata": {
        "id": "4aAjpGKM0byo",
        "outputId": "ae446b32-0ac2-4129-ca54-9f61c035d5ad",
        "colab": {
          "base_uri": "https://localhost:8080/",
          "height": 297
        }
      },
      "source": [
        "df_daily = frame. resample('D').asfreq()\n",
        "df_daily"
      ],
      "execution_count": 74,
      "outputs": [
        {
          "output_type": "execute_result",
          "data": {
            "text/html": [
              "<div>\n",
              "<style scoped>\n",
              "    .dataframe tbody tr th:only-of-type {\n",
              "        vertical-align: middle;\n",
              "    }\n",
              "\n",
              "    .dataframe tbody tr th {\n",
              "        vertical-align: top;\n",
              "    }\n",
              "\n",
              "    .dataframe thead th {\n",
              "        text-align: right;\n",
              "    }\n",
              "</style>\n",
              "<table border=\"1\" class=\"dataframe\">\n",
              "  <thead>\n",
              "    <tr style=\"text-align: right;\">\n",
              "      <th></th>\n",
              "      <th>Colorado</th>\n",
              "      <th>Texas</th>\n",
              "      <th>New York</th>\n",
              "      <th>Ohio</th>\n",
              "    </tr>\n",
              "  </thead>\n",
              "  <tbody>\n",
              "    <tr>\n",
              "      <th>2000-01-05</th>\n",
              "      <td>0.852492</td>\n",
              "      <td>1.578666</td>\n",
              "      <td>-0.544689</td>\n",
              "      <td>0.383622</td>\n",
              "    </tr>\n",
              "    <tr>\n",
              "      <th>2000-01-06</th>\n",
              "      <td>NaN</td>\n",
              "      <td>NaN</td>\n",
              "      <td>NaN</td>\n",
              "      <td>NaN</td>\n",
              "    </tr>\n",
              "    <tr>\n",
              "      <th>2000-01-07</th>\n",
              "      <td>NaN</td>\n",
              "      <td>NaN</td>\n",
              "      <td>NaN</td>\n",
              "      <td>NaN</td>\n",
              "    </tr>\n",
              "    <tr>\n",
              "      <th>2000-01-08</th>\n",
              "      <td>NaN</td>\n",
              "      <td>NaN</td>\n",
              "      <td>NaN</td>\n",
              "      <td>NaN</td>\n",
              "    </tr>\n",
              "    <tr>\n",
              "      <th>2000-01-09</th>\n",
              "      <td>NaN</td>\n",
              "      <td>NaN</td>\n",
              "      <td>NaN</td>\n",
              "      <td>NaN</td>\n",
              "    </tr>\n",
              "    <tr>\n",
              "      <th>2000-01-10</th>\n",
              "      <td>NaN</td>\n",
              "      <td>NaN</td>\n",
              "      <td>NaN</td>\n",
              "      <td>NaN</td>\n",
              "    </tr>\n",
              "    <tr>\n",
              "      <th>2000-01-11</th>\n",
              "      <td>NaN</td>\n",
              "      <td>NaN</td>\n",
              "      <td>NaN</td>\n",
              "      <td>NaN</td>\n",
              "    </tr>\n",
              "    <tr>\n",
              "      <th>2000-01-12</th>\n",
              "      <td>0.489803</td>\n",
              "      <td>-0.070719</td>\n",
              "      <td>0.497622</td>\n",
              "      <td>0.671612</td>\n",
              "    </tr>\n",
              "  </tbody>\n",
              "</table>\n",
              "</div>"
            ],
            "text/plain": [
              "            Colorado     Texas  New York      Ohio\n",
              "2000-01-05  0.852492  1.578666 -0.544689  0.383622\n",
              "2000-01-06       NaN       NaN       NaN       NaN\n",
              "2000-01-07       NaN       NaN       NaN       NaN\n",
              "2000-01-08       NaN       NaN       NaN       NaN\n",
              "2000-01-09       NaN       NaN       NaN       NaN\n",
              "2000-01-10       NaN       NaN       NaN       NaN\n",
              "2000-01-11       NaN       NaN       NaN       NaN\n",
              "2000-01-12  0.489803 -0.070719  0.497622  0.671612"
            ]
          },
          "metadata": {
            "tags": []
          },
          "execution_count": 74
        }
      ]
    },
    {
      "cell_type": "code",
      "metadata": {
        "id": "K07ztUmM0ei4"
      },
      "source": [
        "## 이 데이터에 요약함수를 사용하면 그룹당 하나의 값이 들어가고 그사이에 결측지가 들어간다.\n",
        "# sfreq매서드를 이용하면 어떤 요약함수도 사용하지 않고 상위 빈도로 리샘플링 할 수 있다 \n",
        "\n"
      ],
      "execution_count": 75,
      "outputs": []
    },
    {
      "cell_type": "code",
      "metadata": {
        "id": "gt7thn7S3pcI"
      },
      "source": [
        "frame = pd.DataFrame(np.random.randn(24, 4),\n",
        "                     index=pd.period_range('1-2000','12-2001',\n",
        "                                           freq='M'),\n",
        "                     columns=['Colorado','Texas','New York','Ohio'])"
      ],
      "execution_count": 76,
      "outputs": []
    },
    {
      "cell_type": "code",
      "metadata": {
        "id": "Q-gmAqvY34wo",
        "outputId": "8ddefb7d-e8ad-4e16-fedd-dd9bd9c17679",
        "colab": {
          "base_uri": "https://localhost:8080/",
          "height": 204
        }
      },
      "source": [
        "frame[:5]"
      ],
      "execution_count": 77,
      "outputs": [
        {
          "output_type": "execute_result",
          "data": {
            "text/html": [
              "<div>\n",
              "<style scoped>\n",
              "    .dataframe tbody tr th:only-of-type {\n",
              "        vertical-align: middle;\n",
              "    }\n",
              "\n",
              "    .dataframe tbody tr th {\n",
              "        vertical-align: top;\n",
              "    }\n",
              "\n",
              "    .dataframe thead th {\n",
              "        text-align: right;\n",
              "    }\n",
              "</style>\n",
              "<table border=\"1\" class=\"dataframe\">\n",
              "  <thead>\n",
              "    <tr style=\"text-align: right;\">\n",
              "      <th></th>\n",
              "      <th>Colorado</th>\n",
              "      <th>Texas</th>\n",
              "      <th>New York</th>\n",
              "      <th>Ohio</th>\n",
              "    </tr>\n",
              "  </thead>\n",
              "  <tbody>\n",
              "    <tr>\n",
              "      <th>2000-01</th>\n",
              "      <td>0.795115</td>\n",
              "      <td>-1.075460</td>\n",
              "      <td>-0.376621</td>\n",
              "      <td>-0.935854</td>\n",
              "    </tr>\n",
              "    <tr>\n",
              "      <th>2000-02</th>\n",
              "      <td>0.206191</td>\n",
              "      <td>1.879558</td>\n",
              "      <td>0.575634</td>\n",
              "      <td>1.301586</td>\n",
              "    </tr>\n",
              "    <tr>\n",
              "      <th>2000-03</th>\n",
              "      <td>0.293636</td>\n",
              "      <td>1.156968</td>\n",
              "      <td>-0.064625</td>\n",
              "      <td>0.129455</td>\n",
              "    </tr>\n",
              "    <tr>\n",
              "      <th>2000-04</th>\n",
              "      <td>-0.105644</td>\n",
              "      <td>-0.612364</td>\n",
              "      <td>0.226097</td>\n",
              "      <td>0.465716</td>\n",
              "    </tr>\n",
              "    <tr>\n",
              "      <th>2000-05</th>\n",
              "      <td>-0.036777</td>\n",
              "      <td>0.303133</td>\n",
              "      <td>0.456646</td>\n",
              "      <td>1.205436</td>\n",
              "    </tr>\n",
              "  </tbody>\n",
              "</table>\n",
              "</div>"
            ],
            "text/plain": [
              "         Colorado     Texas  New York      Ohio\n",
              "2000-01  0.795115 -1.075460 -0.376621 -0.935854\n",
              "2000-02  0.206191  1.879558  0.575634  1.301586\n",
              "2000-03  0.293636  1.156968 -0.064625  0.129455\n",
              "2000-04 -0.105644 -0.612364  0.226097  0.465716\n",
              "2000-05 -0.036777  0.303133  0.456646  1.205436"
            ]
          },
          "metadata": {
            "tags": []
          },
          "execution_count": 77
        }
      ]
    },
    {
      "cell_type": "code",
      "metadata": {
        "id": "xJwen7z835dH"
      },
      "source": [
        "annual_frame = frame.resample('A-DEC').mean()"
      ],
      "execution_count": 78,
      "outputs": []
    },
    {
      "cell_type": "code",
      "metadata": {
        "id": "V91IFs_o4N8A",
        "outputId": "51ea051c-97f6-4c69-cb58-505c24187bcd",
        "colab": {
          "base_uri": "https://localhost:8080/",
          "height": 111
        }
      },
      "source": [
        "annual_frame"
      ],
      "execution_count": 79,
      "outputs": [
        {
          "output_type": "execute_result",
          "data": {
            "text/html": [
              "<div>\n",
              "<style scoped>\n",
              "    .dataframe tbody tr th:only-of-type {\n",
              "        vertical-align: middle;\n",
              "    }\n",
              "\n",
              "    .dataframe tbody tr th {\n",
              "        vertical-align: top;\n",
              "    }\n",
              "\n",
              "    .dataframe thead th {\n",
              "        text-align: right;\n",
              "    }\n",
              "</style>\n",
              "<table border=\"1\" class=\"dataframe\">\n",
              "  <thead>\n",
              "    <tr style=\"text-align: right;\">\n",
              "      <th></th>\n",
              "      <th>Colorado</th>\n",
              "      <th>Texas</th>\n",
              "      <th>New York</th>\n",
              "      <th>Ohio</th>\n",
              "    </tr>\n",
              "  </thead>\n",
              "  <tbody>\n",
              "    <tr>\n",
              "      <th>2000</th>\n",
              "      <td>0.096750</td>\n",
              "      <td>0.122350</td>\n",
              "      <td>0.120463</td>\n",
              "      <td>0.312580</td>\n",
              "    </tr>\n",
              "    <tr>\n",
              "      <th>2001</th>\n",
              "      <td>0.448957</td>\n",
              "      <td>-0.137557</td>\n",
              "      <td>-0.012899</td>\n",
              "      <td>-0.241888</td>\n",
              "    </tr>\n",
              "  </tbody>\n",
              "</table>\n",
              "</div>"
            ],
            "text/plain": [
              "      Colorado     Texas  New York      Ohio\n",
              "2000  0.096750  0.122350  0.120463  0.312580\n",
              "2001  0.448957 -0.137557 -0.012899 -0.241888"
            ]
          },
          "metadata": {
            "tags": []
          },
          "execution_count": 79
        }
      ]
    },
    {
      "cell_type": "code",
      "metadata": {
        "id": "gKXjs9PV4Oq4",
        "outputId": "3b5dafc0-944c-4c9d-80cd-27137dbd4a7e",
        "colab": {
          "base_uri": "https://localhost:8080/",
          "height": 297
        }
      },
      "source": [
        "annual_frame.resample('Q-DEC').ffill()"
      ],
      "execution_count": 80,
      "outputs": [
        {
          "output_type": "execute_result",
          "data": {
            "text/html": [
              "<div>\n",
              "<style scoped>\n",
              "    .dataframe tbody tr th:only-of-type {\n",
              "        vertical-align: middle;\n",
              "    }\n",
              "\n",
              "    .dataframe tbody tr th {\n",
              "        vertical-align: top;\n",
              "    }\n",
              "\n",
              "    .dataframe thead th {\n",
              "        text-align: right;\n",
              "    }\n",
              "</style>\n",
              "<table border=\"1\" class=\"dataframe\">\n",
              "  <thead>\n",
              "    <tr style=\"text-align: right;\">\n",
              "      <th></th>\n",
              "      <th>Colorado</th>\n",
              "      <th>Texas</th>\n",
              "      <th>New York</th>\n",
              "      <th>Ohio</th>\n",
              "    </tr>\n",
              "  </thead>\n",
              "  <tbody>\n",
              "    <tr>\n",
              "      <th>2000Q1</th>\n",
              "      <td>0.096750</td>\n",
              "      <td>0.122350</td>\n",
              "      <td>0.120463</td>\n",
              "      <td>0.312580</td>\n",
              "    </tr>\n",
              "    <tr>\n",
              "      <th>2000Q2</th>\n",
              "      <td>0.096750</td>\n",
              "      <td>0.122350</td>\n",
              "      <td>0.120463</td>\n",
              "      <td>0.312580</td>\n",
              "    </tr>\n",
              "    <tr>\n",
              "      <th>2000Q3</th>\n",
              "      <td>0.096750</td>\n",
              "      <td>0.122350</td>\n",
              "      <td>0.120463</td>\n",
              "      <td>0.312580</td>\n",
              "    </tr>\n",
              "    <tr>\n",
              "      <th>2000Q4</th>\n",
              "      <td>0.096750</td>\n",
              "      <td>0.122350</td>\n",
              "      <td>0.120463</td>\n",
              "      <td>0.312580</td>\n",
              "    </tr>\n",
              "    <tr>\n",
              "      <th>2001Q1</th>\n",
              "      <td>0.448957</td>\n",
              "      <td>-0.137557</td>\n",
              "      <td>-0.012899</td>\n",
              "      <td>-0.241888</td>\n",
              "    </tr>\n",
              "    <tr>\n",
              "      <th>2001Q2</th>\n",
              "      <td>0.448957</td>\n",
              "      <td>-0.137557</td>\n",
              "      <td>-0.012899</td>\n",
              "      <td>-0.241888</td>\n",
              "    </tr>\n",
              "    <tr>\n",
              "      <th>2001Q3</th>\n",
              "      <td>0.448957</td>\n",
              "      <td>-0.137557</td>\n",
              "      <td>-0.012899</td>\n",
              "      <td>-0.241888</td>\n",
              "    </tr>\n",
              "    <tr>\n",
              "      <th>2001Q4</th>\n",
              "      <td>0.448957</td>\n",
              "      <td>-0.137557</td>\n",
              "      <td>-0.012899</td>\n",
              "      <td>-0.241888</td>\n",
              "    </tr>\n",
              "  </tbody>\n",
              "</table>\n",
              "</div>"
            ],
            "text/plain": [
              "        Colorado     Texas  New York      Ohio\n",
              "2000Q1  0.096750  0.122350  0.120463  0.312580\n",
              "2000Q2  0.096750  0.122350  0.120463  0.312580\n",
              "2000Q3  0.096750  0.122350  0.120463  0.312580\n",
              "2000Q4  0.096750  0.122350  0.120463  0.312580\n",
              "2001Q1  0.448957 -0.137557 -0.012899 -0.241888\n",
              "2001Q2  0.448957 -0.137557 -0.012899 -0.241888\n",
              "2001Q3  0.448957 -0.137557 -0.012899 -0.241888\n",
              "2001Q4  0.448957 -0.137557 -0.012899 -0.241888"
            ]
          },
          "metadata": {
            "tags": []
          },
          "execution_count": 80
        }
      ]
    },
    {
      "cell_type": "code",
      "metadata": {
        "id": "FIm6vkmI4RnY",
        "outputId": "59f49757-a201-4152-ae3e-125a6d93961e",
        "colab": {
          "base_uri": "https://localhost:8080/",
          "height": 204
        }
      },
      "source": [
        "annual_frame.resample('Q-DEC', convention='end').ffill()"
      ],
      "execution_count": 81,
      "outputs": [
        {
          "output_type": "execute_result",
          "data": {
            "text/html": [
              "<div>\n",
              "<style scoped>\n",
              "    .dataframe tbody tr th:only-of-type {\n",
              "        vertical-align: middle;\n",
              "    }\n",
              "\n",
              "    .dataframe tbody tr th {\n",
              "        vertical-align: top;\n",
              "    }\n",
              "\n",
              "    .dataframe thead th {\n",
              "        text-align: right;\n",
              "    }\n",
              "</style>\n",
              "<table border=\"1\" class=\"dataframe\">\n",
              "  <thead>\n",
              "    <tr style=\"text-align: right;\">\n",
              "      <th></th>\n",
              "      <th>Colorado</th>\n",
              "      <th>Texas</th>\n",
              "      <th>New York</th>\n",
              "      <th>Ohio</th>\n",
              "    </tr>\n",
              "  </thead>\n",
              "  <tbody>\n",
              "    <tr>\n",
              "      <th>2000Q4</th>\n",
              "      <td>0.096750</td>\n",
              "      <td>0.122350</td>\n",
              "      <td>0.120463</td>\n",
              "      <td>0.312580</td>\n",
              "    </tr>\n",
              "    <tr>\n",
              "      <th>2001Q1</th>\n",
              "      <td>0.096750</td>\n",
              "      <td>0.122350</td>\n",
              "      <td>0.120463</td>\n",
              "      <td>0.312580</td>\n",
              "    </tr>\n",
              "    <tr>\n",
              "      <th>2001Q2</th>\n",
              "      <td>0.096750</td>\n",
              "      <td>0.122350</td>\n",
              "      <td>0.120463</td>\n",
              "      <td>0.312580</td>\n",
              "    </tr>\n",
              "    <tr>\n",
              "      <th>2001Q3</th>\n",
              "      <td>0.096750</td>\n",
              "      <td>0.122350</td>\n",
              "      <td>0.120463</td>\n",
              "      <td>0.312580</td>\n",
              "    </tr>\n",
              "    <tr>\n",
              "      <th>2001Q4</th>\n",
              "      <td>0.448957</td>\n",
              "      <td>-0.137557</td>\n",
              "      <td>-0.012899</td>\n",
              "      <td>-0.241888</td>\n",
              "    </tr>\n",
              "  </tbody>\n",
              "</table>\n",
              "</div>"
            ],
            "text/plain": [
              "        Colorado     Texas  New York      Ohio\n",
              "2000Q4  0.096750  0.122350  0.120463  0.312580\n",
              "2001Q1  0.096750  0.122350  0.120463  0.312580\n",
              "2001Q2  0.096750  0.122350  0.120463  0.312580\n",
              "2001Q3  0.096750  0.122350  0.120463  0.312580\n",
              "2001Q4  0.448957 -0.137557 -0.012899 -0.241888"
            ]
          },
          "metadata": {
            "tags": []
          },
          "execution_count": 81
        }
      ]
    },
    {
      "cell_type": "code",
      "metadata": {
        "id": "r512XmkF4WOA"
      },
      "source": [
        "#사계열 연산에서 사용되는 배열변형에서 중요한 요소는 움직이는 창\n",
        "# 또는 지수 가중과 함께 수행되는 통계와 여타 함수들이다 이러한 함수를 이용해서\n",
        "# 누락된 데이터로 인개 매끄럽지 않은 시계열 데이터를 매끄럽게 다듬을 수 있다 \n"
      ],
      "execution_count": 82,
      "outputs": []
    },
    {
      "cell_type": "code",
      "metadata": {
        "id": "sLPtlyWj-GW5"
      },
      "source": [
        "close_px_all = pd.read_csv('stock_px_2.csv',\n",
        "                           parse_dates=True, index_col=0)"
      ],
      "execution_count": 86,
      "outputs": []
    },
    {
      "cell_type": "code",
      "metadata": {
        "id": "BW6oujrK-Q-B"
      },
      "source": [
        "close_px = close_px_all[['AAPL','MSFT','XOM']]"
      ],
      "execution_count": 94,
      "outputs": []
    },
    {
      "cell_type": "code",
      "metadata": {
        "id": "dLfq6EWi-fIW"
      },
      "source": [
        "close_px = close_px.resample('B').ffill()"
      ],
      "execution_count": 95,
      "outputs": []
    },
    {
      "cell_type": "code",
      "metadata": {
        "id": "Co9apJYr-iO1",
        "outputId": "72ccdabf-eb75-4d09-ab99-bee1fcc2ec61",
        "colab": {
          "base_uri": "https://localhost:8080/",
          "height": 283
        }
      },
      "source": [
        "close_px.AAPL.plot()\n",
        "close_px.AAPL.rolling(250).mean().plot()"
      ],
      "execution_count": 98,
      "outputs": [
        {
          "output_type": "execute_result",
          "data": {
            "text/plain": [
              "<matplotlib.axes._subplots.AxesSubplot at 0x7f2bc424ef28>"
            ]
          },
          "metadata": {
            "tags": []
          },
          "execution_count": 98
        },
        {
          "output_type": "display_data",
          "data": {
            "image/png": "[encoded data removed]",
            "text/plain": [
              "<Figure size 432x288 with 1 Axes>"
            ]
          },
          "metadata": {
            "tags": [],
            "needs_background": "light"
          }
        }
      ]
    },
    {
      "cell_type": "code",
      "metadata": {
        "id": "FLlNWpG3-jzd"
      },
      "source": [
        "## 이제 resample이나 groupby와 유사하게 작동하는 rolling 연산을 알아보자\n",
        "# 이것은 Series나 DataFrame에 대해 원하는 기간을 나타내는 windows 값과 함께 호출 할 수 있다.\n",
        "\n",
        "#rolling(250) 이라는 표현은 groupby와 비슷해보이지만 그룹을 생성하는 대신\n",
        "# 250일 크기의 움직이는 창을 통해 그룹핑 할 수 있는 객체를 생성한다. "
      ],
      "execution_count": 99,
      "outputs": []
    },
    {
      "cell_type": "code",
      "metadata": {
        "id": "UGQek-GC-mSB",
        "outputId": "6fcb4fd4-50c4-413f-cf93-8436e1ea22f3",
        "colab": {
          "base_uri": "https://localhost:8080/",
          "height": 161
        }
      },
      "source": [
        "appl_std250 = close_px.AAPL.rolling(250, min_periods=10).std()\n",
        "appl_std250[5:12]"
      ],
      "execution_count": 100,
      "outputs": [
        {
          "output_type": "execute_result",
          "data": {
            "text/plain": [
              "2003-01-09         NaN\n",
              "2003-01-10         NaN\n",
              "2003-01-13         NaN\n",
              "2003-01-14         NaN\n",
              "2003-01-15    0.077496\n",
              "2003-01-16    0.074760\n",
              "2003-01-17    0.112368\n",
              "Freq: B, Name: AAPL, dtype: float64"
            ]
          },
          "metadata": {
            "tags": []
          },
          "execution_count": 100
        }
      ]
    },
    {
      "cell_type": "code",
      "metadata": {
        "id": "CWd4U8CvBH-j",
        "outputId": "2677568e-077e-42ba-dcb6-7762aac959a2",
        "colab": {
          "base_uri": "https://localhost:8080/",
          "height": 283
        }
      },
      "source": [
        "appl_std250.plot()"
      ],
      "execution_count": 101,
      "outputs": [
        {
          "output_type": "execute_result",
          "data": {
            "text/plain": [
              "<matplotlib.axes._subplots.AxesSubplot at 0x7f2bc3bbfe48>"
            ]
          },
          "metadata": {
            "tags": []
          },
          "execution_count": 101
        },
        {
          "output_type": "display_data",
          "data": {
            "image/png": "[encoded data removed]",
            "text/plain": [
              "<Figure size 432x288 with 1 Axes>"
            ]
          },
          "metadata": {
            "tags": [],
            "needs_background": "light"
          }
        }
      ]
    },
    {
      "cell_type": "code",
      "metadata": {
        "id": "W_Uz352yBJeR",
        "outputId": "dbbb42fb-3d38-4461-d00f-89fd10d4ab43",
        "colab": {
          "base_uri": "https://localhost:8080/",
          "height": 283
        }
      },
      "source": [
        "close_px.rolling(60).mean().plot(logy=True)"
      ],
      "execution_count": 102,
      "outputs": [
        {
          "output_type": "execute_result",
          "data": {
            "text/plain": [
              "<matplotlib.axes._subplots.AxesSubplot at 0x7f2bc3d0add8>"
            ]
          },
          "metadata": {
            "tags": []
          },
          "execution_count": 102
        },
        {
          "output_type": "display_data",
          "data": {
            "image/png": "[encoded data removed]",
            "text/plain": [
              "<Figure size 432x288 with 1 Axes>"
            ]
          },
          "metadata": {
            "tags": [],
            "needs_background": "light"
          }
        }
      ]
    },
    {
      "cell_type": "code",
      "metadata": {
        "id": "BPyL6qvbBp1p"
      },
      "source": [
        "## 확장창 평균을 구하기 위해서는 rolling 대신 expanding을 사용한다.\n",
        "# 확장창 평균은 시계열 시작 지점부터 창의 크기가 시계열 전체 크기가 될 때까지 점점 창의 크기를 늘린다.\n"
      ],
      "execution_count": 103,
      "outputs": []
    },
    {
      "cell_type": "code",
      "metadata": {
        "id": "nQ7KcZJZCuaa"
      },
      "source": [
        "#지금까지 다양한 종류의 데이터를 다듬는 과정 numpy pandas 그리고 다른 라이브러리의 기능을 소개했다. \n",
        "#시간이 갈수록 pandas에는 고급사용자들을 위한 깊이있는 기능들이 추가되고 있다. 이장에서는 고급판다스 기능을 소개한다\n",
        "\n",
        "## 범주형 데이터\n",
        "\n",
        "# 이 절에서는 pandas Categorical 형을 이용하여 pandas 메모리 사용을 줄이고 성능을 개선할 수 있는 방법을 소개한다.\n"
      ],
      "execution_count": 104,
      "outputs": []
    },
    {
      "cell_type": "code",
      "metadata": {
        "id": "RDdrBaGdEQqC",
        "outputId": "4e527a6e-4bfc-44da-929c-467b8f2cd82e",
        "colab": {
          "base_uri": "https://localhost:8080/",
          "height": 295
        }
      },
      "source": [
        "aapl_px = close_px.AAPL['2007':'2007']\n",
        "\n",
        "ma60 = aapl_px.rolling(30, min_periods=20).mean()\n",
        "\n",
        "ewma60 = aapl_px.ewm(span=30).mean()\n",
        "\n",
        "ma60.plot(style='k--',label='Simple MA')\n"
      ],
      "execution_count": 106,
      "outputs": [
        {
          "output_type": "execute_result",
          "data": {
            "text/plain": [
              "<matplotlib.axes._subplots.AxesSubplot at 0x7f2bc3c116d8>"
            ]
          },
          "metadata": {
            "tags": []
          },
          "execution_count": 106
        },
        {
          "output_type": "display_data",
          "data": {
            "image/png": "[encoded data removed]",
            "text/plain": [
              "<Figure size 432x288 with 1 Axes>"
            ]
          },
          "metadata": {
            "tags": [],
            "needs_background": "light"
          }
        }
      ]
    },
    {
      "cell_type": "code",
      "metadata": {
        "id": "RJzJ_n0PEeoS",
        "outputId": "9ea2d08c-7a38-407d-cd20-820d46f26ed1",
        "colab": {
          "base_uri": "https://localhost:8080/",
          "height": 233
        }
      },
      "source": [
        ""
      ],
      "execution_count": 107,
      "outputs": [
        {
          "output_type": "execute_result",
          "data": {
            "text/plain": [
              "2007-01-01     84.840000\n",
              "2007-01-02     84.840000\n",
              "2007-01-03     84.469974\n",
              "2007-01-04     84.797870\n",
              "2007-01-05     84.855235\n",
              "                 ...    \n",
              "2007-12-25    184.441775\n",
              "2007-12-26    185.377789\n",
              "2007-12-27    186.228900\n",
              "2007-12-28    187.106390\n",
              "2007-12-31    187.814365\n",
              "Freq: B, Name: AAPL, Length: 261, dtype: float64"
            ]
          },
          "metadata": {
            "tags": []
          },
          "execution_count": 107
        }
      ]
    },
    {
      "cell_type": "code",
      "metadata": {
        "id": "3V3sVEglEhEC"
      },
      "source": [
        "import numpy as np; import pandas as pd"
      ],
      "execution_count": 108,
      "outputs": []
    },
    {
      "cell_type": "code",
      "metadata": {
        "id": "xWrqngHhEqkx"
      },
      "source": [
        "values = pd.Series(['apple','orange','apple','apple']*2)"
      ],
      "execution_count": 109,
      "outputs": []
    },
    {
      "cell_type": "code",
      "metadata": {
        "id": "odmPufAzEwsq",
        "outputId": "1ac511bb-f592-4764-8e4e-b31a8d34bcba",
        "colab": {
          "base_uri": "https://localhost:8080/",
          "height": 179
        }
      },
      "source": [
        "values"
      ],
      "execution_count": 110,
      "outputs": [
        {
          "output_type": "execute_result",
          "data": {
            "text/plain": [
              "0     apple\n",
              "1    orange\n",
              "2     apple\n",
              "3     apple\n",
              "4     apple\n",
              "5    orange\n",
              "6     apple\n",
              "7     apple\n",
              "dtype: object"
            ]
          },
          "metadata": {
            "tags": []
          },
          "execution_count": 110
        }
      ]
    },
    {
      "cell_type": "code",
      "metadata": {
        "id": "DZ12gpjjExNu",
        "outputId": "5e6a1b86-53a7-48fe-a26a-ce4b5815baff",
        "colab": {
          "base_uri": "https://localhost:8080/",
          "height": 35
        }
      },
      "source": [
        "#데이터 웨어하우스, 분석 컴퓨팅 외 여러 다양한 데이터 시스템은 중복되는 데이터를 얼마나 효율적으로 저장하고\n",
        "# 계산할수 있는가를 중점으로 개발한다.\n",
        "\n",
        "## 차원테이블과 정수키를 사용하는 것이 일반적이다. \n",
        "\n",
        "pd.unique(values)\n"
      ],
      "execution_count": 111,
      "outputs": [
        {
          "output_type": "execute_result",
          "data": {
            "text/plain": [
              "array(['apple', 'orange'], dtype=object)"
            ]
          },
          "metadata": {
            "tags": []
          },
          "execution_count": 111
        }
      ]
    },
    {
      "cell_type": "code",
      "metadata": {
        "id": "N7alDJFxE98y",
        "outputId": "8807c376-afa1-47c1-ed0c-cda7c81da6e0",
        "colab": {
          "base_uri": "https://localhost:8080/",
          "height": 71
        }
      },
      "source": [
        "pd.value_counts(values)"
      ],
      "execution_count": 112,
      "outputs": [
        {
          "output_type": "execute_result",
          "data": {
            "text/plain": [
              "apple     6\n",
              "orange    2\n",
              "dtype: int64"
            ]
          },
          "metadata": {
            "tags": []
          },
          "execution_count": 112
        }
      ]
    },
    {
      "cell_type": "code",
      "metadata": {
        "id": "386FKcbCE_oy",
        "outputId": "0677e8ea-716c-439e-f7aa-b68a20acfb32",
        "colab": {
          "base_uri": "https://localhost:8080/",
          "height": 71
        }
      },
      "source": [
        "values = pd.Series([0,1,0,0] * 2)\n",
        "dim = pd.Series(['apple','orange'])\n",
        "values\n",
        "dim"
      ],
      "execution_count": 113,
      "outputs": [
        {
          "output_type": "execute_result",
          "data": {
            "text/plain": [
              "0     apple\n",
              "1    orange\n",
              "dtype: object"
            ]
          },
          "metadata": {
            "tags": []
          },
          "execution_count": 113
        }
      ]
    },
    {
      "cell_type": "code",
      "metadata": {
        "id": "wXMjYl04FGe8",
        "outputId": "044a7c66-dcde-43f2-d2bc-b2def76ed7b7",
        "colab": {
          "base_uri": "https://localhost:8080/",
          "height": 179
        }
      },
      "source": [
        "dim.take(values)"
      ],
      "execution_count": 114,
      "outputs": [
        {
          "output_type": "execute_result",
          "data": {
            "text/plain": [
              "0     apple\n",
              "1    orange\n",
              "0     apple\n",
              "0     apple\n",
              "0     apple\n",
              "1    orange\n",
              "0     apple\n",
              "0     apple\n",
              "dtype: object"
            ]
          },
          "metadata": {
            "tags": []
          },
          "execution_count": 114
        }
      ]
    },
    {
      "cell_type": "code",
      "metadata": {
        "id": "4uQf_MWMFIAy"
      },
      "source": [
        "#여기서 정수로 표현된 값은 범주형 또는 사전형 표기법이라고 한다 \n",
        "#(딕셔너리 표기법) 별개의 값을 담고 있는 배열은 범주 사전 또는 단계 데이터라고 부른다.\n",
        "#이 책에서는 이런종류의 데이터를 cateforical 또는 범주형 데이터라고 부른다\n",
        "\n",
        "\n",
        "#범주형 표기법을 사용하면 분석작업에 있어서 엄청난 성능향상을 얻을 수 있다.\n",
        "#비교적 작은 연산으로 수행할 수 있는 변형의 예는 \n",
        "## Renaming categories( 범주형 데이터 이름변경)\n",
        "## 기존 범주형  데이터의 순서를 바꾸지 않고 새로운 범주 추가 \n",
        "\n"
      ],
      "execution_count": 115,
      "outputs": []
    },
    {
      "cell_type": "code",
      "metadata": {
        "id": "TXx4O5z2Hh4C"
      },
      "source": [
        "#fruit_cat의 값은 bumpy 배열이 아니라 pandas.Categorical의 인스턴스이다.\n",
        "\n",
        "# 카테고리 객체는 카테고리와 코드 속성을 가진다 \n"
      ],
      "execution_count": null,
      "outputs": []
    }
  ]
}