{
  "nbformat": 4,
  "nbformat_minor": 0,
  "metadata": {
    "colab": {
      "name": "1029Python.ipynb",
      "provenance": [],
      "authorship_tag": "ABX9TyP6GiXdHo5k37lnFqQrMhC6",
      "include_colab_link": true
    },
    "kernelspec": {
      "name": "python3",
      "display_name": "Python 3"
    }
  },
  "cells": [
    {
      "cell_type": "markdown",
      "metadata": {
        "id": "view-in-github",
        "colab_type": "text"
      },
      "source": [
        "<a href=\"https://colab.research.google.com/github/anteaterst/BigDataStudy_All/blob/main/1029Python.ipynb\" target=\"_parent\"><img src=\"https://colab.research.google.com/assets/colab-badge.svg\" alt=\"Open In Colab\"/></a>"
      ]
    },
    {
      "cell_type": "code",
      "metadata": {
        "id": "vbogUb0k14RM"
      },
      "source": [
        "#statsmodels는 다양한 종류의 통계와 피팅, 통계테스트 수행 그리고 데이터 탐색 시각화를 위한 라이브러리이다\n",
        "#몇가지 모델을 statsmodels는 포함된다. 선형모델, 일반 선형 모델, 로버스트 선형 모델, 선형 복잡효과 모델\n",
        "#ANOVA 모델 메서드\n",
        "#시계열 처리와 상태 공간 모델\n",
        "\n"
      ],
      "execution_count": null,
      "outputs": []
    },
    {
      "cell_type": "code",
      "metadata": {
        "id": "yuebYRgw25Jo"
      },
      "source": [
        "import statsmodels.api as sm\n",
        "import statsmodels.formula.api as smf\n",
        "import numpy as np"
      ],
      "execution_count": null,
      "outputs": []
    },
    {
      "cell_type": "code",
      "metadata": {
        "id": "vtgj15me2-kW"
      },
      "source": [
        "def dnorm(mean, variance, size=1):\n",
        "  if isinstance(size, int):\n",
        "    size = size,\n",
        "  return mean + np.sqrt(variance) * np.random.randn(*size)\n",
        "\n",
        "np.random.seed(12345)\n",
        "\n",
        "N = 100\n",
        "X = np.c_[dnorm(0, 0.4, size=N),\n",
        "          dnorm(0, 0.6, size=N),\n",
        "          dnorm(0, 0.2, size=N)]\n",
        "eps = dnorm(0, 0.1, size=N)\n",
        "beta = [0.1, 0.3, 0.5]\n",
        "\n",
        "y = np.dot(X,beta) + eps\n",
        "\n",
        "# 여기서는 알려진 인자인 beta를 이용해서 진짜 모델을 작성했다 dnorm은 특정평균과 분산을 가지는 정규 분포 데이터를 생성해주는 함수다.\n"
      ],
      "execution_count": null,
      "outputs": []
    },
    {
      "cell_type": "code",
      "metadata": {
        "id": "xTA2alBd3axA",
        "outputId": "a16002c7-582a-4bc5-9313-7c79e4cc204c",
        "colab": {
          "base_uri": "https://localhost:8080/"
        }
      },
      "source": [
        "y[:5]\n"
      ],
      "execution_count": null,
      "outputs": [
        {
          "output_type": "execute_result",
          "data": {
            "text/plain": [
              "array([ 0.42786349, -0.67348041, -0.09087764, -0.48949442, -0.12894109])"
            ]
          },
          "metadata": {
            "tags": []
          },
          "execution_count": 10
        }
      ]
    },
    {
      "cell_type": "code",
      "metadata": {
        "id": "0Fhm4PSN4wR3",
        "outputId": "e5f9ec2d-0eef-471f-b513-ba1dcbca7e39",
        "colab": {
          "base_uri": "https://localhost:8080/"
        }
      },
      "source": [
        "X_model = sm.add_constant(X)\n",
        "X_model[:5]\n",
        "#인자의 이름을 x1.x2등으로 지었다"
      ],
      "execution_count": null,
      "outputs": [
        {
          "output_type": "execute_result",
          "data": {
            "text/plain": [
              "array([[ 1.        , -0.12946849, -1.21275292,  0.50422488],\n",
              "       [ 1.        ,  0.30291036, -0.43574176, -0.25417986],\n",
              "       [ 1.        , -0.32852189, -0.02530153,  0.13835097],\n",
              "       [ 1.        , -0.35147471, -0.71960511, -0.25821463],\n",
              "       [ 1.        ,  1.2432688 , -0.37379916, -0.52262905]])"
            ]
          },
          "metadata": {
            "tags": []
          },
          "execution_count": 11
        }
      ]
    },
    {
      "cell_type": "code",
      "metadata": {
        "id": "f7UezoeI4zfh"
      },
      "source": [
        "#statsmpdels의 API와 Patsy의 문자열 용법을 사용할 수 있다.\n",
        "\n"
      ],
      "execution_count": null,
      "outputs": []
    },
    {
      "cell_type": "code",
      "metadata": {
        "id": "LVnUhp3W5VDJ"
      },
      "source": [
        "#주어진 샘플 데이터를 통해서 예측모델 인자에 전달한 예측 값을 계산할 수 있다 ."
      ],
      "execution_count": null,
      "outputs": []
    },
    {
      "cell_type": "code",
      "metadata": {
        "id": "tPFIL16r5NN5"
      },
      "source": [
        "## 시계열 처리 예측\n",
        "\n",
        "#statsmpdels의 포함된 또 다른 모델 클라스로는 시계열 분석 모델이 있다. \n",
        "#시계열 분석에는 자동회귀처리, 칼만 필터링과 다른 상태 공간 모델 ,다변 자동회귀 모델등이 있다. \n",
        "\n"
      ],
      "execution_count": null,
      "outputs": []
    },
    {
      "cell_type": "code",
      "metadata": {
        "id": "ccy-JNG45S7R"
      },
      "source": [
        "init_x = 4\n",
        "import random\n",
        "import pandas as pd\n",
        "values = [init_x, init_x]\n",
        "\n",
        "## 이 데이터는 인자가 0.8과 -0.4인 구조 ar모델을 피팅할때는 포함시켜야 할 지연 항을 얼마나 두어야 하는지 알지 못한다.\n",
        "# 그래서 적당히 큰 값으로 모델을 피팅한다.\n",
        "\n"
      ],
      "execution_count": null,
      "outputs": []
    },
    {
      "cell_type": "code",
      "metadata": {
        "id": "NbSdPstr6yPb"
      },
      "source": [
        "N = 1000"
      ],
      "execution_count": null,
      "outputs": []
    },
    {
      "cell_type": "code",
      "metadata": {
        "id": "8M3PdgON600S"
      },
      "source": [
        "b0 = 0.8\n",
        "b1 = -0.4\n",
        "noise = dnorm(0, 0.1, N)\n",
        "for i in range(N):\n",
        "  new_x = values [-1] * b0 + values [-2] * b1 + noise[i]\n",
        "  values.append(new_x)"
      ],
      "execution_count": null,
      "outputs": []
    },
    {
      "cell_type": "code",
      "metadata": {
        "id": "QRCDOhtV61Vy",
        "outputId": "c7ae6ea2-ef19-44a5-93b4-46c141810052",
        "colab": {
          "base_uri": "https://localhost:8080/"
        }
      },
      "source": [
        "MAXLAGS = 5\n",
        "model = sm.tsa.AR(values)\n",
        "results = model.fit(MAXLAGS)\n",
        "results.params"
      ],
      "execution_count": null,
      "outputs": [
        {
          "output_type": "execute_result",
          "data": {
            "text/plain": [
              "array([-0.00616093,  0.78446347, -0.40847891, -0.01364148,  0.01496872,\n",
              "        0.01429462])"
            ]
          },
          "metadata": {
            "tags": []
          },
          "execution_count": 20
        }
      ]
    },
    {
      "cell_type": "code",
      "metadata": {
        "id": "eaf_5kGA7GZS",
        "outputId": "d6e6e519-dbbe-4981-8cf7-29a976af1f40",
        "colab": {
          "base_uri": "https://localhost:8080/",
          "height": 431
        }
      },
      "source": [
        "train = pd.read_csv('train.csv')\n",
        "test = pd.read_csv('test.csv')\n",
        "train[:4]"
      ],
      "execution_count": null,
      "outputs": [
        {
          "output_type": "execute_result",
          "data": {
            "text/html": [
              "<div>\n",
              "<style scoped>\n",
              "    .dataframe tbody tr th:only-of-type {\n",
              "        vertical-align: middle;\n",
              "    }\n",
              "\n",
              "    .dataframe tbody tr th {\n",
              "        vertical-align: top;\n",
              "    }\n",
              "\n",
              "    .dataframe thead th {\n",
              "        text-align: right;\n",
              "    }\n",
              "</style>\n",
              "<table border=\"1\" class=\"dataframe\">\n",
              "  <thead>\n",
              "    <tr style=\"text-align: right;\">\n",
              "      <th></th>\n",
              "      <th>PassengerId</th>\n",
              "      <th>Survived</th>\n",
              "      <th>Pclass</th>\n",
              "      <th>Name</th>\n",
              "      <th>Sex</th>\n",
              "      <th>Age</th>\n",
              "      <th>SibSp</th>\n",
              "      <th>Parch</th>\n",
              "      <th>Ticket</th>\n",
              "      <th>Fare</th>\n",
              "      <th>Cabin</th>\n",
              "      <th>Embarked</th>\n",
              "    </tr>\n",
              "  </thead>\n",
              "  <tbody>\n",
              "    <tr>\n",
              "      <th>0</th>\n",
              "      <td>1</td>\n",
              "      <td>0</td>\n",
              "      <td>3</td>\n",
              "      <td>Braund, Mr. Owen Harris</td>\n",
              "      <td>male</td>\n",
              "      <td>22.0</td>\n",
              "      <td>1</td>\n",
              "      <td>0</td>\n",
              "      <td>A/5 21171</td>\n",
              "      <td>7.2500</td>\n",
              "      <td>NaN</td>\n",
              "      <td>S</td>\n",
              "    </tr>\n",
              "    <tr>\n",
              "      <th>1</th>\n",
              "      <td>2</td>\n",
              "      <td>1</td>\n",
              "      <td>1</td>\n",
              "      <td>Cumings, Mrs. John Bradley (Florence Briggs Th...</td>\n",
              "      <td>female</td>\n",
              "      <td>38.0</td>\n",
              "      <td>1</td>\n",
              "      <td>0</td>\n",
              "      <td>PC 17599</td>\n",
              "      <td>71.2833</td>\n",
              "      <td>C85</td>\n",
              "      <td>C</td>\n",
              "    </tr>\n",
              "    <tr>\n",
              "      <th>2</th>\n",
              "      <td>3</td>\n",
              "      <td>1</td>\n",
              "      <td>3</td>\n",
              "      <td>Heikkinen, Miss. Laina</td>\n",
              "      <td>female</td>\n",
              "      <td>26.0</td>\n",
              "      <td>0</td>\n",
              "      <td>0</td>\n",
              "      <td>STON/O2. 3101282</td>\n",
              "      <td>7.9250</td>\n",
              "      <td>NaN</td>\n",
              "      <td>S</td>\n",
              "    </tr>\n",
              "    <tr>\n",
              "      <th>3</th>\n",
              "      <td>4</td>\n",
              "      <td>1</td>\n",
              "      <td>1</td>\n",
              "      <td>Futrelle, Mrs. Jacques Heath (Lily May Peel)</td>\n",
              "      <td>female</td>\n",
              "      <td>35.0</td>\n",
              "      <td>1</td>\n",
              "      <td>0</td>\n",
              "      <td>113803</td>\n",
              "      <td>53.1000</td>\n",
              "      <td>C123</td>\n",
              "      <td>S</td>\n",
              "    </tr>\n",
              "  </tbody>\n",
              "</table>\n",
              "</div>"
            ],
            "text/plain": [
              "   PassengerId  Survived  Pclass  ...     Fare Cabin  Embarked\n",
              "0            1         0       3  ...   7.2500   NaN         S\n",
              "1            2         1       1  ...  71.2833   C85         C\n",
              "2            3         1       3  ...   7.9250   NaN         S\n",
              "3            4         1       1  ...  53.1000  C123         S\n",
              "\n",
              "[4 rows x 12 columns]"
            ]
          },
          "metadata": {
            "tags": []
          },
          "execution_count": 24
        }
      ]
    },
    {
      "cell_type": "code",
      "metadata": {
        "id": "j5xI_xMU7Pba"
      },
      "source": [
        "#결과에서 예측된 인자는 intercept을 가지고 그 다음에 두 지연에 대한 예측치를 받는다.\n",
        "#여기서는 일부 파이썬 모델링 라이브러리의 겉만 흝어 보았으나 파이썬으로 구현되었거나 파이썬 사용자\n",
        "##인터페이스를 제공하는 무수히 많은 라이브러리가 존재한다 \n",
        "\n",
        "\n"
      ],
      "execution_count": null,
      "outputs": []
    },
    {
      "cell_type": "code",
      "metadata": {
        "id": "xgl5aXh0-RCX"
      },
      "source": [
        "#마지막장#\n",
        "\n",
        "# 여기서는 실제 데이터 셋을 살펴본다.\n",
        "# 각 데이터 셋을 지금까지 배운 기술들을 이용해서 의미있는 정보들을 추출해보도록 하자\n",
        "# 여기서 설명하는 기술들은 다른 데이터 셋에도 적용할 수 있다. "
      ],
      "execution_count": null,
      "outputs": []
    },
    {
      "cell_type": "code",
      "metadata": {
        "id": "MqL7az7O-kVj",
        "outputId": "817d1037-0b5f-4678-c4c6-f953a3c36151",
        "colab": {
          "base_uri": "https://localhost:8080/",
          "height": 125
        }
      },
      "source": [
        "path = 'example.txt'\n",
        "\n",
        "open(path).readline()"
      ],
      "execution_count": 27,
      "outputs": [
        {
          "output_type": "execute_result",
          "data": {
            "application/vnd.google.colaboratory.intrinsic+json": {
              "type": "string"
            },
            "text/plain": [
              "'{ \"a\": \"Mozilla\\\\/5.0 (Windows NT 6.1; WOW64) AppleWebKit\\\\/535.11 (KHTML, like Gecko) Chrome\\\\/17.0.963.78 Safari\\\\/535.11\", \"c\": \"US\", \"nk\": 1, \"tz\": \"America\\\\/New_York\", \"gr\": \"MA\", \"g\": \"A6qOVH\", \"h\": \"wfLQtf\", \"l\": \"orofrog\", \"al\": \"en-US,en;q=0.8\", \"hh\": \"1.usa.gov\", \"r\": \"http:\\\\/\\\\/www.facebook.com\\\\/l\\\\/7AQEFzjSi\\\\/1.usa.gov\\\\/wfLQtf\", \"u\": \"http:\\\\/\\\\/www.ncbi.nlm.nih.gov\\\\/pubmed\\\\/22415991\", \"t\": 1331923247, \"hc\": 1331822918, \"cy\": \"Danvers\", \"ll\": [ 42.576698, -70.954903 ] }\\n'"
            ]
          },
          "metadata": {
            "tags": []
          },
          "execution_count": 27
        }
      ]
    },
    {
      "cell_type": "code",
      "metadata": {
        "id": "t5yYuKM7_TK3",
        "outputId": "987b0dbf-2e08-4259-b678-583e7295711b",
        "colab": {
          "base_uri": "https://localhost:8080/"
        }
      },
      "source": [
        "#파이썬에는 json 문자열을 파이썬 사전 객체로 바꿔주는\n",
        "# 다양한 내장 모듈과 서드파티 모듈이 있다.\n",
        "import json\n",
        "path = 'example.txt'\n",
        "records = [json.loads(line) for line in open(path)]\n",
        "records[0]"
      ],
      "execution_count": 29,
      "outputs": [
        {
          "output_type": "execute_result",
          "data": {
            "text/plain": [
              "{'a': 'Mozilla/5.0 (Windows NT 6.1; WOW64) AppleWebKit/535.11 (KHTML, like Gecko) Chrome/17.0.963.78 Safari/535.11',\n",
              " 'al': 'en-US,en;q=0.8',\n",
              " 'c': 'US',\n",
              " 'cy': 'Danvers',\n",
              " 'g': 'A6qOVH',\n",
              " 'gr': 'MA',\n",
              " 'h': 'wfLQtf',\n",
              " 'hc': 1331822918,\n",
              " 'hh': '1.usa.gov',\n",
              " 'l': 'orofrog',\n",
              " 'll': [42.576698, -70.954903],\n",
              " 'nk': 1,\n",
              " 'r': 'http://www.facebook.com/l/7AQEFzjSi/1.usa.gov/wfLQtf',\n",
              " 't': 1331923247,\n",
              " 'tz': 'America/New_York',\n",
              " 'u': 'http://www.ncbi.nlm.nih.gov/pubmed/22415991'}"
            ]
          },
          "metadata": {
            "tags": []
          },
          "execution_count": 29
        }
      ]
    },
    {
      "cell_type": "code",
      "metadata": {
        "id": "-p0qi_yH_cpT"
      },
      "source": [
        "\n",
        "#순수 파이썬으로 표준시간대를 세보자 \n",
        "#데이터에서 가장 빈도가 높은 표준 시간대를 구한다고 가정하자 \n",
        "#다양한 방법중에 리스트표기법을 사용해서 표준 시간대 목록을 가져오자\n",
        "\n",
        "time_zones = [rec['tz'] for rec in records]"
      ],
      "execution_count": null,
      "outputs": []
    },
    {
      "cell_type": "code",
      "metadata": {
        "id": "BPuug3f3_mrU",
        "outputId": "207b3209-49ca-4443-ca47-9acd9506a74d",
        "colab": {
          "base_uri": "https://localhost:8080/"
        }
      },
      "source": [
        "time_zones = [rec['tz'] for rec in records if 'tz' in rec]\n",
        "time_zones[:10]\n",
        "\n",
        "\n",
        "# 상위 10개의 표준시간대를 보면 그중 몇개는 비어있어서 뭔지 알 수 없다. 비어있는 필드를 제거 할수도 있는데 일단 그냥 두도록 한다.\n",
        "\n",
        "#파이썬 표준 라이브러리에 익숙하다면 좀더 간단하게 작성할 수 있다.\n"
      ],
      "execution_count": 31,
      "outputs": [
        {
          "output_type": "execute_result",
          "data": {
            "text/plain": [
              "['America/New_York',\n",
              " 'America/Denver',\n",
              " 'America/New_York',\n",
              " 'America/Sao_Paulo',\n",
              " 'America/New_York',\n",
              " 'America/New_York',\n",
              " 'Europe/Warsaw',\n",
              " '',\n",
              " '',\n",
              " '']"
            ]
          },
          "metadata": {
            "tags": []
          },
          "execution_count": 31
        }
      ]
    },
    {
      "cell_type": "code",
      "metadata": {
        "id": "qegZuJHOEPSA"
      },
      "source": [
        "def get_counts(squence):\n",
        "  counts = {}\n",
        "  for x in sequence:\n",
        "    if x in counts:\n",
        "      counts[x] +=1\n",
        "    else:\n",
        "      counts[x] = 1\n",
        "    return counts"
      ],
      "execution_count": 32,
      "outputs": []
    },
    {
      "cell_type": "code",
      "metadata": {
        "id": "vDeTH1x9EXUd"
      },
      "source": [
        "from collections import defaultdict\n",
        "\n",
        "#재사용이 쉽도록 로직을 함수로 만들고 timez_zone리스트를 넘겨서 사용하자"
      ],
      "execution_count": 34,
      "outputs": []
    },
    {
      "cell_type": "code",
      "metadata": {
        "id": "i1XW6vuMEZxl"
      },
      "source": [
        "def get_counts2(sequence):\n",
        "  counts = defaultdict(int)\n",
        "  for x in sequence:\n",
        "    counts[x] += 1\n",
        "  return counts"
      ],
      "execution_count": 35,
      "outputs": []
    },
    {
      "cell_type": "code",
      "metadata": {
        "id": "v7LBJwzAEkqm"
      },
      "source": [
        "#지금까지의 작업을 훨씬 쉽게 할 수 있다.\n"
      ],
      "execution_count": 36,
      "outputs": []
    },
    {
      "cell_type": "code",
      "metadata": {
        "id": "T8eceRg9Gwfi"
      },
      "source": [
        "from collections import Counter"
      ],
      "execution_count": 37,
      "outputs": []
    },
    {
      "cell_type": "code",
      "metadata": {
        "id": "kS_kf6aLGyMH",
        "outputId": "67b53e98-6fc3-4eb5-feb1-98709ee6295d",
        "colab": {
          "base_uri": "https://localhost:8080/"
        }
      },
      "source": [
        "counts = Counter(time_zones)\n",
        "counts.most_common(10)"
      ],
      "execution_count": 39,
      "outputs": [
        {
          "output_type": "execute_result",
          "data": {
            "text/plain": [
              "[('America/New_York', 1251),\n",
              " ('', 521),\n",
              " ('America/Chicago', 400),\n",
              " ('America/Los_Angeles', 382),\n",
              " ('America/Denver', 191),\n",
              " ('Europe/London', 74),\n",
              " ('Asia/Tokyo', 37),\n",
              " ('Pacific/Honolulu', 36),\n",
              " ('Europe/Madrid', 35),\n",
              " ('America/Sao_Paulo', 33)]"
            ]
          },
          "metadata": {
            "tags": []
          },
          "execution_count": 39
        }
      ]
    },
    {
      "cell_type": "code",
      "metadata": {
        "id": "x7YkjdtCG03X"
      },
      "source": [
        "import pandas as pd"
      ],
      "execution_count": 40,
      "outputs": []
    },
    {
      "cell_type": "code",
      "metadata": {
        "id": "hrNX1DPKHhVP"
      },
      "source": [
        "frame = pd.DataFrame(records)"
      ],
      "execution_count": 41,
      "outputs": []
    },
    {
      "cell_type": "code",
      "metadata": {
        "id": "IVpx4FYQHjj3",
        "outputId": "86adb439-603e-4787-9dbf-11b9c56645ee",
        "colab": {
          "base_uri": "https://localhost:8080/"
        }
      },
      "source": [
        "frame.info()"
      ],
      "execution_count": 42,
      "outputs": [
        {
          "output_type": "stream",
          "text": [
            "<class 'pandas.core.frame.DataFrame'>\n",
            "RangeIndex: 3560 entries, 0 to 3559\n",
            "Data columns (total 18 columns):\n",
            " #   Column       Non-Null Count  Dtype  \n",
            "---  ------       --------------  -----  \n",
            " 0   a            3440 non-null   object \n",
            " 1   c            2919 non-null   object \n",
            " 2   nk           3440 non-null   float64\n",
            " 3   tz           3440 non-null   object \n",
            " 4   gr           2919 non-null   object \n",
            " 5   g            3440 non-null   object \n",
            " 6   h            3440 non-null   object \n",
            " 7   l            3440 non-null   object \n",
            " 8   al           3094 non-null   object \n",
            " 9   hh           3440 non-null   object \n",
            " 10  r            3440 non-null   object \n",
            " 11  u            3440 non-null   object \n",
            " 12  t            3440 non-null   float64\n",
            " 13  hc           3440 non-null   float64\n",
            " 14  cy           2919 non-null   object \n",
            " 15  ll           2919 non-null   object \n",
            " 16  _heartbeat_  120 non-null    float64\n",
            " 17  kw           93 non-null     object \n",
            "dtypes: float64(4), object(14)\n",
            "memory usage: 500.8+ KB\n"
          ],
          "name": "stdout"
        }
      ]
    },
    {
      "cell_type": "code",
      "metadata": {
        "id": "GL0DrfKpHkIX",
        "outputId": "ef358ab8-ad7f-40bd-f440-a89aa14f3e71",
        "colab": {
          "base_uri": "https://localhost:8080/"
        }
      },
      "source": [
        "##출력 결과는 거대한 DataFrame 객체의 요약 정보이다 \n",
        "#frame['tz']값에서 반환되는 Seires 객체에는 Value,Couns 메서드를 사용하면 세볼 수 있다.\n",
        "\n",
        "frame['tz'][:10]"
      ],
      "execution_count": 43,
      "outputs": [
        {
          "output_type": "execute_result",
          "data": {
            "text/plain": [
              "0     America/New_York\n",
              "1       America/Denver\n",
              "2     America/New_York\n",
              "3    America/Sao_Paulo\n",
              "4     America/New_York\n",
              "5     America/New_York\n",
              "6        Europe/Warsaw\n",
              "7                     \n",
              "8                     \n",
              "9                     \n",
              "Name: tz, dtype: object"
            ]
          },
          "metadata": {
            "tags": []
          },
          "execution_count": 43
        }
      ]
    },
    {
      "cell_type": "code",
      "metadata": {
        "id": "X6lG0GLgHmR3"
      },
      "source": [
        "tz_counts = frame['tz'].value_counts()"
      ],
      "execution_count": 44,
      "outputs": []
    },
    {
      "cell_type": "code",
      "metadata": {
        "id": "f76HlAwjHosv",
        "outputId": "afd42ff6-12dc-4eb6-bdbe-207908e4f42e",
        "colab": {
          "base_uri": "https://localhost:8080/"
        }
      },
      "source": [
        "tz_counts[:10]"
      ],
      "execution_count": 45,
      "outputs": [
        {
          "output_type": "execute_result",
          "data": {
            "text/plain": [
              "America/New_York       1251\n",
              "                        521\n",
              "America/Chicago         400\n",
              "America/Los_Angeles     382\n",
              "America/Denver          191\n",
              "Europe/London            74\n",
              "Asia/Tokyo               37\n",
              "Pacific/Honolulu         36\n",
              "Europe/Madrid            35\n",
              "America/Sao_Paulo        33\n",
              "Name: tz, dtype: int64"
            ]
          },
          "metadata": {
            "tags": []
          },
          "execution_count": 45
        }
      ]
    },
    {
      "cell_type": "code",
      "metadata": {
        "id": "yHYDMnS2HqGf"
      },
      "source": [
        "#matplotlib 데이터를 그래프로 그릴 수 있다. 그전에 records에서 비어있는 표준 시간대를 다른 이름으로 바꿔보자\n",
        "#fillna함수로 빠진 값을 대체하고 불리언 배열 색인을 이용해서 비어있는 값을 대체할 수 있다.\n",
        "\n",
        "\n",
        "clean_tz = frame['tz'].fillna('Missing')\n",
        "clean_tz[clean_tz == ''] = 'Unknown'\n",
        "tz_counts = clean_tz.value_counts()"
      ],
      "execution_count": 46,
      "outputs": []
    },
    {
      "cell_type": "code",
      "metadata": {
        "id": "98L-HZ76H0H3",
        "outputId": "c3bf13ac-6eda-403b-ccec-04ba005369ba",
        "colab": {
          "base_uri": "https://localhost:8080/"
        }
      },
      "source": [
        "tz_counts[:10]"
      ],
      "execution_count": 47,
      "outputs": [
        {
          "output_type": "execute_result",
          "data": {
            "text/plain": [
              "America/New_York       1251\n",
              "Unknown                 521\n",
              "America/Chicago         400\n",
              "America/Los_Angeles     382\n",
              "America/Denver          191\n",
              "Missing                 120\n",
              "Europe/London            74\n",
              "Asia/Tokyo               37\n",
              "Pacific/Honolulu         36\n",
              "Europe/Madrid            35\n",
              "Name: tz, dtype: int64"
            ]
          },
          "metadata": {
            "tags": []
          },
          "execution_count": 47
        }
      ]
    },
    {
      "cell_type": "code",
      "metadata": {
        "id": "Wvk8Yj7eH1K3"
      },
      "source": [
        "\n",
        "\n",
        "\n"
      ],
      "execution_count": 48,
      "outputs": []
    },
    {
      "cell_type": "code",
      "metadata": {
        "id": "ZZJEvI18Ivh6",
        "outputId": "bf77a7ae-a157-412d-a0f8-7b21fde83862",
        "colab": {
          "base_uri": "https://localhost:8080/",
          "height": 283
        }
      },
      "source": [
        "#여기서 seaborn 패키지를 이용해서 수평막대바 그래프를 그려보자.\n",
        "\n",
        "import seaborn as sns\n",
        "subset = tz_counts[:10]\n",
        "sns.barplot(y=subset.index, x=subset.values)"
      ],
      "execution_count": 51,
      "outputs": [
        {
          "output_type": "execute_result",
          "data": {
            "text/plain": [
              "<matplotlib.axes._subplots.AxesSubplot at 0x7f2fcc17a748>"
            ]
          },
          "metadata": {
            "tags": []
          },
          "execution_count": 51
        },
        {
          "output_type": "display_data",
          "data": {
            "image/png": "[encoded data removed]",
            "text/plain": [
              "<Figure size 432x288 with 1 Axes>"
            ]
          },
          "metadata": {
            "tags": [],
            "needs_background": "light"
          }
        }
      ]
    },
    {
      "cell_type": "code",
      "metadata": {
        "id": "DNVTy0B9I-QI",
        "outputId": "9cde7133-6473-466f-cfe0-e1dd80d0a332",
        "colab": {
          "base_uri": "https://localhost:8080/",
          "height": 35
        }
      },
      "source": [
        "frame['a'][1]\n",
        "\n",
        "#a 필드에는 url 단축을 실행하는 브라우저 단말기 애플리케이션에 대한 정보가 들어있다.\n"
      ],
      "execution_count": 52,
      "outputs": [
        {
          "output_type": "execute_result",
          "data": {
            "application/vnd.google.colaboratory.intrinsic+json": {
              "type": "string"
            },
            "text/plain": [
              "'GoogleMaps/RochesterNY'"
            ]
          },
          "metadata": {
            "tags": []
          },
          "execution_count": 52
        }
      ]
    },
    {
      "cell_type": "code",
      "metadata": {
        "id": "-R23DJLZKpto",
        "outputId": "9261de30-47bb-4367-d642-dfc0dd71e7db",
        "colab": {
          "base_uri": "https://localhost:8080/",
          "height": 35
        }
      },
      "source": [
        "frame['a'][50]"
      ],
      "execution_count": 53,
      "outputs": [
        {
          "output_type": "execute_result",
          "data": {
            "application/vnd.google.colaboratory.intrinsic+json": {
              "type": "string"
            },
            "text/plain": [
              "'Mozilla/5.0 (Windows NT 5.1; rv:10.0.2) Gecko/20100101 Firefox/10.0.2'"
            ]
          },
          "metadata": {
            "tags": []
          },
          "execution_count": 53
        }
      ]
    },
    {
      "cell_type": "code",
      "metadata": {
        "id": "GfWJ7f5TKqx6",
        "outputId": "acbcd9d0-5bb1-451e-caea-075cf430dc7f",
        "colab": {
          "base_uri": "https://localhost:8080/",
          "height": 35
        }
      },
      "source": [
        "frame['a'][51][:50]\n",
        "\n",
        "\n",
        "#\"aqent\" 어떤 흥미로운 문자열 정보를 분석하는 일이 어려워 보일 수 있다."
      ],
      "execution_count": 54,
      "outputs": [
        {
          "output_type": "execute_result",
          "data": {
            "application/vnd.google.colaboratory.intrinsic+json": {
              "type": "string"
            },
            "text/plain": [
              "'Mozilla/5.0 (Linux; U; Android 2.2.2; en-us; LG-P9'"
            ]
          },
          "metadata": {
            "tags": []
          },
          "execution_count": 54
        }
      ]
    },
    {
      "cell_type": "code",
      "metadata": {
        "id": "HisWY5ciKsqy",
        "outputId": "fca90acd-13e2-4951-f334-59ad7412c0f2",
        "colab": {
          "base_uri": "https://localhost:8080/"
        }
      },
      "source": [
        "results = pd.Series([x.split()[0] for x in frame.a.dropna()])\n",
        "results[:5]"
      ],
      "execution_count": 58,
      "outputs": [
        {
          "output_type": "execute_result",
          "data": {
            "text/plain": [
              "0               Mozilla/5.0\n",
              "1    GoogleMaps/RochesterNY\n",
              "2               Mozilla/4.0\n",
              "3               Mozilla/5.0\n",
              "4               Mozilla/5.0\n",
              "dtype: object"
            ]
          },
          "metadata": {
            "tags": []
          },
          "execution_count": 58
        }
      ]
    },
    {
      "cell_type": "code",
      "metadata": {
        "id": "um2smXz1Ky86",
        "outputId": "ca49c71f-bfd7-4ee1-d550-474c32c81baf",
        "colab": {
          "base_uri": "https://localhost:8080/"
        }
      },
      "source": [
        "results.value_counts()[:8]\n",
        "\n",
        "#이제 표준시간대 순위표를 윈도우 사용자와 비 윈도우 사용자 그룹으로 나눠보자 \n",
        "# 단순화해서 agent 문자열에 Windows 포함하면 윈도우 사용자라고 가정하자 값이 없으면 제외하자"
      ],
      "execution_count": 60,
      "outputs": [
        {
          "output_type": "execute_result",
          "data": {
            "text/plain": [
              "Mozilla/5.0                 2594\n",
              "Mozilla/4.0                  601\n",
              "GoogleMaps/RochesterNY       121\n",
              "Opera/9.80                    34\n",
              "TEST_INTERNET_AGENT           24\n",
              "GoogleProducer                21\n",
              "Mozilla/6.0                    5\n",
              "BlackBerry8520/5.0.0.681       4\n",
              "dtype: int64"
            ]
          },
          "metadata": {
            "tags": []
          },
          "execution_count": 60
        }
      ]
    },
    {
      "cell_type": "code",
      "metadata": {
        "id": "xv41xA61K1MS",
        "outputId": "3869f98b-2213-4df6-a828-811e45bd6ad1",
        "colab": {
          "base_uri": "https://localhost:8080/"
        }
      },
      "source": [
        "cframe = frame[frame.a.notnull()]\n",
        "\n",
        "cframe['os'] = np.where(cframe['a'].str.contains('Windows'),\n",
        "                        'Windows', 'Not Windows')\n",
        "cframe['os'][:5]\n",
        "\n",
        "\n",
        "#그런 다음 표준시간대와 운영체제를 기준으로 데이터를 그룹으로 묶는다."
      ],
      "execution_count": 61,
      "outputs": [
        {
          "output_type": "stream",
          "text": [
            "/usr/local/lib/python3.6/dist-packages/ipykernel_launcher.py:4: SettingWithCopyWarning: \n",
            "A value is trying to be set on a copy of a slice from a DataFrame.\n",
            "Try using .loc[row_indexer,col_indexer] = value instead\n",
            "\n",
            "See the caveats in the documentation: https://pandas.pydata.org/pandas-docs/stable/user_guide/indexing.html#returning-a-view-versus-a-copy\n",
            "  after removing the cwd from sys.path.\n"
          ],
          "name": "stderr"
        },
        {
          "output_type": "execute_result",
          "data": {
            "text/plain": [
              "0        Windows\n",
              "1    Not Windows\n",
              "2        Windows\n",
              "3    Not Windows\n",
              "4        Windows\n",
              "Name: os, dtype: object"
            ]
          },
          "metadata": {
            "tags": []
          },
          "execution_count": 61
        }
      ]
    },
    {
      "cell_type": "code",
      "metadata": {
        "id": "D93Ic51qLggB"
      },
      "source": [
        "by_tz_os = cframe.groupby(['tz', 'os'])"
      ],
      "execution_count": 64,
      "outputs": []
    },
    {
      "cell_type": "code",
      "metadata": {
        "id": "oSl6dwV-Nep0",
        "outputId": "b4327b6b-a2f1-40c9-d90e-28e343fe02d1",
        "colab": {
          "base_uri": "https://localhost:8080/",
          "height": 390
        }
      },
      "source": [
        "agg_counts = by_tz_os.size().unstack().fillna(0)\n",
        "agg_counts[:10]"
      ],
      "execution_count": 65,
      "outputs": [
        {
          "output_type": "execute_result",
          "data": {
            "text/html": [
              "<div>\n",
              "<style scoped>\n",
              "    .dataframe tbody tr th:only-of-type {\n",
              "        vertical-align: middle;\n",
              "    }\n",
              "\n",
              "    .dataframe tbody tr th {\n",
              "        vertical-align: top;\n",
              "    }\n",
              "\n",
              "    .dataframe thead th {\n",
              "        text-align: right;\n",
              "    }\n",
              "</style>\n",
              "<table border=\"1\" class=\"dataframe\">\n",
              "  <thead>\n",
              "    <tr style=\"text-align: right;\">\n",
              "      <th>os</th>\n",
              "      <th>Not Windows</th>\n",
              "      <th>Windows</th>\n",
              "    </tr>\n",
              "    <tr>\n",
              "      <th>tz</th>\n",
              "      <th></th>\n",
              "      <th></th>\n",
              "    </tr>\n",
              "  </thead>\n",
              "  <tbody>\n",
              "    <tr>\n",
              "      <th></th>\n",
              "      <td>245.0</td>\n",
              "      <td>276.0</td>\n",
              "    </tr>\n",
              "    <tr>\n",
              "      <th>Africa/Cairo</th>\n",
              "      <td>0.0</td>\n",
              "      <td>3.0</td>\n",
              "    </tr>\n",
              "    <tr>\n",
              "      <th>Africa/Casablanca</th>\n",
              "      <td>0.0</td>\n",
              "      <td>1.0</td>\n",
              "    </tr>\n",
              "    <tr>\n",
              "      <th>Africa/Ceuta</th>\n",
              "      <td>0.0</td>\n",
              "      <td>2.0</td>\n",
              "    </tr>\n",
              "    <tr>\n",
              "      <th>Africa/Johannesburg</th>\n",
              "      <td>0.0</td>\n",
              "      <td>1.0</td>\n",
              "    </tr>\n",
              "    <tr>\n",
              "      <th>Africa/Lusaka</th>\n",
              "      <td>0.0</td>\n",
              "      <td>1.0</td>\n",
              "    </tr>\n",
              "    <tr>\n",
              "      <th>America/Anchorage</th>\n",
              "      <td>4.0</td>\n",
              "      <td>1.0</td>\n",
              "    </tr>\n",
              "    <tr>\n",
              "      <th>America/Argentina/Buenos_Aires</th>\n",
              "      <td>1.0</td>\n",
              "      <td>0.0</td>\n",
              "    </tr>\n",
              "    <tr>\n",
              "      <th>America/Argentina/Cordoba</th>\n",
              "      <td>0.0</td>\n",
              "      <td>1.0</td>\n",
              "    </tr>\n",
              "    <tr>\n",
              "      <th>America/Argentina/Mendoza</th>\n",
              "      <td>0.0</td>\n",
              "      <td>1.0</td>\n",
              "    </tr>\n",
              "  </tbody>\n",
              "</table>\n",
              "</div>"
            ],
            "text/plain": [
              "os                              Not Windows  Windows\n",
              "tz                                                  \n",
              "                                      245.0    276.0\n",
              "Africa/Cairo                            0.0      3.0\n",
              "Africa/Casablanca                       0.0      1.0\n",
              "Africa/Ceuta                            0.0      2.0\n",
              "Africa/Johannesburg                     0.0      1.0\n",
              "Africa/Lusaka                           0.0      1.0\n",
              "America/Anchorage                       4.0      1.0\n",
              "America/Argentina/Buenos_Aires          1.0      0.0\n",
              "America/Argentina/Cordoba               0.0      1.0\n",
              "America/Argentina/Mendoza               0.0      1.0"
            ]
          },
          "metadata": {
            "tags": []
          },
          "execution_count": 65
        }
      ]
    },
    {
      "cell_type": "code",
      "metadata": {
        "id": "gWbl651UNxF6",
        "outputId": "826cf714-dade-46f5-e614-786606d35b24",
        "colab": {
          "base_uri": "https://localhost:8080/"
        }
      },
      "source": [
        "indexer = agg_counts.sum(1).argsort()\n",
        "indexer[:10]"
      ],
      "execution_count": 66,
      "outputs": [
        {
          "output_type": "execute_result",
          "data": {
            "text/plain": [
              "tz\n",
              "                                  24\n",
              "Africa/Cairo                      20\n",
              "Africa/Casablanca                 21\n",
              "Africa/Ceuta                      92\n",
              "Africa/Johannesburg               87\n",
              "Africa/Lusaka                     53\n",
              "America/Anchorage                 54\n",
              "America/Argentina/Buenos_Aires    57\n",
              "America/Argentina/Cordoba         26\n",
              "America/Argentina/Mendoza         55\n",
              "dtype: int64"
            ]
          },
          "metadata": {
            "tags": []
          },
          "execution_count": 66
        }
      ]
    },
    {
      "cell_type": "code",
      "metadata": {
        "id": "byzDh2JLN0wi",
        "outputId": "743c6862-0364-4b56-9c7c-9ec7077e9b04",
        "colab": {
          "base_uri": "https://localhost:8080/",
          "height": 390
        }
      },
      "source": [
        "count_subset = agg_counts.take(indexer[-10:])\n",
        "count_subset"
      ],
      "execution_count": 67,
      "outputs": [
        {
          "output_type": "execute_result",
          "data": {
            "text/html": [
              "<div>\n",
              "<style scoped>\n",
              "    .dataframe tbody tr th:only-of-type {\n",
              "        vertical-align: middle;\n",
              "    }\n",
              "\n",
              "    .dataframe tbody tr th {\n",
              "        vertical-align: top;\n",
              "    }\n",
              "\n",
              "    .dataframe thead th {\n",
              "        text-align: right;\n",
              "    }\n",
              "</style>\n",
              "<table border=\"1\" class=\"dataframe\">\n",
              "  <thead>\n",
              "    <tr style=\"text-align: right;\">\n",
              "      <th>os</th>\n",
              "      <th>Not Windows</th>\n",
              "      <th>Windows</th>\n",
              "    </tr>\n",
              "    <tr>\n",
              "      <th>tz</th>\n",
              "      <th></th>\n",
              "      <th></th>\n",
              "    </tr>\n",
              "  </thead>\n",
              "  <tbody>\n",
              "    <tr>\n",
              "      <th>America/Sao_Paulo</th>\n",
              "      <td>13.0</td>\n",
              "      <td>20.0</td>\n",
              "    </tr>\n",
              "    <tr>\n",
              "      <th>Europe/Madrid</th>\n",
              "      <td>16.0</td>\n",
              "      <td>19.0</td>\n",
              "    </tr>\n",
              "    <tr>\n",
              "      <th>Pacific/Honolulu</th>\n",
              "      <td>0.0</td>\n",
              "      <td>36.0</td>\n",
              "    </tr>\n",
              "    <tr>\n",
              "      <th>Asia/Tokyo</th>\n",
              "      <td>2.0</td>\n",
              "      <td>35.0</td>\n",
              "    </tr>\n",
              "    <tr>\n",
              "      <th>Europe/London</th>\n",
              "      <td>43.0</td>\n",
              "      <td>31.0</td>\n",
              "    </tr>\n",
              "    <tr>\n",
              "      <th>America/Denver</th>\n",
              "      <td>132.0</td>\n",
              "      <td>59.0</td>\n",
              "    </tr>\n",
              "    <tr>\n",
              "      <th>America/Los_Angeles</th>\n",
              "      <td>130.0</td>\n",
              "      <td>252.0</td>\n",
              "    </tr>\n",
              "    <tr>\n",
              "      <th>America/Chicago</th>\n",
              "      <td>115.0</td>\n",
              "      <td>285.0</td>\n",
              "    </tr>\n",
              "    <tr>\n",
              "      <th></th>\n",
              "      <td>245.0</td>\n",
              "      <td>276.0</td>\n",
              "    </tr>\n",
              "    <tr>\n",
              "      <th>America/New_York</th>\n",
              "      <td>339.0</td>\n",
              "      <td>912.0</td>\n",
              "    </tr>\n",
              "  </tbody>\n",
              "</table>\n",
              "</div>"
            ],
            "text/plain": [
              "os                   Not Windows  Windows\n",
              "tz                                       \n",
              "America/Sao_Paulo           13.0     20.0\n",
              "Europe/Madrid               16.0     19.0\n",
              "Pacific/Honolulu             0.0     36.0\n",
              "Asia/Tokyo                   2.0     35.0\n",
              "Europe/London               43.0     31.0\n",
              "America/Denver             132.0     59.0\n",
              "America/Los_Angeles        130.0    252.0\n",
              "America/Chicago            115.0    285.0\n",
              "                           245.0    276.0\n",
              "America/New_York           339.0    912.0"
            ]
          },
          "metadata": {
            "tags": []
          },
          "execution_count": 67
        }
      ]
    },
    {
      "cell_type": "code",
      "metadata": {
        "id": "wjePneBRN5ji",
        "outputId": "df3790f9-97ea-457b-85cc-d71fc6a9afef",
        "colab": {
          "base_uri": "https://localhost:8080/"
        }
      },
      "source": [
        "agg_counts.sum(1).nlargest(10)"
      ],
      "execution_count": 68,
      "outputs": [
        {
          "output_type": "execute_result",
          "data": {
            "text/plain": [
              "tz\n",
              "America/New_York       1251.0\n",
              "                        521.0\n",
              "America/Chicago         400.0\n",
              "America/Los_Angeles     382.0\n",
              "America/Denver          191.0\n",
              "Europe/London            74.0\n",
              "Asia/Tokyo               37.0\n",
              "Pacific/Honolulu         36.0\n",
              "Europe/Madrid            35.0\n",
              "America/Sao_Paulo        33.0\n",
              "dtype: float64"
            ]
          },
          "metadata": {
            "tags": []
          },
          "execution_count": 68
        }
      ]
    },
    {
      "cell_type": "code",
      "metadata": {
        "id": "ofdRtx-dN7_6",
        "outputId": "ac4c1422-160e-4199-a14e-625580f332e5",
        "colab": {
          "base_uri": "https://localhost:8080/",
          "height": 359
        }
      },
      "source": [
        "count_subset = count_subset.stack()\n",
        "count_subset.name = 'total'\n",
        "count_subset = count_subset.reset_index()\n",
        "count_subset[:10]"
      ],
      "execution_count": 70,
      "outputs": [
        {
          "output_type": "execute_result",
          "data": {
            "text/html": [
              "<div>\n",
              "<style scoped>\n",
              "    .dataframe tbody tr th:only-of-type {\n",
              "        vertical-align: middle;\n",
              "    }\n",
              "\n",
              "    .dataframe tbody tr th {\n",
              "        vertical-align: top;\n",
              "    }\n",
              "\n",
              "    .dataframe thead th {\n",
              "        text-align: right;\n",
              "    }\n",
              "</style>\n",
              "<table border=\"1\" class=\"dataframe\">\n",
              "  <thead>\n",
              "    <tr style=\"text-align: right;\">\n",
              "      <th></th>\n",
              "      <th>tz</th>\n",
              "      <th>os</th>\n",
              "      <th>total</th>\n",
              "    </tr>\n",
              "  </thead>\n",
              "  <tbody>\n",
              "    <tr>\n",
              "      <th>0</th>\n",
              "      <td>America/Sao_Paulo</td>\n",
              "      <td>Not Windows</td>\n",
              "      <td>13.0</td>\n",
              "    </tr>\n",
              "    <tr>\n",
              "      <th>1</th>\n",
              "      <td>America/Sao_Paulo</td>\n",
              "      <td>Windows</td>\n",
              "      <td>20.0</td>\n",
              "    </tr>\n",
              "    <tr>\n",
              "      <th>2</th>\n",
              "      <td>Europe/Madrid</td>\n",
              "      <td>Not Windows</td>\n",
              "      <td>16.0</td>\n",
              "    </tr>\n",
              "    <tr>\n",
              "      <th>3</th>\n",
              "      <td>Europe/Madrid</td>\n",
              "      <td>Windows</td>\n",
              "      <td>19.0</td>\n",
              "    </tr>\n",
              "    <tr>\n",
              "      <th>4</th>\n",
              "      <td>Pacific/Honolulu</td>\n",
              "      <td>Not Windows</td>\n",
              "      <td>0.0</td>\n",
              "    </tr>\n",
              "    <tr>\n",
              "      <th>5</th>\n",
              "      <td>Pacific/Honolulu</td>\n",
              "      <td>Windows</td>\n",
              "      <td>36.0</td>\n",
              "    </tr>\n",
              "    <tr>\n",
              "      <th>6</th>\n",
              "      <td>Asia/Tokyo</td>\n",
              "      <td>Not Windows</td>\n",
              "      <td>2.0</td>\n",
              "    </tr>\n",
              "    <tr>\n",
              "      <th>7</th>\n",
              "      <td>Asia/Tokyo</td>\n",
              "      <td>Windows</td>\n",
              "      <td>35.0</td>\n",
              "    </tr>\n",
              "    <tr>\n",
              "      <th>8</th>\n",
              "      <td>Europe/London</td>\n",
              "      <td>Not Windows</td>\n",
              "      <td>43.0</td>\n",
              "    </tr>\n",
              "    <tr>\n",
              "      <th>9</th>\n",
              "      <td>Europe/London</td>\n",
              "      <td>Windows</td>\n",
              "      <td>31.0</td>\n",
              "    </tr>\n",
              "  </tbody>\n",
              "</table>\n",
              "</div>"
            ],
            "text/plain": [
              "                  tz           os  total\n",
              "0  America/Sao_Paulo  Not Windows   13.0\n",
              "1  America/Sao_Paulo      Windows   20.0\n",
              "2      Europe/Madrid  Not Windows   16.0\n",
              "3      Europe/Madrid      Windows   19.0\n",
              "4   Pacific/Honolulu  Not Windows    0.0\n",
              "5   Pacific/Honolulu      Windows   36.0\n",
              "6         Asia/Tokyo  Not Windows    2.0\n",
              "7         Asia/Tokyo      Windows   35.0\n",
              "8      Europe/London  Not Windows   43.0\n",
              "9      Europe/London      Windows   31.0"
            ]
          },
          "metadata": {
            "tags": []
          },
          "execution_count": 70
        }
      ]
    },
    {
      "cell_type": "code",
      "metadata": {
        "id": "1XFOdrKSOF8C",
        "outputId": "a701da37-7d3e-4e16-f350-c086b445b9f0",
        "colab": {
          "base_uri": "https://localhost:8080/",
          "height": 297
        }
      },
      "source": [
        "sns.barplot(x='total',y='tz',hue='os', data=count_subset)"
      ],
      "execution_count": 71,
      "outputs": [
        {
          "output_type": "execute_result",
          "data": {
            "text/plain": [
              "<matplotlib.axes._subplots.AxesSubplot at 0x7f2fcb99af98>"
            ]
          },
          "metadata": {
            "tags": []
          },
          "execution_count": 71
        },
        {
          "output_type": "display_data",
          "data": {
            "image/png": "[encoded data removed]",
            "text/plain": [
              "<Figure size 432x288 with 1 Axes>"
            ]
          },
          "metadata": {
            "tags": [],
            "needs_background": "light"
          }
        }
      ]
    },
    {
      "cell_type": "code",
      "metadata": {
        "id": "CFZzxNrYONLC",
        "outputId": "0be911c1-cdf0-4c87-fde4-566934d5cfa6",
        "colab": {
          "base_uri": "https://localhost:8080/"
        }
      },
      "source": [
        "pd.options.display.max_rows = 10\n",
        "\n",
        "unames = [ 'user_id', 'gender', 'age' , 'occupation','zip']\n",
        "users = pd.read_table('users.dat' , sep='::',\n",
        "                      header=None, names=unames)"
      ],
      "execution_count": 72,
      "outputs": [
        {
          "output_type": "stream",
          "text": [
            "/usr/local/lib/python3.6/dist-packages/pandas/io/parsers.py:765: ParserWarning: Falling back to the 'python' engine because the 'c' engine does not support regex separators (separators > 1 char and different from '\\s+' are interpreted as regex); you can avoid this warning by specifying engine='python'.\n",
            "  return read_csv(**locals())\n"
          ],
          "name": "stderr"
        }
      ]
    },
    {
      "cell_type": "code",
      "metadata": {
        "id": "esVJ2xiyWs7g",
        "outputId": "42d0986e-5649-4a62-d3d5-6257e7b13f06",
        "colab": {
          "base_uri": "https://localhost:8080/"
        }
      },
      "source": [
        "rnames =['user_id', 'movie_id', 'rating', 'timestamp']\n",
        "ratings = pd.read_table('ratings.dat',sep='::',header=None, names=rnames)\n"
      ],
      "execution_count": 73,
      "outputs": [
        {
          "output_type": "stream",
          "text": [
            "/usr/local/lib/python3.6/dist-packages/pandas/io/parsers.py:765: ParserWarning: Falling back to the 'python' engine because the 'c' engine does not support regex separators (separators > 1 char and different from '\\s+' are interpreted as regex); you can avoid this warning by specifying engine='python'.\n",
            "  return read_csv(**locals())\n"
          ],
          "name": "stderr"
        }
      ]
    },
    {
      "cell_type": "code",
      "metadata": {
        "id": "ZSreIK_VW7zv",
        "outputId": "676a0a59-6ec6-4675-8615-3094ed9acdf6",
        "colab": {
          "base_uri": "https://localhost:8080/"
        }
      },
      "source": [
        "mnames = ['movie_id','title','genres']\n",
        "movies = pd.read_table('movies.dat',sep='::', header=None, names=mnames)"
      ],
      "execution_count": 74,
      "outputs": [
        {
          "output_type": "stream",
          "text": [
            "/usr/local/lib/python3.6/dist-packages/pandas/io/parsers.py:765: ParserWarning: Falling back to the 'python' engine because the 'c' engine does not support regex separators (separators > 1 char and different from '\\s+' are interpreted as regex); you can avoid this warning by specifying engine='python'.\n",
            "  return read_csv(**locals())\n"
          ],
          "name": "stderr"
        }
      ]
    },
    {
      "cell_type": "code",
      "metadata": {
        "id": "qa0WtvqFXGrf",
        "outputId": "8059f21a-5822-425f-fdc3-d02d2c537455",
        "colab": {
          "base_uri": "https://localhost:8080/",
          "height": 204
        }
      },
      "source": [
        "users[:5]"
      ],
      "execution_count": 75,
      "outputs": [
        {
          "output_type": "execute_result",
          "data": {
            "text/html": [
              "<div>\n",
              "<style scoped>\n",
              "    .dataframe tbody tr th:only-of-type {\n",
              "        vertical-align: middle;\n",
              "    }\n",
              "\n",
              "    .dataframe tbody tr th {\n",
              "        vertical-align: top;\n",
              "    }\n",
              "\n",
              "    .dataframe thead th {\n",
              "        text-align: right;\n",
              "    }\n",
              "</style>\n",
              "<table border=\"1\" class=\"dataframe\">\n",
              "  <thead>\n",
              "    <tr style=\"text-align: right;\">\n",
              "      <th></th>\n",
              "      <th>user_id</th>\n",
              "      <th>gender</th>\n",
              "      <th>age</th>\n",
              "      <th>occupation</th>\n",
              "      <th>zip</th>\n",
              "    </tr>\n",
              "  </thead>\n",
              "  <tbody>\n",
              "    <tr>\n",
              "      <th>0</th>\n",
              "      <td>1</td>\n",
              "      <td>F</td>\n",
              "      <td>1</td>\n",
              "      <td>10</td>\n",
              "      <td>48067</td>\n",
              "    </tr>\n",
              "    <tr>\n",
              "      <th>1</th>\n",
              "      <td>2</td>\n",
              "      <td>M</td>\n",
              "      <td>56</td>\n",
              "      <td>16</td>\n",
              "      <td>70072</td>\n",
              "    </tr>\n",
              "    <tr>\n",
              "      <th>2</th>\n",
              "      <td>3</td>\n",
              "      <td>M</td>\n",
              "      <td>25</td>\n",
              "      <td>15</td>\n",
              "      <td>55117</td>\n",
              "    </tr>\n",
              "    <tr>\n",
              "      <th>3</th>\n",
              "      <td>4</td>\n",
              "      <td>M</td>\n",
              "      <td>45</td>\n",
              "      <td>7</td>\n",
              "      <td>02460</td>\n",
              "    </tr>\n",
              "    <tr>\n",
              "      <th>4</th>\n",
              "      <td>5</td>\n",
              "      <td>M</td>\n",
              "      <td>25</td>\n",
              "      <td>20</td>\n",
              "      <td>55455</td>\n",
              "    </tr>\n",
              "  </tbody>\n",
              "</table>\n",
              "</div>"
            ],
            "text/plain": [
              "   user_id gender  age  occupation    zip\n",
              "0        1      F    1          10  48067\n",
              "1        2      M   56          16  70072\n",
              "2        3      M   25          15  55117\n",
              "3        4      M   45           7  02460\n",
              "4        5      M   25          20  55455"
            ]
          },
          "metadata": {
            "tags": []
          },
          "execution_count": 75
        }
      ]
    },
    {
      "cell_type": "code",
      "metadata": {
        "id": "tBm4S4gZXH7l",
        "outputId": "0579bcd3-c487-429c-828b-b7c02b48603c",
        "colab": {
          "base_uri": "https://localhost:8080/",
          "height": 204
        }
      },
      "source": [
        "ratings[:5]"
      ],
      "execution_count": 76,
      "outputs": [
        {
          "output_type": "execute_result",
          "data": {
            "text/html": [
              "<div>\n",
              "<style scoped>\n",
              "    .dataframe tbody tr th:only-of-type {\n",
              "        vertical-align: middle;\n",
              "    }\n",
              "\n",
              "    .dataframe tbody tr th {\n",
              "        vertical-align: top;\n",
              "    }\n",
              "\n",
              "    .dataframe thead th {\n",
              "        text-align: right;\n",
              "    }\n",
              "</style>\n",
              "<table border=\"1\" class=\"dataframe\">\n",
              "  <thead>\n",
              "    <tr style=\"text-align: right;\">\n",
              "      <th></th>\n",
              "      <th>user_id</th>\n",
              "      <th>movie_id</th>\n",
              "      <th>rating</th>\n",
              "      <th>timestamp</th>\n",
              "    </tr>\n",
              "  </thead>\n",
              "  <tbody>\n",
              "    <tr>\n",
              "      <th>0</th>\n",
              "      <td>1</td>\n",
              "      <td>1193</td>\n",
              "      <td>5.0</td>\n",
              "      <td>978300760.0</td>\n",
              "    </tr>\n",
              "    <tr>\n",
              "      <th>1</th>\n",
              "      <td>1</td>\n",
              "      <td>661</td>\n",
              "      <td>3.0</td>\n",
              "      <td>978302109.0</td>\n",
              "    </tr>\n",
              "    <tr>\n",
              "      <th>2</th>\n",
              "      <td>1</td>\n",
              "      <td>914</td>\n",
              "      <td>3.0</td>\n",
              "      <td>978301968.0</td>\n",
              "    </tr>\n",
              "    <tr>\n",
              "      <th>3</th>\n",
              "      <td>1</td>\n",
              "      <td>3408</td>\n",
              "      <td>4.0</td>\n",
              "      <td>978300275.0</td>\n",
              "    </tr>\n",
              "    <tr>\n",
              "      <th>4</th>\n",
              "      <td>1</td>\n",
              "      <td>2355</td>\n",
              "      <td>5.0</td>\n",
              "      <td>978824291.0</td>\n",
              "    </tr>\n",
              "  </tbody>\n",
              "</table>\n",
              "</div>"
            ],
            "text/plain": [
              "   user_id  movie_id  rating    timestamp\n",
              "0        1      1193     5.0  978300760.0\n",
              "1        1       661     3.0  978302109.0\n",
              "2        1       914     3.0  978301968.0\n",
              "3        1      3408     4.0  978300275.0\n",
              "4        1      2355     5.0  978824291.0"
            ]
          },
          "metadata": {
            "tags": []
          },
          "execution_count": 76
        }
      ]
    },
    {
      "cell_type": "code",
      "metadata": {
        "id": "7UNGhvLfXIvm",
        "outputId": "820163c0-a0eb-4bf5-f5e8-994b3ebf2d9c",
        "colab": {
          "base_uri": "https://localhost:8080/",
          "height": 204
        }
      },
      "source": [
        "movies[:5]"
      ],
      "execution_count": 77,
      "outputs": [
        {
          "output_type": "execute_result",
          "data": {
            "text/html": [
              "<div>\n",
              "<style scoped>\n",
              "    .dataframe tbody tr th:only-of-type {\n",
              "        vertical-align: middle;\n",
              "    }\n",
              "\n",
              "    .dataframe tbody tr th {\n",
              "        vertical-align: top;\n",
              "    }\n",
              "\n",
              "    .dataframe thead th {\n",
              "        text-align: right;\n",
              "    }\n",
              "</style>\n",
              "<table border=\"1\" class=\"dataframe\">\n",
              "  <thead>\n",
              "    <tr style=\"text-align: right;\">\n",
              "      <th></th>\n",
              "      <th>movie_id</th>\n",
              "      <th>title</th>\n",
              "      <th>genres</th>\n",
              "    </tr>\n",
              "  </thead>\n",
              "  <tbody>\n",
              "    <tr>\n",
              "      <th>0</th>\n",
              "      <td>1</td>\n",
              "      <td>Toy Story (1995)</td>\n",
              "      <td>Animation|Children's|Comedy</td>\n",
              "    </tr>\n",
              "    <tr>\n",
              "      <th>1</th>\n",
              "      <td>2</td>\n",
              "      <td>Jumanji (1995)</td>\n",
              "      <td>Adventure|Children's|Fantasy</td>\n",
              "    </tr>\n",
              "    <tr>\n",
              "      <th>2</th>\n",
              "      <td>3</td>\n",
              "      <td>Grumpier Old Men (1995)</td>\n",
              "      <td>Comedy|Romance</td>\n",
              "    </tr>\n",
              "    <tr>\n",
              "      <th>3</th>\n",
              "      <td>4</td>\n",
              "      <td>Waiting to Exhale (1995)</td>\n",
              "      <td>Comedy|Drama</td>\n",
              "    </tr>\n",
              "    <tr>\n",
              "      <th>4</th>\n",
              "      <td>5</td>\n",
              "      <td>Father of the Bride Part II (1995)</td>\n",
              "      <td>Comedy</td>\n",
              "    </tr>\n",
              "  </tbody>\n",
              "</table>\n",
              "</div>"
            ],
            "text/plain": [
              "   movie_id                               title                        genres\n",
              "0         1                    Toy Story (1995)   Animation|Children's|Comedy\n",
              "1         2                      Jumanji (1995)  Adventure|Children's|Fantasy\n",
              "2         3             Grumpier Old Men (1995)                Comedy|Romance\n",
              "3         4            Waiting to Exhale (1995)                  Comedy|Drama\n",
              "4         5  Father of the Bride Part II (1995)                        Comedy"
            ]
          },
          "metadata": {
            "tags": []
          },
          "execution_count": 77
        }
      ]
    },
    {
      "cell_type": "code",
      "metadata": {
        "id": "KJQjY3lwXKhd",
        "outputId": "43d8f6cb-42ae-4b5b-87fb-41cf1b6bd60e",
        "colab": {
          "base_uri": "https://localhost:8080/",
          "height": 419
        }
      },
      "source": [
        "ratings"
      ],
      "execution_count": 78,
      "outputs": [
        {
          "output_type": "execute_result",
          "data": {
            "text/html": [
              "<div>\n",
              "<style scoped>\n",
              "    .dataframe tbody tr th:only-of-type {\n",
              "        vertical-align: middle;\n",
              "    }\n",
              "\n",
              "    .dataframe tbody tr th {\n",
              "        vertical-align: top;\n",
              "    }\n",
              "\n",
              "    .dataframe thead th {\n",
              "        text-align: right;\n",
              "    }\n",
              "</style>\n",
              "<table border=\"1\" class=\"dataframe\">\n",
              "  <thead>\n",
              "    <tr style=\"text-align: right;\">\n",
              "      <th></th>\n",
              "      <th>user_id</th>\n",
              "      <th>movie_id</th>\n",
              "      <th>rating</th>\n",
              "      <th>timestamp</th>\n",
              "    </tr>\n",
              "  </thead>\n",
              "  <tbody>\n",
              "    <tr>\n",
              "      <th>0</th>\n",
              "      <td>1</td>\n",
              "      <td>1193</td>\n",
              "      <td>5.0</td>\n",
              "      <td>978300760.0</td>\n",
              "    </tr>\n",
              "    <tr>\n",
              "      <th>1</th>\n",
              "      <td>1</td>\n",
              "      <td>661</td>\n",
              "      <td>3.0</td>\n",
              "      <td>978302109.0</td>\n",
              "    </tr>\n",
              "    <tr>\n",
              "      <th>2</th>\n",
              "      <td>1</td>\n",
              "      <td>914</td>\n",
              "      <td>3.0</td>\n",
              "      <td>978301968.0</td>\n",
              "    </tr>\n",
              "    <tr>\n",
              "      <th>3</th>\n",
              "      <td>1</td>\n",
              "      <td>3408</td>\n",
              "      <td>4.0</td>\n",
              "      <td>978300275.0</td>\n",
              "    </tr>\n",
              "    <tr>\n",
              "      <th>4</th>\n",
              "      <td>1</td>\n",
              "      <td>2355</td>\n",
              "      <td>5.0</td>\n",
              "      <td>978824291.0</td>\n",
              "    </tr>\n",
              "    <tr>\n",
              "      <th>...</th>\n",
              "      <td>...</td>\n",
              "      <td>...</td>\n",
              "      <td>...</td>\n",
              "      <td>...</td>\n",
              "    </tr>\n",
              "    <tr>\n",
              "      <th>472546</th>\n",
              "      <td>2907</td>\n",
              "      <td>2889</td>\n",
              "      <td>3.0</td>\n",
              "      <td>972180282.0</td>\n",
              "    </tr>\n",
              "    <tr>\n",
              "      <th>472547</th>\n",
              "      <td>2907</td>\n",
              "      <td>473</td>\n",
              "      <td>2.0</td>\n",
              "      <td>972182730.0</td>\n",
              "    </tr>\n",
              "    <tr>\n",
              "      <th>472548</th>\n",
              "      <td>2907</td>\n",
              "      <td>2890</td>\n",
              "      <td>4.0</td>\n",
              "      <td>971838792.0</td>\n",
              "    </tr>\n",
              "    <tr>\n",
              "      <th>472549</th>\n",
              "      <td>2907</td>\n",
              "      <td>2891</td>\n",
              "      <td>2.0</td>\n",
              "      <td>971838422.0</td>\n",
              "    </tr>\n",
              "    <tr>\n",
              "      <th>472550</th>\n",
              "      <td>2907</td>\n",
              "      <td>3698</td>\n",
              "      <td>NaN</td>\n",
              "      <td>NaN</td>\n",
              "    </tr>\n",
              "  </tbody>\n",
              "</table>\n",
              "<p>472551 rows × 4 columns</p>\n",
              "</div>"
            ],
            "text/plain": [
              "        user_id  movie_id  rating    timestamp\n",
              "0             1      1193     5.0  978300760.0\n",
              "1             1       661     3.0  978302109.0\n",
              "2             1       914     3.0  978301968.0\n",
              "3             1      3408     4.0  978300275.0\n",
              "4             1      2355     5.0  978824291.0\n",
              "...         ...       ...     ...          ...\n",
              "472546     2907      2889     3.0  972180282.0\n",
              "472547     2907       473     2.0  972182730.0\n",
              "472548     2907      2890     4.0  971838792.0\n",
              "472549     2907      2891     2.0  971838422.0\n",
              "472550     2907      3698     NaN          NaN\n",
              "\n",
              "[472551 rows x 4 columns]"
            ]
          },
          "metadata": {
            "tags": []
          },
          "execution_count": 78
        }
      ]
    },
    {
      "cell_type": "code",
      "metadata": {
        "id": "-Aenvk_9XLrd"
      },
      "source": [
        "#나이와 직업 실제 나이값이 아니라 그룹을 가리키는코드 번호이며 데이터 셋에 있는 readme파일에 정보가 들어가 있다 \n",
        "#세종류의 테이블에 걸쳐있는 데이터를 분석하는 일은 단순한 일이 아니다.\n",
        "# 모든 데이터를 하나의 테이블로 병합하면 아주 쉽게 처리할 수 있다.\n",
        "\n",
        "#중복되는 두개의 테이블에서 중복되는 컬럼을 키로 사용한다. \n"
      ],
      "execution_count": 79,
      "outputs": []
    },
    {
      "cell_type": "code",
      "metadata": {
        "id": "jVp0MDcvXnKF",
        "outputId": "a1886430-15ad-4362-d916-df8a3cbd7c0e",
        "colab": {
          "base_uri": "https://localhost:8080/",
          "height": 1000
        }
      },
      "source": [
        "data = pd.merge(pd.merge(ratings, users), movies)\n",
        "data"
      ],
      "execution_count": 80,
      "outputs": [
        {
          "output_type": "execute_result",
          "data": {
            "text/html": [
              "<div>\n",
              "<style scoped>\n",
              "    .dataframe tbody tr th:only-of-type {\n",
              "        vertical-align: middle;\n",
              "    }\n",
              "\n",
              "    .dataframe tbody tr th {\n",
              "        vertical-align: top;\n",
              "    }\n",
              "\n",
              "    .dataframe thead th {\n",
              "        text-align: right;\n",
              "    }\n",
              "</style>\n",
              "<table border=\"1\" class=\"dataframe\">\n",
              "  <thead>\n",
              "    <tr style=\"text-align: right;\">\n",
              "      <th></th>\n",
              "      <th>user_id</th>\n",
              "      <th>movie_id</th>\n",
              "      <th>rating</th>\n",
              "      <th>timestamp</th>\n",
              "      <th>gender</th>\n",
              "      <th>age</th>\n",
              "      <th>occupation</th>\n",
              "      <th>zip</th>\n",
              "      <th>title</th>\n",
              "      <th>genres</th>\n",
              "    </tr>\n",
              "  </thead>\n",
              "  <tbody>\n",
              "    <tr>\n",
              "      <th>0</th>\n",
              "      <td>1</td>\n",
              "      <td>1193</td>\n",
              "      <td>5.0</td>\n",
              "      <td>978300760.0</td>\n",
              "      <td>F</td>\n",
              "      <td>1</td>\n",
              "      <td>10</td>\n",
              "      <td>48067</td>\n",
              "      <td>One Flew Over the Cuckoo's Nest (1975)</td>\n",
              "      <td>Drama</td>\n",
              "    </tr>\n",
              "    <tr>\n",
              "      <th>1</th>\n",
              "      <td>2</td>\n",
              "      <td>1193</td>\n",
              "      <td>5.0</td>\n",
              "      <td>978298413.0</td>\n",
              "      <td>M</td>\n",
              "      <td>56</td>\n",
              "      <td>16</td>\n",
              "      <td>70072</td>\n",
              "      <td>One Flew Over the Cuckoo's Nest (1975)</td>\n",
              "      <td>Drama</td>\n",
              "    </tr>\n",
              "    <tr>\n",
              "      <th>2</th>\n",
              "      <td>12</td>\n",
              "      <td>1193</td>\n",
              "      <td>4.0</td>\n",
              "      <td>978220179.0</td>\n",
              "      <td>M</td>\n",
              "      <td>25</td>\n",
              "      <td>12</td>\n",
              "      <td>32793</td>\n",
              "      <td>One Flew Over the Cuckoo's Nest (1975)</td>\n",
              "      <td>Drama</td>\n",
              "    </tr>\n",
              "    <tr>\n",
              "      <th>3</th>\n",
              "      <td>15</td>\n",
              "      <td>1193</td>\n",
              "      <td>4.0</td>\n",
              "      <td>978199279.0</td>\n",
              "      <td>M</td>\n",
              "      <td>25</td>\n",
              "      <td>7</td>\n",
              "      <td>22903</td>\n",
              "      <td>One Flew Over the Cuckoo's Nest (1975)</td>\n",
              "      <td>Drama</td>\n",
              "    </tr>\n",
              "    <tr>\n",
              "      <th>4</th>\n",
              "      <td>17</td>\n",
              "      <td>1193</td>\n",
              "      <td>5.0</td>\n",
              "      <td>978158471.0</td>\n",
              "      <td>M</td>\n",
              "      <td>50</td>\n",
              "      <td>1</td>\n",
              "      <td>95350</td>\n",
              "      <td>One Flew Over the Cuckoo's Nest (1975)</td>\n",
              "      <td>Drama</td>\n",
              "    </tr>\n",
              "    <tr>\n",
              "      <th>...</th>\n",
              "      <td>...</td>\n",
              "      <td>...</td>\n",
              "      <td>...</td>\n",
              "      <td>...</td>\n",
              "      <td>...</td>\n",
              "      <td>...</td>\n",
              "      <td>...</td>\n",
              "      <td>...</td>\n",
              "      <td>...</td>\n",
              "      <td>...</td>\n",
              "    </tr>\n",
              "    <tr>\n",
              "      <th>472546</th>\n",
              "      <td>2665</td>\n",
              "      <td>3533</td>\n",
              "      <td>1.0</td>\n",
              "      <td>974836472.0</td>\n",
              "      <td>M</td>\n",
              "      <td>35</td>\n",
              "      <td>11</td>\n",
              "      <td>98443</td>\n",
              "      <td>Actor's Revenge, An (Yukinojo Henge) (1963)</td>\n",
              "      <td>Drama</td>\n",
              "    </tr>\n",
              "    <tr>\n",
              "      <th>472547</th>\n",
              "      <td>2753</td>\n",
              "      <td>3533</td>\n",
              "      <td>3.0</td>\n",
              "      <td>973894942.0</td>\n",
              "      <td>F</td>\n",
              "      <td>50</td>\n",
              "      <td>20</td>\n",
              "      <td>27516</td>\n",
              "      <td>Actor's Revenge, An (Yukinojo Henge) (1963)</td>\n",
              "      <td>Drama</td>\n",
              "    </tr>\n",
              "    <tr>\n",
              "      <th>472548</th>\n",
              "      <td>2796</td>\n",
              "      <td>1851</td>\n",
              "      <td>4.0</td>\n",
              "      <td>997320494.0</td>\n",
              "      <td>M</td>\n",
              "      <td>25</td>\n",
              "      <td>14</td>\n",
              "      <td>92104</td>\n",
              "      <td>Leather Jacket Love Story (1997)</td>\n",
              "      <td>Drama|Romance</td>\n",
              "    </tr>\n",
              "    <tr>\n",
              "      <th>472549</th>\n",
              "      <td>2869</td>\n",
              "      <td>1830</td>\n",
              "      <td>5.0</td>\n",
              "      <td>972439040.0</td>\n",
              "      <td>M</td>\n",
              "      <td>50</td>\n",
              "      <td>17</td>\n",
              "      <td>07650</td>\n",
              "      <td>Follow the Bitch (1998)</td>\n",
              "      <td>Comedy</td>\n",
              "    </tr>\n",
              "    <tr>\n",
              "      <th>472550</th>\n",
              "      <td>2885</td>\n",
              "      <td>3881</td>\n",
              "      <td>5.0</td>\n",
              "      <td>972452947.0</td>\n",
              "      <td>F</td>\n",
              "      <td>18</td>\n",
              "      <td>1</td>\n",
              "      <td>80302</td>\n",
              "      <td>Bittersweet Motel (2000)</td>\n",
              "      <td>Documentary</td>\n",
              "    </tr>\n",
              "  </tbody>\n",
              "</table>\n",
              "<p>472551 rows × 10 columns</p>\n",
              "</div>"
            ],
            "text/plain": [
              "        user_id  ...         genres\n",
              "0             1  ...          Drama\n",
              "1             2  ...          Drama\n",
              "2            12  ...          Drama\n",
              "3            15  ...          Drama\n",
              "4            17  ...          Drama\n",
              "...         ...  ...            ...\n",
              "472546     2665  ...          Drama\n",
              "472547     2753  ...          Drama\n",
              "472548     2796  ...  Drama|Romance\n",
              "472549     2869  ...         Comedy\n",
              "472550     2885  ...    Documentary\n",
              "\n",
              "[472551 rows x 10 columns]"
            ]
          },
          "metadata": {
            "tags": []
          },
          "execution_count": 80
        }
      ]
    },
    {
      "cell_type": "code",
      "metadata": {
        "id": "y7HwPYlgXrk1",
        "outputId": "fb9548d9-3357-424d-90ce-db6a4c634a63",
        "colab": {
          "base_uri": "https://localhost:8080/"
        }
      },
      "source": [
        "data.iloc[0]"
      ],
      "execution_count": 81,
      "outputs": [
        {
          "output_type": "execute_result",
          "data": {
            "text/plain": [
              "user_id                                            1\n",
              "movie_id                                        1193\n",
              "rating                                             5\n",
              "timestamp                                9.78301e+08\n",
              "gender                                             F\n",
              "age                                                1\n",
              "occupation                                        10\n",
              "zip                                            48067\n",
              "title         One Flew Over the Cuckoo's Nest (1975)\n",
              "genres                                         Drama\n",
              "Name: 0, dtype: object"
            ]
          },
          "metadata": {
            "tags": []
          },
          "execution_count": 81
        }
      ]
    },
    {
      "cell_type": "code",
      "metadata": {
        "id": "lohc70p7Xs5l",
        "outputId": "9d366755-09e3-4715-9e0d-e8f0e2a5141a",
        "colab": {
          "base_uri": "https://localhost:8080/",
          "height": 235
        }
      },
      "source": [
        "mean_ratings = data.pivot_table('rating', index='title',\n",
        "                                columns='gender', aggfunc='mean')\n",
        "mean_ratings[:5]"
      ],
      "execution_count": 83,
      "outputs": [
        {
          "output_type": "execute_result",
          "data": {
            "text/html": [
              "<div>\n",
              "<style scoped>\n",
              "    .dataframe tbody tr th:only-of-type {\n",
              "        vertical-align: middle;\n",
              "    }\n",
              "\n",
              "    .dataframe tbody tr th {\n",
              "        vertical-align: top;\n",
              "    }\n",
              "\n",
              "    .dataframe thead th {\n",
              "        text-align: right;\n",
              "    }\n",
              "</style>\n",
              "<table border=\"1\" class=\"dataframe\">\n",
              "  <thead>\n",
              "    <tr style=\"text-align: right;\">\n",
              "      <th>gender</th>\n",
              "      <th>F</th>\n",
              "      <th>M</th>\n",
              "    </tr>\n",
              "    <tr>\n",
              "      <th>title</th>\n",
              "      <th></th>\n",
              "      <th></th>\n",
              "    </tr>\n",
              "  </thead>\n",
              "  <tbody>\n",
              "    <tr>\n",
              "      <th>$1,000,000 Duck (1971)</th>\n",
              "      <td>4.000000</td>\n",
              "      <td>2.692308</td>\n",
              "    </tr>\n",
              "    <tr>\n",
              "      <th>'Night Mother (1986)</th>\n",
              "      <td>3.500000</td>\n",
              "      <td>3.428571</td>\n",
              "    </tr>\n",
              "    <tr>\n",
              "      <th>'Til There Was You (1997)</th>\n",
              "      <td>2.650000</td>\n",
              "      <td>2.555556</td>\n",
              "    </tr>\n",
              "    <tr>\n",
              "      <th>'burbs, The (1989)</th>\n",
              "      <td>2.690476</td>\n",
              "      <td>2.907216</td>\n",
              "    </tr>\n",
              "    <tr>\n",
              "      <th>...And Justice for All (1979)</th>\n",
              "      <td>3.625000</td>\n",
              "      <td>3.630769</td>\n",
              "    </tr>\n",
              "  </tbody>\n",
              "</table>\n",
              "</div>"
            ],
            "text/plain": [
              "gender                                F         M\n",
              "title                                            \n",
              "$1,000,000 Duck (1971)         4.000000  2.692308\n",
              "'Night Mother (1986)           3.500000  3.428571\n",
              "'Til There Was You (1997)      2.650000  2.555556\n",
              "'burbs, The (1989)             2.690476  2.907216\n",
              "...And Justice for All (1979)  3.625000  3.630769"
            ]
          },
          "metadata": {
            "tags": []
          },
          "execution_count": 83
        }
      ]
    },
    {
      "cell_type": "code",
      "metadata": {
        "id": "n8vlHbPFX0lv"
      },
      "source": [
        "# 어떻게 하면 매 로우마다 성ㅁ별에 따른 평균 영화 평점 정보를 담고 있는 DataFrame객체가 생성된다\n",
        "# 250건 이상의 평점 정보가 있는 영화만 추려보자 \n",
        "\n",
        "#데이터를 영화 제목으로 그룹화 하고 size()를 이용해서 제목별 평점 정보 건수를 Series로 구하자. \n"
      ],
      "execution_count": 84,
      "outputs": []
    },
    {
      "cell_type": "code",
      "metadata": {
        "id": "5Q_oC7lHZpIW",
        "outputId": "e56c47ec-7922-40a5-bb45-bf6fd7497c1e",
        "colab": {
          "base_uri": "https://localhost:8080/"
        }
      },
      "source": [
        "ratings_by_title = data.groupby('title').size()\n",
        "ratings_by_title[:10]\n"
      ],
      "execution_count": 85,
      "outputs": [
        {
          "output_type": "execute_result",
          "data": {
            "text/plain": [
              "title\n",
              "$1,000,000 Duck (1971)                20\n",
              "'Night Mother (1986)                  26\n",
              "'Til There Was You (1997)             29\n",
              "'burbs, The (1989)                   139\n",
              "...And Justice for All (1979)         81\n",
              "10 Things I Hate About You (1999)    355\n",
              "101 Dalmatians (1961)                266\n",
              "101 Dalmatians (1996)                166\n",
              "12 Angry Men (1957)                  303\n",
              "13th Warrior, The (1999)             342\n",
              "dtype: int64"
            ]
          },
          "metadata": {
            "tags": []
          },
          "execution_count": 85
        }
      ]
    },
    {
      "cell_type": "code",
      "metadata": {
        "id": "D_6Kk-73Z8FG",
        "outputId": "3f9101a1-04a5-4fef-e8b1-f93a9aed7dbe",
        "colab": {
          "base_uri": "https://localhost:8080/"
        }
      },
      "source": [
        "\n",
        "active_titles = ratings_by_title.index[ratings_by_title >= 250]\n",
        "active_titles"
      ],
      "execution_count": 86,
      "outputs": [
        {
          "output_type": "execute_result",
          "data": {
            "text/plain": [
              "Index(['10 Things I Hate About You (1999)', '101 Dalmatians (1961)',\n",
              "       '12 Angry Men (1957)', '13th Warrior, The (1999)',\n",
              "       '20,000 Leagues Under the Sea (1954)', '2001: A Space Odyssey (1968)',\n",
              "       '28 Days (2000)', 'Abyss, The (1989)',\n",
              "       'Ace Ventura: Pet Detective (1994)', 'Addams Family, The (1991)',\n",
              "       ...\n",
              "       'Willy Wonka and the Chocolate Factory (1971)', 'Witness (1985)',\n",
              "       'Wizard of Oz, The (1939)', 'Wonder Boys (2000)',\n",
              "       'World Is Not Enough, The (1999)', 'Wrong Trousers, The (1993)',\n",
              "       'X-Files: Fight the Future, The (1998)', 'X-Men (2000)',\n",
              "       'You've Got Mail (1998)', 'Young Frankenstein (1974)'],\n",
              "      dtype='object', name='title', length=588)"
            ]
          },
          "metadata": {
            "tags": []
          },
          "execution_count": 86
        }
      ]
    },
    {
      "cell_type": "code",
      "metadata": {
        "id": "bpjEayG2Z8OW"
      },
      "source": [
        "#250개 이상의 평점 정보가 있는 영화에 대한 색인은 mean_ratings에서 항목을 선택하기 위해 사용할 수 있다. "
      ],
      "execution_count": 87,
      "outputs": []
    },
    {
      "cell_type": "code",
      "metadata": {
        "id": "a9bHkU_aaefB",
        "outputId": "4e3f55e1-3064-4c94-cec9-df5110275cb2",
        "colab": {
          "base_uri": "https://localhost:8080/",
          "height": 450
        }
      },
      "source": [
        "mean_ratings = mean_ratings.loc[active_titles]\n",
        "mean_ratings"
      ],
      "execution_count": 89,
      "outputs": [
        {
          "output_type": "execute_result",
          "data": {
            "text/html": [
              "<div>\n",
              "<style scoped>\n",
              "    .dataframe tbody tr th:only-of-type {\n",
              "        vertical-align: middle;\n",
              "    }\n",
              "\n",
              "    .dataframe tbody tr th {\n",
              "        vertical-align: top;\n",
              "    }\n",
              "\n",
              "    .dataframe thead th {\n",
              "        text-align: right;\n",
              "    }\n",
              "</style>\n",
              "<table border=\"1\" class=\"dataframe\">\n",
              "  <thead>\n",
              "    <tr style=\"text-align: right;\">\n",
              "      <th>gender</th>\n",
              "      <th>F</th>\n",
              "      <th>M</th>\n",
              "    </tr>\n",
              "    <tr>\n",
              "      <th>title</th>\n",
              "      <th></th>\n",
              "      <th></th>\n",
              "    </tr>\n",
              "  </thead>\n",
              "  <tbody>\n",
              "    <tr>\n",
              "      <th>10 Things I Hate About You (1999)</th>\n",
              "      <td>3.508772</td>\n",
              "      <td>3.298755</td>\n",
              "    </tr>\n",
              "    <tr>\n",
              "      <th>101 Dalmatians (1961)</th>\n",
              "      <td>3.655172</td>\n",
              "      <td>3.441341</td>\n",
              "    </tr>\n",
              "    <tr>\n",
              "      <th>12 Angry Men (1957)</th>\n",
              "      <td>4.194030</td>\n",
              "      <td>4.355932</td>\n",
              "    </tr>\n",
              "    <tr>\n",
              "      <th>13th Warrior, The (1999)</th>\n",
              "      <td>3.061224</td>\n",
              "      <td>3.143345</td>\n",
              "    </tr>\n",
              "    <tr>\n",
              "      <th>20,000 Leagues Under the Sea (1954)</th>\n",
              "      <td>3.804348</td>\n",
              "      <td>3.730088</td>\n",
              "    </tr>\n",
              "    <tr>\n",
              "      <th>...</th>\n",
              "      <td>...</td>\n",
              "      <td>...</td>\n",
              "    </tr>\n",
              "    <tr>\n",
              "      <th>Wrong Trousers, The (1993)</th>\n",
              "      <td>4.558824</td>\n",
              "      <td>4.521036</td>\n",
              "    </tr>\n",
              "    <tr>\n",
              "      <th>X-Files: Fight the Future, The (1998)</th>\n",
              "      <td>3.402597</td>\n",
              "      <td>3.460560</td>\n",
              "    </tr>\n",
              "    <tr>\n",
              "      <th>X-Men (2000)</th>\n",
              "      <td>3.579310</td>\n",
              "      <td>3.804949</td>\n",
              "    </tr>\n",
              "    <tr>\n",
              "      <th>You've Got Mail (1998)</th>\n",
              "      <td>3.594937</td>\n",
              "      <td>3.306122</td>\n",
              "    </tr>\n",
              "    <tr>\n",
              "      <th>Young Frankenstein (1974)</th>\n",
              "      <td>4.346774</td>\n",
              "      <td>4.284010</td>\n",
              "    </tr>\n",
              "  </tbody>\n",
              "</table>\n",
              "<p>588 rows × 2 columns</p>\n",
              "</div>"
            ],
            "text/plain": [
              "gender                                        F         M\n",
              "title                                                    \n",
              "10 Things I Hate About You (1999)      3.508772  3.298755\n",
              "101 Dalmatians (1961)                  3.655172  3.441341\n",
              "12 Angry Men (1957)                    4.194030  4.355932\n",
              "13th Warrior, The (1999)               3.061224  3.143345\n",
              "20,000 Leagues Under the Sea (1954)    3.804348  3.730088\n",
              "...                                         ...       ...\n",
              "Wrong Trousers, The (1993)             4.558824  4.521036\n",
              "X-Files: Fight the Future, The (1998)  3.402597  3.460560\n",
              "X-Men (2000)                           3.579310  3.804949\n",
              "You've Got Mail (1998)                 3.594937  3.306122\n",
              "Young Frankenstein (1974)              4.346774  4.284010\n",
              "\n",
              "[588 rows x 2 columns]"
            ]
          },
          "metadata": {
            "tags": []
          },
          "execution_count": 89
        }
      ]
    },
    {
      "cell_type": "code",
      "metadata": {
        "id": "-oz3n4H4akV2",
        "outputId": "0d41ffde-b06d-4cb7-d3f2-8c602ad030ea",
        "colab": {
          "base_uri": "https://localhost:8080/",
          "height": 390
        }
      },
      "source": [
        "top_female_ratings = mean_ratings.sort_values(by='F', ascending=False)\n",
        "top_female_ratings[:10]"
      ],
      "execution_count": 91,
      "outputs": [
        {
          "output_type": "execute_result",
          "data": {
            "text/html": [
              "<div>\n",
              "<style scoped>\n",
              "    .dataframe tbody tr th:only-of-type {\n",
              "        vertical-align: middle;\n",
              "    }\n",
              "\n",
              "    .dataframe tbody tr th {\n",
              "        vertical-align: top;\n",
              "    }\n",
              "\n",
              "    .dataframe thead th {\n",
              "        text-align: right;\n",
              "    }\n",
              "</style>\n",
              "<table border=\"1\" class=\"dataframe\">\n",
              "  <thead>\n",
              "    <tr style=\"text-align: right;\">\n",
              "      <th>gender</th>\n",
              "      <th>F</th>\n",
              "      <th>M</th>\n",
              "    </tr>\n",
              "    <tr>\n",
              "      <th>title</th>\n",
              "      <th></th>\n",
              "      <th></th>\n",
              "    </tr>\n",
              "  </thead>\n",
              "  <tbody>\n",
              "    <tr>\n",
              "      <th>Usual Suspects, The (1995)</th>\n",
              "      <td>4.613095</td>\n",
              "      <td>4.477918</td>\n",
              "    </tr>\n",
              "    <tr>\n",
              "      <th>Close Shave, A (1995)</th>\n",
              "      <td>4.561644</td>\n",
              "      <td>4.454545</td>\n",
              "    </tr>\n",
              "    <tr>\n",
              "      <th>Wrong Trousers, The (1993)</th>\n",
              "      <td>4.558824</td>\n",
              "      <td>4.521036</td>\n",
              "    </tr>\n",
              "    <tr>\n",
              "      <th>Schindler's List (1993)</th>\n",
              "      <td>4.554770</td>\n",
              "      <td>4.501174</td>\n",
              "    </tr>\n",
              "    <tr>\n",
              "      <th>Sixth Sense, The (1999)</th>\n",
              "      <td>4.522059</td>\n",
              "      <td>4.357591</td>\n",
              "    </tr>\n",
              "    <tr>\n",
              "      <th>Shawshank Redemption, The (1994)</th>\n",
              "      <td>4.514599</td>\n",
              "      <td>4.538760</td>\n",
              "    </tr>\n",
              "    <tr>\n",
              "      <th>To Kill a Mockingbird (1962)</th>\n",
              "      <td>4.492537</td>\n",
              "      <td>4.429967</td>\n",
              "    </tr>\n",
              "    <tr>\n",
              "      <th>Some Like It Hot (1959)</th>\n",
              "      <td>4.458716</td>\n",
              "      <td>4.188811</td>\n",
              "    </tr>\n",
              "    <tr>\n",
              "      <th>Life Is Beautiful (La Vita � bella) (1997)</th>\n",
              "      <td>4.447059</td>\n",
              "      <td>4.277228</td>\n",
              "    </tr>\n",
              "    <tr>\n",
              "      <th>Philadelphia Story, The (1940)</th>\n",
              "      <td>4.439252</td>\n",
              "      <td>4.159509</td>\n",
              "    </tr>\n",
              "  </tbody>\n",
              "</table>\n",
              "</div>"
            ],
            "text/plain": [
              "gender                                             F         M\n",
              "title                                                         \n",
              "Usual Suspects, The (1995)                  4.613095  4.477918\n",
              "Close Shave, A (1995)                       4.561644  4.454545\n",
              "Wrong Trousers, The (1993)                  4.558824  4.521036\n",
              "Schindler's List (1993)                     4.554770  4.501174\n",
              "Sixth Sense, The (1999)                     4.522059  4.357591\n",
              "Shawshank Redemption, The (1994)            4.514599  4.538760\n",
              "To Kill a Mockingbird (1962)                4.492537  4.429967\n",
              "Some Like It Hot (1959)                     4.458716  4.188811\n",
              "Life Is Beautiful (La Vita � bella) (1997)  4.447059  4.277228\n",
              "Philadelphia Story, The (1940)              4.439252  4.159509"
            ]
          },
          "metadata": {
            "tags": []
          },
          "execution_count": 91
        }
      ]
    },
    {
      "cell_type": "code",
      "metadata": {
        "id": "v2BcYPEkbGN4"
      },
      "source": [
        ""
      ],
      "execution_count": null,
      "outputs": []
    }
  ]
}